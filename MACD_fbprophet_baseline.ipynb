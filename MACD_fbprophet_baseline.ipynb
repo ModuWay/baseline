{
 "cells": [
  {
   "cell_type": "markdown",
   "id": "classical-heaven",
   "metadata": {
    "id": "NGHEwc8Ipc8q"
   },
   "source": [
    "# fbprophet 모델을 활용한 인공지능 비트 트레이더 경진대회 베이스라인 코드\n",
    "\n",
    "## Dataset \n",
    "* MACD 지표 추가 \n",
    "\n",
    "## Model\n",
    "* fbprophet"
   ]
  },
  {
   "cell_type": "code",
   "execution_count": 31,
   "id": "unique-horse",
   "metadata": {
    "ExecuteTime": {
     "end_time": "2021-03-26T07:34:29.636812Z",
     "start_time": "2021-03-26T07:34:29.634827Z"
    },
    "colab": {
     "base_uri": "https://localhost:8080/"
    },
    "id": "z2fmFoSAr3Z4",
    "outputId": "7bc11f75-827a-4804-cc49-4d7b2743a7f6"
   },
   "outputs": [],
   "source": [
    "# !pip install statsmodels==0.11.1\n",
    "# !pip install fbprophet\n",
    "# !pip install plotly"
   ]
  },
  {
   "cell_type": "markdown",
   "id": "surgical-contrast",
   "metadata": {
    "id": "DWFN7rLkpc8z"
   },
   "source": [
    "# 1. Library Import"
   ]
  },
  {
   "cell_type": "code",
   "execution_count": 32,
   "id": "dedicated-cincinnati",
   "metadata": {
    "ExecuteTime": {
     "end_time": "2021-03-26T07:34:32.362579Z",
     "start_time": "2021-03-26T07:34:31.602589Z"
    },
    "id": "yyFoOWXPpc8z"
   },
   "outputs": [],
   "source": [
    "import numpy as np\n",
    "import pandas as pd\n",
    "import gc\n",
    "import math\n",
    "import os.path\n",
    "import time\n",
    "import matplotlib.pyplot as plt\n",
    "from datetime import timedelta, datetime\n",
    "from dateutil import parser\n",
    "from tqdm import tqdm\n",
    "import copy\n",
    "from statsmodels.tsa.arima.model import ARIMA\n",
    "from statsmodels.graphics.tsaplots import plot_acf, plot_pacf\n",
    "from fbprophet import Prophet\n",
    "import warnings\n",
    "import datetime\n",
    "from plotly import tools \n",
    "import plotly.offline as offline \n",
    "import plotly.graph_objs as go \n",
    "warnings.filterwarnings(\"ignore\")"
   ]
  },
  {
   "cell_type": "markdown",
   "id": "greenhouse-dream",
   "metadata": {
    "id": "DbSjRtv9pc80"
   },
   "source": [
    "# 2. 데이터 불러오기"
   ]
  },
  {
   "cell_type": "markdown",
   "id": "happy-recruitment",
   "metadata": {
    "id": "r1Gj0sBXpc81"
   },
   "source": [
    "## 1) read_csv"
   ]
  },
  {
   "cell_type": "code",
   "execution_count": 33,
   "id": "advanced-bacon",
   "metadata": {
    "ExecuteTime": {
     "end_time": "2021-03-26T07:34:45.227463Z",
     "start_time": "2021-03-26T07:34:32.374931Z"
    },
    "id": "zD66e_8opc81"
   },
   "outputs": [],
   "source": [
    "data_path = os.getenv('HOME') + '/ModuWay/data'\n",
    "train_x_df = pd.read_csv(data_path  + \"/train_x_df.csv\")\n",
    "train_y_df = pd.read_csv(data_path  + \"/train_y_df.csv\")\n",
    "test_x_df = pd.read_csv(data_path  + \"/test_x_df.csv\")"
   ]
  },
  {
   "cell_type": "code",
   "execution_count": 34,
   "id": "wireless-halloween",
   "metadata": {},
   "outputs": [
    {
     "data": {
      "text/html": [
       "<div>\n",
       "<style scoped>\n",
       "    .dataframe tbody tr th:only-of-type {\n",
       "        vertical-align: middle;\n",
       "    }\n",
       "\n",
       "    .dataframe tbody tr th {\n",
       "        vertical-align: top;\n",
       "    }\n",
       "\n",
       "    .dataframe thead th {\n",
       "        text-align: right;\n",
       "    }\n",
       "</style>\n",
       "<table border=\"1\" class=\"dataframe\">\n",
       "  <thead>\n",
       "    <tr style=\"text-align: right;\">\n",
       "      <th></th>\n",
       "      <th>sample_id</th>\n",
       "      <th>time</th>\n",
       "      <th>coin_index</th>\n",
       "      <th>open</th>\n",
       "      <th>high</th>\n",
       "      <th>low</th>\n",
       "      <th>close</th>\n",
       "      <th>volume</th>\n",
       "      <th>quote_av</th>\n",
       "      <th>trades</th>\n",
       "      <th>tb_base_av</th>\n",
       "      <th>tb_quote_av</th>\n",
       "    </tr>\n",
       "  </thead>\n",
       "  <tbody>\n",
       "    <tr>\n",
       "      <th>0</th>\n",
       "      <td>0</td>\n",
       "      <td>0</td>\n",
       "      <td>7</td>\n",
       "      <td>1.010004</td>\n",
       "      <td>1.010004</td>\n",
       "      <td>1.009612</td>\n",
       "      <td>1.010004</td>\n",
       "      <td>8.382875e+05</td>\n",
       "      <td>43160.632812</td>\n",
       "      <td>451.157288</td>\n",
       "      <td>7.326834e+05</td>\n",
       "      <td>37725.183594</td>\n",
       "    </tr>\n",
       "    <tr>\n",
       "      <th>1</th>\n",
       "      <td>0</td>\n",
       "      <td>1</td>\n",
       "      <td>7</td>\n",
       "      <td>1.009808</td>\n",
       "      <td>1.009808</td>\n",
       "      <td>1.009808</td>\n",
       "      <td>1.009808</td>\n",
       "      <td>1.622420e+05</td>\n",
       "      <td>8352.220703</td>\n",
       "      <td>39.231071</td>\n",
       "      <td>0.000000e+00</td>\n",
       "      <td>0.000000</td>\n",
       "    </tr>\n",
       "    <tr>\n",
       "      <th>2</th>\n",
       "      <td>0</td>\n",
       "      <td>2</td>\n",
       "      <td>7</td>\n",
       "      <td>1.009808</td>\n",
       "      <td>1.010200</td>\n",
       "      <td>1.009808</td>\n",
       "      <td>1.010200</td>\n",
       "      <td>1.664967e+04</td>\n",
       "      <td>857.377808</td>\n",
       "      <td>58.846603</td>\n",
       "      <td>1.664967e+04</td>\n",
       "      <td>857.377808</td>\n",
       "    </tr>\n",
       "    <tr>\n",
       "      <th>3</th>\n",
       "      <td>0</td>\n",
       "      <td>3</td>\n",
       "      <td>7</td>\n",
       "      <td>1.010200</td>\n",
       "      <td>1.011181</td>\n",
       "      <td>1.010200</td>\n",
       "      <td>1.011181</td>\n",
       "      <td>2.586971e+06</td>\n",
       "      <td>133310.343750</td>\n",
       "      <td>431.541779</td>\n",
       "      <td>2.189147e+06</td>\n",
       "      <td>112811.046875</td>\n",
       "    </tr>\n",
       "    <tr>\n",
       "      <th>4</th>\n",
       "      <td>0</td>\n",
       "      <td>4</td>\n",
       "      <td>7</td>\n",
       "      <td>1.010985</td>\n",
       "      <td>1.010985</td>\n",
       "      <td>1.010200</td>\n",
       "      <td>1.010200</td>\n",
       "      <td>1.129996e+06</td>\n",
       "      <td>58216.867188</td>\n",
       "      <td>176.539810</td>\n",
       "      <td>0.000000e+00</td>\n",
       "      <td>0.000000</td>\n",
       "    </tr>\n",
       "  </tbody>\n",
       "</table>\n",
       "</div>"
      ],
      "text/plain": [
       "   sample_id  time  coin_index      open      high       low     close  \\\n",
       "0          0     0           7  1.010004  1.010004  1.009612  1.010004   \n",
       "1          0     1           7  1.009808  1.009808  1.009808  1.009808   \n",
       "2          0     2           7  1.009808  1.010200  1.009808  1.010200   \n",
       "3          0     3           7  1.010200  1.011181  1.010200  1.011181   \n",
       "4          0     4           7  1.010985  1.010985  1.010200  1.010200   \n",
       "\n",
       "         volume       quote_av      trades    tb_base_av    tb_quote_av  \n",
       "0  8.382875e+05   43160.632812  451.157288  7.326834e+05   37725.183594  \n",
       "1  1.622420e+05    8352.220703   39.231071  0.000000e+00       0.000000  \n",
       "2  1.664967e+04     857.377808   58.846603  1.664967e+04     857.377808  \n",
       "3  2.586971e+06  133310.343750  431.541779  2.189147e+06  112811.046875  \n",
       "4  1.129996e+06   58216.867188  176.539810  0.000000e+00       0.000000  "
      ]
     },
     "execution_count": 34,
     "metadata": {},
     "output_type": "execute_result"
    }
   ],
   "source": [
    "train_x_df.head()"
   ]
  },
  {
   "cell_type": "markdown",
   "id": "oriental-figure",
   "metadata": {},
   "source": [
    "* sample_id : 개별 샘플의 인덱스\n",
    "* time : x_df는 0분 ~ 1379분, y_df는 0분 ~ 119분의 값을 갖습니다. 동일한 샘플 내 시간 정보\n",
    "* coin_index : 10가지 종류의 코인에 대한 비식별화 인덱스 (0 ~9)\n",
    "* open : open price\n",
    "* high : high price\n",
    "* low : low price\n",
    "* close : close price\n",
    "* volume : 거래량\n",
    "* quote_av : quote asset volume\n",
    "* trades : 거래 건 수\n",
    "* tb_base_av : taker buy base asset volume\n",
    "* tb_quote_av : taker buy quote asset volume"
   ]
  },
  {
   "cell_type": "code",
   "execution_count": 35,
   "id": "suitable-crazy",
   "metadata": {
    "ExecuteTime": {
     "end_time": "2021-03-26T07:44:55.441439Z",
     "start_time": "2021-03-26T07:41:05.814574Z"
    }
   },
   "outputs": [],
   "source": [
    "# # train_x_macd_df, train_y_macd_df, test_x_macd_df 저장\n",
    "# train_x_df.to_csv(data_path + '/train_x_macd_df.csv')\n",
    "# train_y_df.to_csv(data_path + '/train_y_macd_df.csv')\n",
    "# test_x_df.to_csv(data_path + '/test_x_macd_df.csv')"
   ]
  },
  {
   "cell_type": "code",
   "execution_count": 36,
   "id": "mexican-stroke",
   "metadata": {
    "ExecuteTime": {
     "end_time": "2021-03-26T08:31:57.693218Z",
     "start_time": "2021-03-26T08:31:28.430764Z"
    }
   },
   "outputs": [],
   "source": [
    "train_x_macd_df = pd.read_csv(data_path  + \"/train_x_macd_df.csv\")\n",
    "train_y_macd_df = pd.read_csv(data_path  + \"/train_y_macd_df.csv\")\n",
    "test_x_macd_df = pd.read_csv(data_path  + \"/test_x_macd_df.csv\")"
   ]
  },
  {
   "cell_type": "code",
   "execution_count": 37,
   "id": "ultimate-credits",
   "metadata": {},
   "outputs": [
    {
     "data": {
      "text/html": [
       "<div>\n",
       "<style scoped>\n",
       "    .dataframe tbody tr th:only-of-type {\n",
       "        vertical-align: middle;\n",
       "    }\n",
       "\n",
       "    .dataframe tbody tr th {\n",
       "        vertical-align: top;\n",
       "    }\n",
       "\n",
       "    .dataframe thead th {\n",
       "        text-align: right;\n",
       "    }\n",
       "</style>\n",
       "<table border=\"1\" class=\"dataframe\">\n",
       "  <thead>\n",
       "    <tr style=\"text-align: right;\">\n",
       "      <th></th>\n",
       "      <th>Unnamed: 0</th>\n",
       "      <th>sample_id</th>\n",
       "      <th>time</th>\n",
       "      <th>coin_index</th>\n",
       "      <th>open</th>\n",
       "      <th>high</th>\n",
       "      <th>low</th>\n",
       "      <th>close</th>\n",
       "      <th>volume</th>\n",
       "      <th>quote_av</th>\n",
       "      <th>trades</th>\n",
       "      <th>tb_base_av</th>\n",
       "      <th>tb_quote_av</th>\n",
       "      <th>sma7</th>\n",
       "      <th>sma25</th>\n",
       "      <th>ma_12</th>\n",
       "      <th>ma_26</th>\n",
       "      <th>macd</th>\n",
       "      <th>macds</th>\n",
       "      <th>macdo</th>\n",
       "    </tr>\n",
       "  </thead>\n",
       "  <tbody>\n",
       "    <tr>\n",
       "      <th>0</th>\n",
       "      <td>0</td>\n",
       "      <td>0</td>\n",
       "      <td>0</td>\n",
       "      <td>7</td>\n",
       "      <td>1.010004</td>\n",
       "      <td>1.010004</td>\n",
       "      <td>1.009612</td>\n",
       "      <td>1.010004</td>\n",
       "      <td>8.382875e+05</td>\n",
       "      <td>43160.632812</td>\n",
       "      <td>451.157288</td>\n",
       "      <td>7.326834e+05</td>\n",
       "      <td>37725.183594</td>\n",
       "      <td>1.010004</td>\n",
       "      <td>1.010004</td>\n",
       "      <td>1.010004</td>\n",
       "      <td>1.010004</td>\n",
       "      <td>0.000000</td>\n",
       "      <td>0.000000</td>\n",
       "      <td>0.000000</td>\n",
       "    </tr>\n",
       "    <tr>\n",
       "      <th>1</th>\n",
       "      <td>1</td>\n",
       "      <td>0</td>\n",
       "      <td>1</td>\n",
       "      <td>7</td>\n",
       "      <td>1.009808</td>\n",
       "      <td>1.009808</td>\n",
       "      <td>1.009808</td>\n",
       "      <td>1.009808</td>\n",
       "      <td>1.622420e+05</td>\n",
       "      <td>8352.220703</td>\n",
       "      <td>39.231071</td>\n",
       "      <td>0.000000e+00</td>\n",
       "      <td>0.000000</td>\n",
       "      <td>1.009906</td>\n",
       "      <td>1.009906</td>\n",
       "      <td>1.009898</td>\n",
       "      <td>1.009902</td>\n",
       "      <td>-0.000004</td>\n",
       "      <td>-0.000002</td>\n",
       "      <td>-0.000002</td>\n",
       "    </tr>\n",
       "    <tr>\n",
       "      <th>2</th>\n",
       "      <td>2</td>\n",
       "      <td>0</td>\n",
       "      <td>2</td>\n",
       "      <td>7</td>\n",
       "      <td>1.009808</td>\n",
       "      <td>1.010200</td>\n",
       "      <td>1.009808</td>\n",
       "      <td>1.010200</td>\n",
       "      <td>1.664967e+04</td>\n",
       "      <td>857.377808</td>\n",
       "      <td>58.846603</td>\n",
       "      <td>1.664967e+04</td>\n",
       "      <td>857.377808</td>\n",
       "      <td>1.010004</td>\n",
       "      <td>1.010004</td>\n",
       "      <td>1.010016</td>\n",
       "      <td>1.010009</td>\n",
       "      <td>0.000007</td>\n",
       "      <td>0.000001</td>\n",
       "      <td>0.000005</td>\n",
       "    </tr>\n",
       "    <tr>\n",
       "      <th>3</th>\n",
       "      <td>3</td>\n",
       "      <td>0</td>\n",
       "      <td>3</td>\n",
       "      <td>7</td>\n",
       "      <td>1.010200</td>\n",
       "      <td>1.011181</td>\n",
       "      <td>1.010200</td>\n",
       "      <td>1.011181</td>\n",
       "      <td>2.586971e+06</td>\n",
       "      <td>133310.343750</td>\n",
       "      <td>431.541779</td>\n",
       "      <td>2.189147e+06</td>\n",
       "      <td>112811.046875</td>\n",
       "      <td>1.010298</td>\n",
       "      <td>1.010298</td>\n",
       "      <td>1.010383</td>\n",
       "      <td>1.010337</td>\n",
       "      <td>0.000047</td>\n",
       "      <td>0.000017</td>\n",
       "      <td>0.000030</td>\n",
       "    </tr>\n",
       "    <tr>\n",
       "      <th>4</th>\n",
       "      <td>4</td>\n",
       "      <td>0</td>\n",
       "      <td>4</td>\n",
       "      <td>7</td>\n",
       "      <td>1.010985</td>\n",
       "      <td>1.010985</td>\n",
       "      <td>1.010200</td>\n",
       "      <td>1.010200</td>\n",
       "      <td>1.129996e+06</td>\n",
       "      <td>58216.867188</td>\n",
       "      <td>176.539810</td>\n",
       "      <td>0.000000e+00</td>\n",
       "      <td>0.000000</td>\n",
       "      <td>1.010279</td>\n",
       "      <td>1.010279</td>\n",
       "      <td>1.010334</td>\n",
       "      <td>1.010305</td>\n",
       "      <td>0.000029</td>\n",
       "      <td>0.000020</td>\n",
       "      <td>0.000008</td>\n",
       "    </tr>\n",
       "  </tbody>\n",
       "</table>\n",
       "</div>"
      ],
      "text/plain": [
       "   Unnamed: 0  sample_id  time  coin_index      open      high       low  \\\n",
       "0           0          0     0           7  1.010004  1.010004  1.009612   \n",
       "1           1          0     1           7  1.009808  1.009808  1.009808   \n",
       "2           2          0     2           7  1.009808  1.010200  1.009808   \n",
       "3           3          0     3           7  1.010200  1.011181  1.010200   \n",
       "4           4          0     4           7  1.010985  1.010985  1.010200   \n",
       "\n",
       "      close        volume       quote_av      trades    tb_base_av  \\\n",
       "0  1.010004  8.382875e+05   43160.632812  451.157288  7.326834e+05   \n",
       "1  1.009808  1.622420e+05    8352.220703   39.231071  0.000000e+00   \n",
       "2  1.010200  1.664967e+04     857.377808   58.846603  1.664967e+04   \n",
       "3  1.011181  2.586971e+06  133310.343750  431.541779  2.189147e+06   \n",
       "4  1.010200  1.129996e+06   58216.867188  176.539810  0.000000e+00   \n",
       "\n",
       "     tb_quote_av      sma7     sma25     ma_12     ma_26      macd     macds  \\\n",
       "0   37725.183594  1.010004  1.010004  1.010004  1.010004  0.000000  0.000000   \n",
       "1       0.000000  1.009906  1.009906  1.009898  1.009902 -0.000004 -0.000002   \n",
       "2     857.377808  1.010004  1.010004  1.010016  1.010009  0.000007  0.000001   \n",
       "3  112811.046875  1.010298  1.010298  1.010383  1.010337  0.000047  0.000017   \n",
       "4       0.000000  1.010279  1.010279  1.010334  1.010305  0.000029  0.000020   \n",
       "\n",
       "      macdo  \n",
       "0  0.000000  \n",
       "1 -0.000002  \n",
       "2  0.000005  \n",
       "3  0.000030  \n",
       "4  0.000008  "
      ]
     },
     "execution_count": 37,
     "metadata": {},
     "output_type": "execute_result"
    }
   ],
   "source": [
    "train_x_macd_df.head()"
   ]
  },
  {
   "cell_type": "code",
   "execution_count": 38,
   "id": "lyric-arabic",
   "metadata": {},
   "outputs": [
    {
     "data": {
      "text/html": [
       "<div>\n",
       "<style scoped>\n",
       "    .dataframe tbody tr th:only-of-type {\n",
       "        vertical-align: middle;\n",
       "    }\n",
       "\n",
       "    .dataframe tbody tr th {\n",
       "        vertical-align: top;\n",
       "    }\n",
       "\n",
       "    .dataframe thead th {\n",
       "        text-align: right;\n",
       "    }\n",
       "</style>\n",
       "<table border=\"1\" class=\"dataframe\">\n",
       "  <thead>\n",
       "    <tr style=\"text-align: right;\">\n",
       "      <th></th>\n",
       "      <th>Unnamed: 0</th>\n",
       "      <th>sample_id</th>\n",
       "      <th>time</th>\n",
       "      <th>coin_index</th>\n",
       "      <th>open</th>\n",
       "      <th>high</th>\n",
       "      <th>low</th>\n",
       "      <th>close</th>\n",
       "      <th>volume</th>\n",
       "      <th>quote_av</th>\n",
       "      <th>trades</th>\n",
       "      <th>tb_base_av</th>\n",
       "      <th>tb_quote_av</th>\n",
       "      <th>sma7</th>\n",
       "      <th>sma25</th>\n",
       "      <th>ma_12</th>\n",
       "      <th>ma_26</th>\n",
       "      <th>macd</th>\n",
       "      <th>macds</th>\n",
       "      <th>macdo</th>\n",
       "    </tr>\n",
       "  </thead>\n",
       "  <tbody>\n",
       "    <tr>\n",
       "      <th>0</th>\n",
       "      <td>0</td>\n",
       "      <td>0</td>\n",
       "      <td>0</td>\n",
       "      <td>7</td>\n",
       "      <td>1.000392</td>\n",
       "      <td>1.000588</td>\n",
       "      <td>1.000392</td>\n",
       "      <td>1.000588</td>\n",
       "      <td>8.305119e+05</td>\n",
       "      <td>42356.179688</td>\n",
       "      <td>137.308746</td>\n",
       "      <td>8.305119e+05</td>\n",
       "      <td>42356.179688</td>\n",
       "      <td>1.000588</td>\n",
       "      <td>1.000588</td>\n",
       "      <td>1.000588</td>\n",
       "      <td>1.000588</td>\n",
       "      <td>0.000000</td>\n",
       "      <td>0.000000</td>\n",
       "      <td>0.000000</td>\n",
       "    </tr>\n",
       "    <tr>\n",
       "      <th>1</th>\n",
       "      <td>1</td>\n",
       "      <td>0</td>\n",
       "      <td>1</td>\n",
       "      <td>7</td>\n",
       "      <td>1.000588</td>\n",
       "      <td>1.001177</td>\n",
       "      <td>1.000392</td>\n",
       "      <td>1.001177</td>\n",
       "      <td>5.320066e+05</td>\n",
       "      <td>27140.638672</td>\n",
       "      <td>294.233032</td>\n",
       "      <td>4.882738e+05</td>\n",
       "      <td>24909.861328</td>\n",
       "      <td>1.000883</td>\n",
       "      <td>1.000883</td>\n",
       "      <td>1.000907</td>\n",
       "      <td>1.000894</td>\n",
       "      <td>0.000013</td>\n",
       "      <td>0.000007</td>\n",
       "      <td>0.000006</td>\n",
       "    </tr>\n",
       "    <tr>\n",
       "      <th>2</th>\n",
       "      <td>2</td>\n",
       "      <td>0</td>\n",
       "      <td>2</td>\n",
       "      <td>7</td>\n",
       "      <td>1.001177</td>\n",
       "      <td>1.001177</td>\n",
       "      <td>1.001177</td>\n",
       "      <td>1.001177</td>\n",
       "      <td>5.113770e+05</td>\n",
       "      <td>26100.681641</td>\n",
       "      <td>58.846603</td>\n",
       "      <td>5.113770e+05</td>\n",
       "      <td>26100.681641</td>\n",
       "      <td>1.000981</td>\n",
       "      <td>1.000981</td>\n",
       "      <td>1.001012</td>\n",
       "      <td>1.000996</td>\n",
       "      <td>0.000017</td>\n",
       "      <td>0.000011</td>\n",
       "      <td>0.000006</td>\n",
       "    </tr>\n",
       "    <tr>\n",
       "      <th>3</th>\n",
       "      <td>3</td>\n",
       "      <td>0</td>\n",
       "      <td>3</td>\n",
       "      <td>7</td>\n",
       "      <td>1.001177</td>\n",
       "      <td>1.001373</td>\n",
       "      <td>1.001177</td>\n",
       "      <td>1.001373</td>\n",
       "      <td>1.134853e+06</td>\n",
       "      <td>57929.410156</td>\n",
       "      <td>137.308746</td>\n",
       "      <td>1.095514e+06</td>\n",
       "      <td>55921.156250</td>\n",
       "      <td>1.001079</td>\n",
       "      <td>1.001079</td>\n",
       "      <td>1.001126</td>\n",
       "      <td>1.001101</td>\n",
       "      <td>0.000025</td>\n",
       "      <td>0.000016</td>\n",
       "      <td>0.000009</td>\n",
       "    </tr>\n",
       "    <tr>\n",
       "      <th>4</th>\n",
       "      <td>4</td>\n",
       "      <td>0</td>\n",
       "      <td>4</td>\n",
       "      <td>7</td>\n",
       "      <td>1.000981</td>\n",
       "      <td>1.000981</td>\n",
       "      <td>0.999804</td>\n",
       "      <td>1.000196</td>\n",
       "      <td>5.801173e+06</td>\n",
       "      <td>295872.343750</td>\n",
       "      <td>666.928162</td>\n",
       "      <td>9.911239e+05</td>\n",
       "      <td>50528.589844</td>\n",
       "      <td>1.000902</td>\n",
       "      <td>1.000902</td>\n",
       "      <td>1.000874</td>\n",
       "      <td>1.000891</td>\n",
       "      <td>-0.000018</td>\n",
       "      <td>0.000006</td>\n",
       "      <td>-0.000024</td>\n",
       "    </tr>\n",
       "  </tbody>\n",
       "</table>\n",
       "</div>"
      ],
      "text/plain": [
       "   Unnamed: 0  sample_id  time  coin_index      open      high       low  \\\n",
       "0           0          0     0           7  1.000392  1.000588  1.000392   \n",
       "1           1          0     1           7  1.000588  1.001177  1.000392   \n",
       "2           2          0     2           7  1.001177  1.001177  1.001177   \n",
       "3           3          0     3           7  1.001177  1.001373  1.001177   \n",
       "4           4          0     4           7  1.000981  1.000981  0.999804   \n",
       "\n",
       "      close        volume       quote_av      trades    tb_base_av  \\\n",
       "0  1.000588  8.305119e+05   42356.179688  137.308746  8.305119e+05   \n",
       "1  1.001177  5.320066e+05   27140.638672  294.233032  4.882738e+05   \n",
       "2  1.001177  5.113770e+05   26100.681641   58.846603  5.113770e+05   \n",
       "3  1.001373  1.134853e+06   57929.410156  137.308746  1.095514e+06   \n",
       "4  1.000196  5.801173e+06  295872.343750  666.928162  9.911239e+05   \n",
       "\n",
       "    tb_quote_av      sma7     sma25     ma_12     ma_26      macd     macds  \\\n",
       "0  42356.179688  1.000588  1.000588  1.000588  1.000588  0.000000  0.000000   \n",
       "1  24909.861328  1.000883  1.000883  1.000907  1.000894  0.000013  0.000007   \n",
       "2  26100.681641  1.000981  1.000981  1.001012  1.000996  0.000017  0.000011   \n",
       "3  55921.156250  1.001079  1.001079  1.001126  1.001101  0.000025  0.000016   \n",
       "4  50528.589844  1.000902  1.000902  1.000874  1.000891 -0.000018  0.000006   \n",
       "\n",
       "      macdo  \n",
       "0  0.000000  \n",
       "1  0.000006  \n",
       "2  0.000006  \n",
       "3  0.000009  \n",
       "4 -0.000024  "
      ]
     },
     "execution_count": 38,
     "metadata": {},
     "output_type": "execute_result"
    }
   ],
   "source": [
    "train_y_macd_df.head()"
   ]
  },
  {
   "cell_type": "code",
   "execution_count": 39,
   "id": "northern-plumbing",
   "metadata": {
    "scrolled": true
   },
   "outputs": [
    {
     "data": {
      "text/html": [
       "<div>\n",
       "<style scoped>\n",
       "    .dataframe tbody tr th:only-of-type {\n",
       "        vertical-align: middle;\n",
       "    }\n",
       "\n",
       "    .dataframe tbody tr th {\n",
       "        vertical-align: top;\n",
       "    }\n",
       "\n",
       "    .dataframe thead th {\n",
       "        text-align: right;\n",
       "    }\n",
       "</style>\n",
       "<table border=\"1\" class=\"dataframe\">\n",
       "  <thead>\n",
       "    <tr style=\"text-align: right;\">\n",
       "      <th></th>\n",
       "      <th>Unnamed: 0</th>\n",
       "      <th>sample_id</th>\n",
       "      <th>time</th>\n",
       "      <th>coin_index</th>\n",
       "      <th>open</th>\n",
       "      <th>high</th>\n",
       "      <th>low</th>\n",
       "      <th>close</th>\n",
       "      <th>volume</th>\n",
       "      <th>quote_av</th>\n",
       "      <th>trades</th>\n",
       "      <th>tb_base_av</th>\n",
       "      <th>tb_quote_av</th>\n",
       "      <th>sma7</th>\n",
       "      <th>sma25</th>\n",
       "      <th>ma_12</th>\n",
       "      <th>ma_26</th>\n",
       "      <th>macd</th>\n",
       "      <th>macds</th>\n",
       "      <th>macdo</th>\n",
       "    </tr>\n",
       "  </thead>\n",
       "  <tbody>\n",
       "    <tr>\n",
       "      <th>0</th>\n",
       "      <td>0</td>\n",
       "      <td>0</td>\n",
       "      <td>0</td>\n",
       "      <td>7</td>\n",
       "      <td>1.003541</td>\n",
       "      <td>1.007110</td>\n",
       "      <td>1.003541</td>\n",
       "      <td>1.006090</td>\n",
       "      <td>486928.96875</td>\n",
       "      <td>182543.687500</td>\n",
       "      <td>332.671570</td>\n",
       "      <td>287449.968750</td>\n",
       "      <td>107758.375000</td>\n",
       "      <td>1.006090</td>\n",
       "      <td>1.006090</td>\n",
       "      <td>1.006090</td>\n",
       "      <td>1.006090</td>\n",
       "      <td>0.000000</td>\n",
       "      <td>0.000000</td>\n",
       "      <td>0.000000</td>\n",
       "    </tr>\n",
       "    <tr>\n",
       "      <th>1</th>\n",
       "      <td>1</td>\n",
       "      <td>0</td>\n",
       "      <td>1</td>\n",
       "      <td>7</td>\n",
       "      <td>1.006117</td>\n",
       "      <td>1.006331</td>\n",
       "      <td>1.004829</td>\n",
       "      <td>1.005634</td>\n",
       "      <td>824485.37500</td>\n",
       "      <td>309019.750000</td>\n",
       "      <td>407.790955</td>\n",
       "      <td>560290.250000</td>\n",
       "      <td>210005.125000</td>\n",
       "      <td>1.005862</td>\n",
       "      <td>1.005862</td>\n",
       "      <td>1.005843</td>\n",
       "      <td>1.005853</td>\n",
       "      <td>-0.000010</td>\n",
       "      <td>-0.000006</td>\n",
       "      <td>-0.000005</td>\n",
       "    </tr>\n",
       "    <tr>\n",
       "      <th>2</th>\n",
       "      <td>2</td>\n",
       "      <td>0</td>\n",
       "      <td>2</td>\n",
       "      <td>7</td>\n",
       "      <td>1.005929</td>\n",
       "      <td>1.005983</td>\n",
       "      <td>1.004266</td>\n",
       "      <td>1.005366</td>\n",
       "      <td>478614.56250</td>\n",
       "      <td>179301.843750</td>\n",
       "      <td>276.332031</td>\n",
       "      <td>214270.265625</td>\n",
       "      <td>80283.554688</td>\n",
       "      <td>1.005697</td>\n",
       "      <td>1.005697</td>\n",
       "      <td>1.005657</td>\n",
       "      <td>1.005678</td>\n",
       "      <td>-0.000021</td>\n",
       "      <td>-0.000012</td>\n",
       "      <td>-0.000009</td>\n",
       "    </tr>\n",
       "    <tr>\n",
       "      <th>3</th>\n",
       "      <td>3</td>\n",
       "      <td>0</td>\n",
       "      <td>3</td>\n",
       "      <td>7</td>\n",
       "      <td>1.005044</td>\n",
       "      <td>1.005956</td>\n",
       "      <td>1.004910</td>\n",
       "      <td>1.005795</td>\n",
       "      <td>334366.84375</td>\n",
       "      <td>125305.117188</td>\n",
       "      <td>166.335785</td>\n",
       "      <td>56401.246094</td>\n",
       "      <td>21135.490234</td>\n",
       "      <td>1.005721</td>\n",
       "      <td>1.005721</td>\n",
       "      <td>1.005700</td>\n",
       "      <td>1.005711</td>\n",
       "      <td>-0.000010</td>\n",
       "      <td>-0.000012</td>\n",
       "      <td>0.000001</td>\n",
       "    </tr>\n",
       "    <tr>\n",
       "      <th>4</th>\n",
       "      <td>4</td>\n",
       "      <td>0</td>\n",
       "      <td>4</td>\n",
       "      <td>7</td>\n",
       "      <td>1.005580</td>\n",
       "      <td>1.006466</td>\n",
       "      <td>1.005285</td>\n",
       "      <td>1.005929</td>\n",
       "      <td>560916.68750</td>\n",
       "      <td>210316.796875</td>\n",
       "      <td>303.160370</td>\n",
       "      <td>138711.703125</td>\n",
       "      <td>52010.964844</td>\n",
       "      <td>1.005763</td>\n",
       "      <td>1.005763</td>\n",
       "      <td>1.005762</td>\n",
       "      <td>1.005761</td>\n",
       "      <td>0.000001</td>\n",
       "      <td>-0.000008</td>\n",
       "      <td>0.000009</td>\n",
       "    </tr>\n",
       "  </tbody>\n",
       "</table>\n",
       "</div>"
      ],
      "text/plain": [
       "   Unnamed: 0  sample_id  time  coin_index      open      high       low  \\\n",
       "0           0          0     0           7  1.003541  1.007110  1.003541   \n",
       "1           1          0     1           7  1.006117  1.006331  1.004829   \n",
       "2           2          0     2           7  1.005929  1.005983  1.004266   \n",
       "3           3          0     3           7  1.005044  1.005956  1.004910   \n",
       "4           4          0     4           7  1.005580  1.006466  1.005285   \n",
       "\n",
       "      close        volume       quote_av      trades     tb_base_av  \\\n",
       "0  1.006090  486928.96875  182543.687500  332.671570  287449.968750   \n",
       "1  1.005634  824485.37500  309019.750000  407.790955  560290.250000   \n",
       "2  1.005366  478614.56250  179301.843750  276.332031  214270.265625   \n",
       "3  1.005795  334366.84375  125305.117188  166.335785   56401.246094   \n",
       "4  1.005929  560916.68750  210316.796875  303.160370  138711.703125   \n",
       "\n",
       "     tb_quote_av      sma7     sma25     ma_12     ma_26      macd     macds  \\\n",
       "0  107758.375000  1.006090  1.006090  1.006090  1.006090  0.000000  0.000000   \n",
       "1  210005.125000  1.005862  1.005862  1.005843  1.005853 -0.000010 -0.000006   \n",
       "2   80283.554688  1.005697  1.005697  1.005657  1.005678 -0.000021 -0.000012   \n",
       "3   21135.490234  1.005721  1.005721  1.005700  1.005711 -0.000010 -0.000012   \n",
       "4   52010.964844  1.005763  1.005763  1.005762  1.005761  0.000001 -0.000008   \n",
       "\n",
       "      macdo  \n",
       "0  0.000000  \n",
       "1 -0.000005  \n",
       "2 -0.000009  \n",
       "3  0.000001  \n",
       "4  0.000009  "
      ]
     },
     "execution_count": 39,
     "metadata": {},
     "output_type": "execute_result"
    }
   ],
   "source": [
    "test_x_macd_df.head()"
   ]
  },
  {
   "cell_type": "code",
   "execution_count": 45,
   "id": "promising-mixer",
   "metadata": {},
   "outputs": [
    {
     "data": {
      "text/html": [
       "<div>\n",
       "<style scoped>\n",
       "    .dataframe tbody tr th:only-of-type {\n",
       "        vertical-align: middle;\n",
       "    }\n",
       "\n",
       "    .dataframe tbody tr th {\n",
       "        vertical-align: top;\n",
       "    }\n",
       "\n",
       "    .dataframe thead th {\n",
       "        text-align: right;\n",
       "    }\n",
       "</style>\n",
       "<table border=\"1\" class=\"dataframe\">\n",
       "  <thead>\n",
       "    <tr style=\"text-align: right;\">\n",
       "      <th></th>\n",
       "      <th>sample_id</th>\n",
       "      <th>time</th>\n",
       "      <th>coin_index</th>\n",
       "      <th>open</th>\n",
       "      <th>high</th>\n",
       "      <th>low</th>\n",
       "      <th>close</th>\n",
       "      <th>volume</th>\n",
       "      <th>trades</th>\n",
       "      <th>sma7</th>\n",
       "      <th>sma25</th>\n",
       "      <th>ma_12</th>\n",
       "      <th>ma_26</th>\n",
       "      <th>macd</th>\n",
       "      <th>macds</th>\n",
       "      <th>macdo</th>\n",
       "    </tr>\n",
       "  </thead>\n",
       "  <tbody>\n",
       "    <tr>\n",
       "      <th>0</th>\n",
       "      <td>0</td>\n",
       "      <td>0</td>\n",
       "      <td>7</td>\n",
       "      <td>1.010004</td>\n",
       "      <td>1.010004</td>\n",
       "      <td>1.009612</td>\n",
       "      <td>1.010004</td>\n",
       "      <td>8.382875e+05</td>\n",
       "      <td>451.157288</td>\n",
       "      <td>1.010004</td>\n",
       "      <td>1.010004</td>\n",
       "      <td>1.010004</td>\n",
       "      <td>1.010004</td>\n",
       "      <td>0.000000</td>\n",
       "      <td>0.000000</td>\n",
       "      <td>0.000000</td>\n",
       "    </tr>\n",
       "    <tr>\n",
       "      <th>1</th>\n",
       "      <td>0</td>\n",
       "      <td>1</td>\n",
       "      <td>7</td>\n",
       "      <td>1.009808</td>\n",
       "      <td>1.009808</td>\n",
       "      <td>1.009808</td>\n",
       "      <td>1.009808</td>\n",
       "      <td>1.622420e+05</td>\n",
       "      <td>39.231071</td>\n",
       "      <td>1.009906</td>\n",
       "      <td>1.009906</td>\n",
       "      <td>1.009898</td>\n",
       "      <td>1.009902</td>\n",
       "      <td>-0.000004</td>\n",
       "      <td>-0.000002</td>\n",
       "      <td>-0.000002</td>\n",
       "    </tr>\n",
       "    <tr>\n",
       "      <th>2</th>\n",
       "      <td>0</td>\n",
       "      <td>2</td>\n",
       "      <td>7</td>\n",
       "      <td>1.009808</td>\n",
       "      <td>1.010200</td>\n",
       "      <td>1.009808</td>\n",
       "      <td>1.010200</td>\n",
       "      <td>1.664967e+04</td>\n",
       "      <td>58.846603</td>\n",
       "      <td>1.010004</td>\n",
       "      <td>1.010004</td>\n",
       "      <td>1.010016</td>\n",
       "      <td>1.010009</td>\n",
       "      <td>0.000007</td>\n",
       "      <td>0.000001</td>\n",
       "      <td>0.000005</td>\n",
       "    </tr>\n",
       "    <tr>\n",
       "      <th>3</th>\n",
       "      <td>0</td>\n",
       "      <td>3</td>\n",
       "      <td>7</td>\n",
       "      <td>1.010200</td>\n",
       "      <td>1.011181</td>\n",
       "      <td>1.010200</td>\n",
       "      <td>1.011181</td>\n",
       "      <td>2.586971e+06</td>\n",
       "      <td>431.541779</td>\n",
       "      <td>1.010298</td>\n",
       "      <td>1.010298</td>\n",
       "      <td>1.010383</td>\n",
       "      <td>1.010337</td>\n",
       "      <td>0.000047</td>\n",
       "      <td>0.000017</td>\n",
       "      <td>0.000030</td>\n",
       "    </tr>\n",
       "    <tr>\n",
       "      <th>4</th>\n",
       "      <td>0</td>\n",
       "      <td>4</td>\n",
       "      <td>7</td>\n",
       "      <td>1.010985</td>\n",
       "      <td>1.010985</td>\n",
       "      <td>1.010200</td>\n",
       "      <td>1.010200</td>\n",
       "      <td>1.129996e+06</td>\n",
       "      <td>176.539810</td>\n",
       "      <td>1.010279</td>\n",
       "      <td>1.010279</td>\n",
       "      <td>1.010334</td>\n",
       "      <td>1.010305</td>\n",
       "      <td>0.000029</td>\n",
       "      <td>0.000020</td>\n",
       "      <td>0.000008</td>\n",
       "    </tr>\n",
       "  </tbody>\n",
       "</table>\n",
       "</div>"
      ],
      "text/plain": [
       "   sample_id  time  coin_index      open      high       low     close  \\\n",
       "0          0     0           7  1.010004  1.010004  1.009612  1.010004   \n",
       "1          0     1           7  1.009808  1.009808  1.009808  1.009808   \n",
       "2          0     2           7  1.009808  1.010200  1.009808  1.010200   \n",
       "3          0     3           7  1.010200  1.011181  1.010200  1.011181   \n",
       "4          0     4           7  1.010985  1.010985  1.010200  1.010200   \n",
       "\n",
       "         volume      trades      sma7     sma25     ma_12     ma_26      macd  \\\n",
       "0  8.382875e+05  451.157288  1.010004  1.010004  1.010004  1.010004  0.000000   \n",
       "1  1.622420e+05   39.231071  1.009906  1.009906  1.009898  1.009902 -0.000004   \n",
       "2  1.664967e+04   58.846603  1.010004  1.010004  1.010016  1.010009  0.000007   \n",
       "3  2.586971e+06  431.541779  1.010298  1.010298  1.010383  1.010337  0.000047   \n",
       "4  1.129996e+06  176.539810  1.010279  1.010279  1.010334  1.010305  0.000029   \n",
       "\n",
       "      macds     macdo  \n",
       "0  0.000000  0.000000  \n",
       "1 -0.000002 -0.000002  \n",
       "2  0.000001  0.000005  \n",
       "3  0.000017  0.000030  \n",
       "4  0.000020  0.000008  "
      ]
     },
     "execution_count": 45,
     "metadata": {},
     "output_type": "execute_result"
    }
   ],
   "source": [
    "train_x_macd_df.reset_index()\n",
    "train_x_macd_df = train_x_macd_df[['sample_id', 'time', 'coin_index','open','high', 'low', 'close', 'volume', 'trades', \\\n",
    "                'sma7', 'sma25', 'ma_12', 'ma_26', 'macd', 'macds', 'macdo']]\n",
    "train_x_macd_df.head()"
   ]
  },
  {
   "cell_type": "code",
   "execution_count": 46,
   "id": "ranking-pregnancy",
   "metadata": {
    "scrolled": true
   },
   "outputs": [
    {
     "data": {
      "text/html": [
       "<div>\n",
       "<style scoped>\n",
       "    .dataframe tbody tr th:only-of-type {\n",
       "        vertical-align: middle;\n",
       "    }\n",
       "\n",
       "    .dataframe tbody tr th {\n",
       "        vertical-align: top;\n",
       "    }\n",
       "\n",
       "    .dataframe thead th {\n",
       "        text-align: right;\n",
       "    }\n",
       "</style>\n",
       "<table border=\"1\" class=\"dataframe\">\n",
       "  <thead>\n",
       "    <tr style=\"text-align: right;\">\n",
       "      <th></th>\n",
       "      <th>sample_id</th>\n",
       "      <th>time</th>\n",
       "      <th>coin_index</th>\n",
       "      <th>open</th>\n",
       "      <th>high</th>\n",
       "      <th>low</th>\n",
       "      <th>close</th>\n",
       "      <th>volume</th>\n",
       "      <th>trades</th>\n",
       "      <th>sma7</th>\n",
       "      <th>sma25</th>\n",
       "      <th>ma_12</th>\n",
       "      <th>ma_26</th>\n",
       "      <th>macd</th>\n",
       "      <th>macds</th>\n",
       "      <th>macdo</th>\n",
       "    </tr>\n",
       "  </thead>\n",
       "  <tbody>\n",
       "    <tr>\n",
       "      <th>0</th>\n",
       "      <td>0</td>\n",
       "      <td>0</td>\n",
       "      <td>7</td>\n",
       "      <td>1.000392</td>\n",
       "      <td>1.000588</td>\n",
       "      <td>1.000392</td>\n",
       "      <td>1.000588</td>\n",
       "      <td>8.305119e+05</td>\n",
       "      <td>137.308746</td>\n",
       "      <td>1.000588</td>\n",
       "      <td>1.000588</td>\n",
       "      <td>1.000588</td>\n",
       "      <td>1.000588</td>\n",
       "      <td>0.000000</td>\n",
       "      <td>0.000000</td>\n",
       "      <td>0.000000</td>\n",
       "    </tr>\n",
       "    <tr>\n",
       "      <th>1</th>\n",
       "      <td>0</td>\n",
       "      <td>1</td>\n",
       "      <td>7</td>\n",
       "      <td>1.000588</td>\n",
       "      <td>1.001177</td>\n",
       "      <td>1.000392</td>\n",
       "      <td>1.001177</td>\n",
       "      <td>5.320066e+05</td>\n",
       "      <td>294.233032</td>\n",
       "      <td>1.000883</td>\n",
       "      <td>1.000883</td>\n",
       "      <td>1.000907</td>\n",
       "      <td>1.000894</td>\n",
       "      <td>0.000013</td>\n",
       "      <td>0.000007</td>\n",
       "      <td>0.000006</td>\n",
       "    </tr>\n",
       "    <tr>\n",
       "      <th>2</th>\n",
       "      <td>0</td>\n",
       "      <td>2</td>\n",
       "      <td>7</td>\n",
       "      <td>1.001177</td>\n",
       "      <td>1.001177</td>\n",
       "      <td>1.001177</td>\n",
       "      <td>1.001177</td>\n",
       "      <td>5.113770e+05</td>\n",
       "      <td>58.846603</td>\n",
       "      <td>1.000981</td>\n",
       "      <td>1.000981</td>\n",
       "      <td>1.001012</td>\n",
       "      <td>1.000996</td>\n",
       "      <td>0.000017</td>\n",
       "      <td>0.000011</td>\n",
       "      <td>0.000006</td>\n",
       "    </tr>\n",
       "    <tr>\n",
       "      <th>3</th>\n",
       "      <td>0</td>\n",
       "      <td>3</td>\n",
       "      <td>7</td>\n",
       "      <td>1.001177</td>\n",
       "      <td>1.001373</td>\n",
       "      <td>1.001177</td>\n",
       "      <td>1.001373</td>\n",
       "      <td>1.134853e+06</td>\n",
       "      <td>137.308746</td>\n",
       "      <td>1.001079</td>\n",
       "      <td>1.001079</td>\n",
       "      <td>1.001126</td>\n",
       "      <td>1.001101</td>\n",
       "      <td>0.000025</td>\n",
       "      <td>0.000016</td>\n",
       "      <td>0.000009</td>\n",
       "    </tr>\n",
       "    <tr>\n",
       "      <th>4</th>\n",
       "      <td>0</td>\n",
       "      <td>4</td>\n",
       "      <td>7</td>\n",
       "      <td>1.000981</td>\n",
       "      <td>1.000981</td>\n",
       "      <td>0.999804</td>\n",
       "      <td>1.000196</td>\n",
       "      <td>5.801173e+06</td>\n",
       "      <td>666.928162</td>\n",
       "      <td>1.000902</td>\n",
       "      <td>1.000902</td>\n",
       "      <td>1.000874</td>\n",
       "      <td>1.000891</td>\n",
       "      <td>-0.000018</td>\n",
       "      <td>0.000006</td>\n",
       "      <td>-0.000024</td>\n",
       "    </tr>\n",
       "  </tbody>\n",
       "</table>\n",
       "</div>"
      ],
      "text/plain": [
       "   sample_id  time  coin_index      open      high       low     close  \\\n",
       "0          0     0           7  1.000392  1.000588  1.000392  1.000588   \n",
       "1          0     1           7  1.000588  1.001177  1.000392  1.001177   \n",
       "2          0     2           7  1.001177  1.001177  1.001177  1.001177   \n",
       "3          0     3           7  1.001177  1.001373  1.001177  1.001373   \n",
       "4          0     4           7  1.000981  1.000981  0.999804  1.000196   \n",
       "\n",
       "         volume      trades      sma7     sma25     ma_12     ma_26      macd  \\\n",
       "0  8.305119e+05  137.308746  1.000588  1.000588  1.000588  1.000588  0.000000   \n",
       "1  5.320066e+05  294.233032  1.000883  1.000883  1.000907  1.000894  0.000013   \n",
       "2  5.113770e+05   58.846603  1.000981  1.000981  1.001012  1.000996  0.000017   \n",
       "3  1.134853e+06  137.308746  1.001079  1.001079  1.001126  1.001101  0.000025   \n",
       "4  5.801173e+06  666.928162  1.000902  1.000902  1.000874  1.000891 -0.000018   \n",
       "\n",
       "      macds     macdo  \n",
       "0  0.000000  0.000000  \n",
       "1  0.000007  0.000006  \n",
       "2  0.000011  0.000006  \n",
       "3  0.000016  0.000009  \n",
       "4  0.000006 -0.000024  "
      ]
     },
     "execution_count": 46,
     "metadata": {},
     "output_type": "execute_result"
    }
   ],
   "source": [
    "train_y_macd_df.reset_index()\n",
    "train_y_macd_df = train_y_macd_df[['sample_id', 'time', 'coin_index','open','high', 'low', 'close', 'volume', 'trades', \\\n",
    "                'sma7', 'sma25', 'ma_12', 'ma_26', 'macd', 'macds', 'macdo']]\n",
    "train_y_macd_df.head()"
   ]
  },
  {
   "cell_type": "code",
   "execution_count": 47,
   "id": "composed-ghana",
   "metadata": {},
   "outputs": [
    {
     "data": {
      "text/html": [
       "<div>\n",
       "<style scoped>\n",
       "    .dataframe tbody tr th:only-of-type {\n",
       "        vertical-align: middle;\n",
       "    }\n",
       "\n",
       "    .dataframe tbody tr th {\n",
       "        vertical-align: top;\n",
       "    }\n",
       "\n",
       "    .dataframe thead th {\n",
       "        text-align: right;\n",
       "    }\n",
       "</style>\n",
       "<table border=\"1\" class=\"dataframe\">\n",
       "  <thead>\n",
       "    <tr style=\"text-align: right;\">\n",
       "      <th></th>\n",
       "      <th>sample_id</th>\n",
       "      <th>time</th>\n",
       "      <th>coin_index</th>\n",
       "      <th>open</th>\n",
       "      <th>high</th>\n",
       "      <th>low</th>\n",
       "      <th>close</th>\n",
       "      <th>volume</th>\n",
       "      <th>trades</th>\n",
       "      <th>sma7</th>\n",
       "      <th>sma25</th>\n",
       "      <th>ma_12</th>\n",
       "      <th>ma_26</th>\n",
       "      <th>macd</th>\n",
       "      <th>macds</th>\n",
       "      <th>macdo</th>\n",
       "    </tr>\n",
       "  </thead>\n",
       "  <tbody>\n",
       "    <tr>\n",
       "      <th>0</th>\n",
       "      <td>0</td>\n",
       "      <td>0</td>\n",
       "      <td>7</td>\n",
       "      <td>1.003541</td>\n",
       "      <td>1.007110</td>\n",
       "      <td>1.003541</td>\n",
       "      <td>1.006090</td>\n",
       "      <td>486928.96875</td>\n",
       "      <td>332.671570</td>\n",
       "      <td>1.006090</td>\n",
       "      <td>1.006090</td>\n",
       "      <td>1.006090</td>\n",
       "      <td>1.006090</td>\n",
       "      <td>0.000000</td>\n",
       "      <td>0.000000</td>\n",
       "      <td>0.000000</td>\n",
       "    </tr>\n",
       "    <tr>\n",
       "      <th>1</th>\n",
       "      <td>0</td>\n",
       "      <td>1</td>\n",
       "      <td>7</td>\n",
       "      <td>1.006117</td>\n",
       "      <td>1.006331</td>\n",
       "      <td>1.004829</td>\n",
       "      <td>1.005634</td>\n",
       "      <td>824485.37500</td>\n",
       "      <td>407.790955</td>\n",
       "      <td>1.005862</td>\n",
       "      <td>1.005862</td>\n",
       "      <td>1.005843</td>\n",
       "      <td>1.005853</td>\n",
       "      <td>-0.000010</td>\n",
       "      <td>-0.000006</td>\n",
       "      <td>-0.000005</td>\n",
       "    </tr>\n",
       "    <tr>\n",
       "      <th>2</th>\n",
       "      <td>0</td>\n",
       "      <td>2</td>\n",
       "      <td>7</td>\n",
       "      <td>1.005929</td>\n",
       "      <td>1.005983</td>\n",
       "      <td>1.004266</td>\n",
       "      <td>1.005366</td>\n",
       "      <td>478614.56250</td>\n",
       "      <td>276.332031</td>\n",
       "      <td>1.005697</td>\n",
       "      <td>1.005697</td>\n",
       "      <td>1.005657</td>\n",
       "      <td>1.005678</td>\n",
       "      <td>-0.000021</td>\n",
       "      <td>-0.000012</td>\n",
       "      <td>-0.000009</td>\n",
       "    </tr>\n",
       "    <tr>\n",
       "      <th>3</th>\n",
       "      <td>0</td>\n",
       "      <td>3</td>\n",
       "      <td>7</td>\n",
       "      <td>1.005044</td>\n",
       "      <td>1.005956</td>\n",
       "      <td>1.004910</td>\n",
       "      <td>1.005795</td>\n",
       "      <td>334366.84375</td>\n",
       "      <td>166.335785</td>\n",
       "      <td>1.005721</td>\n",
       "      <td>1.005721</td>\n",
       "      <td>1.005700</td>\n",
       "      <td>1.005711</td>\n",
       "      <td>-0.000010</td>\n",
       "      <td>-0.000012</td>\n",
       "      <td>0.000001</td>\n",
       "    </tr>\n",
       "    <tr>\n",
       "      <th>4</th>\n",
       "      <td>0</td>\n",
       "      <td>4</td>\n",
       "      <td>7</td>\n",
       "      <td>1.005580</td>\n",
       "      <td>1.006466</td>\n",
       "      <td>1.005285</td>\n",
       "      <td>1.005929</td>\n",
       "      <td>560916.68750</td>\n",
       "      <td>303.160370</td>\n",
       "      <td>1.005763</td>\n",
       "      <td>1.005763</td>\n",
       "      <td>1.005762</td>\n",
       "      <td>1.005761</td>\n",
       "      <td>0.000001</td>\n",
       "      <td>-0.000008</td>\n",
       "      <td>0.000009</td>\n",
       "    </tr>\n",
       "  </tbody>\n",
       "</table>\n",
       "</div>"
      ],
      "text/plain": [
       "   sample_id  time  coin_index      open      high       low     close  \\\n",
       "0          0     0           7  1.003541  1.007110  1.003541  1.006090   \n",
       "1          0     1           7  1.006117  1.006331  1.004829  1.005634   \n",
       "2          0     2           7  1.005929  1.005983  1.004266  1.005366   \n",
       "3          0     3           7  1.005044  1.005956  1.004910  1.005795   \n",
       "4          0     4           7  1.005580  1.006466  1.005285  1.005929   \n",
       "\n",
       "         volume      trades      sma7     sma25     ma_12     ma_26      macd  \\\n",
       "0  486928.96875  332.671570  1.006090  1.006090  1.006090  1.006090  0.000000   \n",
       "1  824485.37500  407.790955  1.005862  1.005862  1.005843  1.005853 -0.000010   \n",
       "2  478614.56250  276.332031  1.005697  1.005697  1.005657  1.005678 -0.000021   \n",
       "3  334366.84375  166.335785  1.005721  1.005721  1.005700  1.005711 -0.000010   \n",
       "4  560916.68750  303.160370  1.005763  1.005763  1.005762  1.005761  0.000001   \n",
       "\n",
       "      macds     macdo  \n",
       "0  0.000000  0.000000  \n",
       "1 -0.000006 -0.000005  \n",
       "2 -0.000012 -0.000009  \n",
       "3 -0.000012  0.000001  \n",
       "4 -0.000008  0.000009  "
      ]
     },
     "execution_count": 47,
     "metadata": {},
     "output_type": "execute_result"
    }
   ],
   "source": [
    "test_x_macd_df.reset_index()\n",
    "test_x_macd_df = test_x_macd_df[['sample_id', 'time', 'coin_index','open','high', 'low', 'close', 'volume', 'trades', \\\n",
    "                'sma7', 'sma25', 'ma_12', 'ma_26', 'macd', 'macds', 'macdo']]\n",
    "test_x_macd_df.head()"
   ]
  },
  {
   "cell_type": "markdown",
   "id": "conscious-metropolitan",
   "metadata": {
    "id": "G9AMliBFpc81"
   },
   "source": [
    "## 2) numpy arrary로 변환하기"
   ]
  },
  {
   "cell_type": "code",
   "execution_count": 49,
   "id": "martial-fossil",
   "metadata": {},
   "outputs": [],
   "source": [
    "train_x_df = train_x_macd_df\n",
    "train_y_df = train_y_macd_df\n",
    "test_x_df = test_x_macd_df"
   ]
  },
  {
   "cell_type": "code",
   "execution_count": 50,
   "id": "naked-melissa",
   "metadata": {
    "ExecuteTime": {
     "end_time": "2021-03-26T07:44:57.351513Z",
     "start_time": "2021-03-26T07:44:57.348660Z"
    },
    "id": "37kkNub5pc82"
   },
   "outputs": [],
   "source": [
    "def df2d_to_array3d(df_2d):\n",
    "    # 입력 받은 2차원 데이터 프레임을 3차원 numpy array로 변경하는 함수\n",
    "    feature_size = df_2d.iloc[:,2:].shape[1]\n",
    "    time_size = len(df_2d.time.value_counts())\n",
    "    sample_size = len(df_2d.sample_id.value_counts())\n",
    "    sample_index = df_2d.sample_id.value_counts().index\n",
    "    array_3d = df_2d.iloc[:,2:].values.reshape([sample_size, time_size, feature_size])\n",
    "    return array_3d"
   ]
  },
  {
   "cell_type": "code",
   "execution_count": 51,
   "id": "difficult-thompson",
   "metadata": {
    "ExecuteTime": {
     "end_time": "2021-03-26T07:45:00.493690Z",
     "start_time": "2021-03-26T07:44:57.478443Z"
    },
    "id": "yqy6-8Kbpc82"
   },
   "outputs": [],
   "source": [
    "train_x_array = df2d_to_array3d(train_x_df)\n",
    "train_y_array = df2d_to_array3d(train_y_df)\n",
    "test_x_array = df2d_to_array3d(test_x_df)"
   ]
  },
  {
   "cell_type": "code",
   "execution_count": 52,
   "id": "proud-porcelain",
   "metadata": {
    "ExecuteTime": {
     "end_time": "2021-03-26T07:45:00.639151Z",
     "start_time": "2021-03-26T07:45:00.636802Z"
    },
    "colab": {
     "base_uri": "https://localhost:8080/"
    },
    "id": "iQwrvA8rpc83",
    "outputId": "254e49da-96ec-4f6d-bb8b-b548d49f9b7a"
   },
   "outputs": [
    {
     "name": "stdout",
     "output_type": "stream",
     "text": [
      "\n",
      "train_x_array (7362, 1380, 14)\n",
      "train_y_array (7362, 120, 14)\n",
      "test_x_array (529, 1380, 14)\n",
      "\n"
     ]
    }
   ],
   "source": [
    "print(f'''\n",
    "train_x_array {train_x_array.shape}\n",
    "train_y_array {train_y_array.shape}\n",
    "test_x_array {test_x_array.shape}\n",
    "''')"
   ]
  },
  {
   "cell_type": "markdown",
   "id": "twelve-assault",
   "metadata": {},
   "source": [
    "## MACD 시각화 "
   ]
  },
  {
   "cell_type": "code",
   "execution_count": 53,
   "id": "inclusive-briefs",
   "metadata": {
    "ExecuteTime": {
     "end_time": "2021-03-26T07:45:00.796370Z",
     "start_time": "2021-03-26T07:45:00.792516Z"
    }
   },
   "outputs": [],
   "source": [
    "import matplotlib.pyplot as plt\n",
    "%matplotlib inline\n",
    "import matplotlib.ticker as ticker\n",
    "import numpy as np"
   ]
  },
  {
   "cell_type": "code",
   "execution_count": 54,
   "id": "weird-congo",
   "metadata": {},
   "outputs": [],
   "source": [
    "idx = 1030"
   ]
  },
  {
   "cell_type": "code",
   "execution_count": 55,
   "id": "first-article",
   "metadata": {
    "ExecuteTime": {
     "end_time": "2021-03-26T08:32:55.548643Z",
     "start_time": "2021-03-26T08:32:55.532343Z"
    }
   },
   "outputs": [
    {
     "data": {
      "text/plain": [
       "(list, 1380)"
      ]
     },
     "execution_count": 55,
     "metadata": {},
     "output_type": "execute_result"
    }
   ],
   "source": [
    "index = train_x_df[train_x_df['sample_id']==idx].time.tolist()\n",
    "type(index), len(index)"
   ]
  },
  {
   "cell_type": "code",
   "execution_count": 56,
   "id": "flying-hours",
   "metadata": {
    "ExecuteTime": {
     "end_time": "2021-03-26T08:32:56.502929Z",
     "start_time": "2021-03-26T08:32:56.234521Z"
    }
   },
   "outputs": [
    {
     "data": {
      "text/html": [
       "<div>\n",
       "<style scoped>\n",
       "    .dataframe tbody tr th:only-of-type {\n",
       "        vertical-align: middle;\n",
       "    }\n",
       "\n",
       "    .dataframe tbody tr th {\n",
       "        vertical-align: top;\n",
       "    }\n",
       "\n",
       "    .dataframe thead th {\n",
       "        text-align: right;\n",
       "    }\n",
       "</style>\n",
       "<table border=\"1\" class=\"dataframe\">\n",
       "  <thead>\n",
       "    <tr style=\"text-align: right;\">\n",
       "      <th></th>\n",
       "      <th>sample_id</th>\n",
       "      <th>sma7</th>\n",
       "      <th>sma25</th>\n",
       "      <th>macd</th>\n",
       "      <th>macdo</th>\n",
       "      <th>macds</th>\n",
       "    </tr>\n",
       "  </thead>\n",
       "  <tbody>\n",
       "    <tr>\n",
       "      <th>0</th>\n",
       "      <td>0</td>\n",
       "      <td>1.010004</td>\n",
       "      <td>1.010004</td>\n",
       "      <td>0.000000</td>\n",
       "      <td>0.000000</td>\n",
       "      <td>0.000000</td>\n",
       "    </tr>\n",
       "    <tr>\n",
       "      <th>1</th>\n",
       "      <td>0</td>\n",
       "      <td>1.009906</td>\n",
       "      <td>1.009906</td>\n",
       "      <td>-0.000004</td>\n",
       "      <td>-0.000002</td>\n",
       "      <td>-0.000002</td>\n",
       "    </tr>\n",
       "    <tr>\n",
       "      <th>2</th>\n",
       "      <td>0</td>\n",
       "      <td>1.010004</td>\n",
       "      <td>1.010004</td>\n",
       "      <td>0.000007</td>\n",
       "      <td>0.000005</td>\n",
       "      <td>0.000001</td>\n",
       "    </tr>\n",
       "    <tr>\n",
       "      <th>3</th>\n",
       "      <td>0</td>\n",
       "      <td>1.010298</td>\n",
       "      <td>1.010298</td>\n",
       "      <td>0.000047</td>\n",
       "      <td>0.000030</td>\n",
       "      <td>0.000017</td>\n",
       "    </tr>\n",
       "    <tr>\n",
       "      <th>4</th>\n",
       "      <td>0</td>\n",
       "      <td>1.010279</td>\n",
       "      <td>1.010279</td>\n",
       "      <td>0.000029</td>\n",
       "      <td>0.000008</td>\n",
       "      <td>0.000020</td>\n",
       "    </tr>\n",
       "  </tbody>\n",
       "</table>\n",
       "</div>"
      ],
      "text/plain": [
       "   sample_id      sma7     sma25      macd     macdo     macds\n",
       "0          0  1.010004  1.010004  0.000000  0.000000  0.000000\n",
       "1          0  1.009906  1.009906 -0.000004 -0.000002 -0.000002\n",
       "2          0  1.010004  1.010004  0.000007  0.000005  0.000001\n",
       "3          0  1.010298  1.010298  0.000047  0.000030  0.000017\n",
       "4          0  1.010279  1.010279  0.000029  0.000008  0.000020"
      ]
     },
     "execution_count": 56,
     "metadata": {},
     "output_type": "execute_result"
    }
   ],
   "source": [
    "# loc 쓰기 귀찮아서 데이터 프레임으로.. 그냥 .. 때려..넣기? => 나중에 수정\n",
    "sample_x_df = pd.DataFrame()\n",
    "sample_x_df = train_x_df[['sample_id','sma7', 'sma25','macd','macdo','macds']]\n",
    "sample_x_df.head()"
   ]
  },
  {
   "cell_type": "code",
   "execution_count": 57,
   "id": "raising-guide",
   "metadata": {
    "ExecuteTime": {
     "end_time": "2021-03-26T08:32:57.312774Z",
     "start_time": "2021-03-26T08:32:57.276120Z"
    }
   },
   "outputs": [],
   "source": [
    "sma7_lst = sample_x_df['sma7'].loc[sample_x_df['sample_id']==idx].tolist()\n",
    "sma25_lst = sample_x_df['sma25'].loc[sample_x_df['sample_id']==idx].tolist()"
   ]
  },
  {
   "cell_type": "code",
   "execution_count": 58,
   "id": "visible-turkey",
   "metadata": {
    "ExecuteTime": {
     "end_time": "2021-03-26T08:32:58.098058Z",
     "start_time": "2021-03-26T08:32:58.095363Z"
    }
   },
   "outputs": [
    {
     "name": "stdout",
     "output_type": "stream",
     "text": [
      "True\n",
      "True\n"
     ]
    }
   ],
   "source": [
    "print(len(sma25_lst) == len(sma7_lst)) # 차원 일치 여부 확인 \n",
    "print(type(index) == type(sma7_lst)) # 형 일치 여부 확인 "
   ]
  },
  {
   "cell_type": "code",
   "execution_count": 59,
   "id": "advised-vintage",
   "metadata": {
    "ExecuteTime": {
     "end_time": "2021-03-26T08:32:58.962921Z",
     "start_time": "2021-03-26T08:32:58.952749Z"
    }
   },
   "outputs": [
    {
     "data": {
      "text/plain": [
       "([0, 1], [1.0661075115203915, 1.0664364099502597])"
      ]
     },
     "execution_count": 59,
     "metadata": {},
     "output_type": "execute_result"
    }
   ],
   "source": [
    "index[0:2], sma7_lst[0:2] # 값 확인"
   ]
  },
  {
   "cell_type": "code",
   "execution_count": 60,
   "id": "joined-establishment",
   "metadata": {
    "ExecuteTime": {
     "end_time": "2021-03-26T08:32:59.732743Z",
     "start_time": "2021-03-26T08:32:59.542736Z"
    },
    "scrolled": true
   },
   "outputs": [
    {
     "data": {
      "image/png": "[encoded data removed]",
      "text/plain": [
       "<Figure size 864x360 with 1 Axes>"
      ]
     },
     "metadata": {
      "needs_background": "light"
     },
     "output_type": "display_data"
    }
   ],
   "source": [
    "# Main chart - SMA_7 and SMA_25\n",
    "fig, ax = plt.subplots(figsize=(12,5))\n",
    "\n",
    "ax.set_title('sma7 v.s. sma25', fontsize=20)\n",
    "\n",
    "ax.plot(index, sma7_lst, 'b', lw=1, label='sma7')\n",
    "ax.plot(index, sma25_lst, 'r', lw=1, label='sma25')\n",
    "ax.legend(loc='best')\n",
    "\n",
    "fig.tight_layout()"
   ]
  },
  {
   "cell_type": "code",
   "execution_count": 61,
   "id": "federal-copying",
   "metadata": {
    "ExecuteTime": {
     "end_time": "2021-03-26T08:33:00.659479Z",
     "start_time": "2021-03-26T08:33:00.622283Z"
    }
   },
   "outputs": [],
   "source": [
    "macd_lst = sample_x_df['macd'].loc[sample_x_df['sample_id']==idx].tolist()\n",
    "macds_lst = sample_x_df['macds'].loc[sample_x_df['sample_id']==idx].tolist()"
   ]
  },
  {
   "cell_type": "code",
   "execution_count": 62,
   "id": "cutting-arbitration",
   "metadata": {
    "ExecuteTime": {
     "end_time": "2021-03-26T08:33:01.352697Z",
     "start_time": "2021-03-26T08:33:01.191672Z"
    }
   },
   "outputs": [
    {
     "data": {
      "image/png": "[encoded data removed]",
      "text/plain": [
       "<Figure size 864x360 with 1 Axes>"
      ]
     },
     "metadata": {
      "needs_background": "light"
     },
     "output_type": "display_data"
    }
   ],
   "source": [
    "# index chart - MACD and MACDs\n",
    "fig, ax = plt.subplots(figsize=(12,5))\n",
    "\n",
    "ax.set_title('MACD v.s. MACD Sinal', fontsize=20)\n",
    "\n",
    "ax.plot(index, macd_lst, 'b', lw=1, label='macd')\n",
    "ax.plot(index, macds_lst, 'r', lw=1, label='macds')\n",
    "ax.legend(loc='best')\n",
    "\n",
    "fig.tight_layout()"
   ]
  },
  {
   "cell_type": "code",
   "execution_count": 63,
   "id": "solved-panel",
   "metadata": {
    "ExecuteTime": {
     "end_time": "2021-03-26T08:33:01.963333Z",
     "start_time": "2021-03-26T08:33:01.939988Z"
    }
   },
   "outputs": [],
   "source": [
    "macdo_lst = sample_x_df['macdo'].loc[sample_x_df['sample_id']==idx].tolist()"
   ]
  },
  {
   "cell_type": "code",
   "execution_count": 64,
   "id": "exposed-commerce",
   "metadata": {
    "ExecuteTime": {
     "end_time": "2021-03-26T08:33:08.123056Z",
     "start_time": "2021-03-26T08:33:02.479797Z"
    },
    "scrolled": true
   },
   "outputs": [
    {
     "data": {
      "image/png": "[encoded data removed]",
      "text/plain": [
       "<Figure size 864x360 with 1 Axes>"
      ]
     },
     "metadata": {
      "needs_background": "light"
     },
     "output_type": "display_data"
    }
   ],
   "source": [
    "# index chart - MACDo\n",
    "fig, ax = plt.subplots(figsize=(12,5))\n",
    "\n",
    "ax.set_title('MACD Oscilator', fontsize=20)\n",
    "\n",
    "ax.bar(index, [0 if i > 0 else i for i in macdo_lst], lw=1, label='macdo(+)')\n",
    "ax.bar(index, [0 if i < 0 else i for i in macdo_lst], lw=1, label='macdo(-)')\n",
    "ax.legend(loc='best')\n",
    "\n",
    "fig.tight_layout()"
   ]
  },
  {
   "cell_type": "markdown",
   "id": "temporal-excellence",
   "metadata": {},
   "source": [
    "## 샘플 확인하기"
   ]
  },
  {
   "cell_type": "code",
   "execution_count": 65,
   "id": "accomplished-minneapolis",
   "metadata": {},
   "outputs": [],
   "source": [
    "def plot_series(x_series, y_series):\n",
    "    #입력 series와 출력 series를 연속적으로 연결하여 시각적으로 보여주는 코드 입니다.\n",
    "    plt.plot(x_series, label = 'input_series')\n",
    "    plt.plot(np.arange(len(x_series), len(x_series)+len(y_series)),\n",
    "             y_series, label = 'output_series')\n",
    "    plt.axhline(1, c = 'red')\n",
    "    plt.legend()"
   ]
  },
  {
   "cell_type": "code",
   "execution_count": 66,
   "id": "cardiovascular-advisory",
   "metadata": {},
   "outputs": [
    {
     "data": {
      "image/png": "[encoded data removed]",
      "text/plain": [
       "<Figure size 432x288 with 1 Axes>"
      ]
     },
     "metadata": {
      "needs_background": "light"
     },
     "output_type": "display_data"
    }
   ],
   "source": [
    "# open\n",
    "idx = 1012\n",
    "plot_series(train_x_array[idx,:,1], train_y_array[idx,:,1])\n",
    "plt.show()"
   ]
  },
  {
   "cell_type": "code",
   "execution_count": 67,
   "id": "soviet-governor",
   "metadata": {
    "scrolled": true
   },
   "outputs": [
    {
     "data": {
      "image/png": "[encoded data removed]",
      "text/plain": [
       "<Figure size 432x288 with 1 Axes>"
      ]
     },
     "metadata": {
      "needs_background": "light"
     },
     "output_type": "display_data"
    }
   ],
   "source": [
    "# open\n",
    "idx = 1012\n",
    "plot_series(train_x_array[idx,:,10], train_y_array[idx,:,10])\n",
    "plt.show()"
   ]
  },
  {
   "cell_type": "code",
   "execution_count": null,
   "id": "frequent-auditor",
   "metadata": {
    "scrolled": false
   },
   "outputs": [],
   "source": [
    "macd_x_series = train_x_array[idx,:,11]\n",
    "macd_y_series = train_y_array[idx,:,11]\n",
    "plt.plot(macd_x_series, label = 'input_series')\n",
    "plt.plot(np.arange(len(macd_x_series), len(macd_x_series)+len(macd_y_series)),\n",
    "         macd_y_series, label = 'output_series')"
   ]
  },
  {
   "cell_type": "code",
   "execution_count": 77,
   "id": "advance-ballot",
   "metadata": {},
   "outputs": [
    {
     "data": {
      "text/plain": [
       "[<matplotlib.lines.Line2D at 0x7fb4f4456650>]"
      ]
     },
     "execution_count": 77,
     "metadata": {},
     "output_type": "execute_result"
    },
    {
     "data": {
      "image/png": "[encoded data removed]",
      "text/plain": [
       "<Figure size 432x288 with 1 Axes>"
      ]
     },
     "metadata": {
      "needs_background": "light"
     },
     "output_type": "display_data"
    }
   ],
   "source": [
    "x_series = train_x_array[idx,:,12]\n",
    "y_series = train_y_array[idx,:,12]\n",
    "\n",
    "plt.plot(x_series, label = 'input_series')\n",
    "plt.plot(np.arange(len(x_series), len(x_series)+len(y_series)),\n",
    "         y_series, label = 'output_series')"
   ]
  },
  {
   "cell_type": "code",
   "execution_count": 75,
   "id": "failing-major",
   "metadata": {},
   "outputs": [
    {
     "data": {
      "text/plain": [
       "[<matplotlib.lines.Line2D at 0x7fb4f45a3590>]"
      ]
     },
     "execution_count": 75,
     "metadata": {},
     "output_type": "execute_result"
    },
    {
     "data": {
      "image/png": "[encoded data removed]",
      "text/plain": [
       "<Figure size 432x288 with 1 Axes>"
      ]
     },
     "metadata": {
      "needs_background": "light"
     },
     "output_type": "display_data"
    }
   ],
   "source": [
    "x_series = train_x_array[idx,:,13]\n",
    "y_series = train_y_array[idx,:,13]\n",
    "\n",
    "plt.plot(x_series, label = 'input_series')\n",
    "plt.plot(np.arange(len(x_series), len(x_series)+len(y_series)),\n",
    "         y_series, label = 'output_series')"
   ]
  },
  {
   "cell_type": "code",
   "execution_count": 78,
   "id": "quantitative-defense",
   "metadata": {},
   "outputs": [],
   "source": [
    "start_time = '2021-01-31 00:00:00'\n",
    "start_dt = datetime.datetime.strptime(start_time, '%Y-%m-%d %H:%M:%S')"
   ]
  },
  {
   "cell_type": "code",
   "execution_count": null,
   "id": "narrative-miller",
   "metadata": {},
   "outputs": [],
   "source": [
    "macd_x_series = train_x_array[idx,:,11]\n",
    "macd_y_series = train_y_array[idx,:,11]\n",
    "\n",
    "macd_x_df = pd.DataFrame()\n",
    "macd_x_df['ds'] = [start_dt + datetime.timedelta(minutes = time_min) for time_min in np.arange(1, macd_x_series.shape[0]+1).tolist()]\n",
    "macd_x_df['y'] = macd_y_series.tolist()\n",
    "\n",
    "macd_x_df.head()"
   ]
  },
  {
   "cell_type": "code",
   "execution_count": 88,
   "id": "handy-greece",
   "metadata": {},
   "outputs": [
    {
     "data": {
      "text/plain": [
       "<fbprophet.forecaster.Prophet at 0x7fb4f363cf10>"
      ]
     },
     "execution_count": 88,
     "metadata": {},
     "output_type": "execute_result"
    }
   ],
   "source": [
    "prophet = Prophet(seasonality_mode='multiplicative', \n",
    "                  yearly_seasonality=False,\n",
    "                  weekly_seasonality=False, daily_seasonality=False)\n",
    "prophet.fit(macd_x_df)"
   ]
  },
  {
   "cell_type": "code",
   "execution_count": 89,
   "id": "liable-kingston",
   "metadata": {},
   "outputs": [
    {
     "data": {
      "text/html": [
       "<div>\n",
       "<style scoped>\n",
       "    .dataframe tbody tr th:only-of-type {\n",
       "        vertical-align: middle;\n",
       "    }\n",
       "\n",
       "    .dataframe tbody tr th {\n",
       "        vertical-align: top;\n",
       "    }\n",
       "\n",
       "    .dataframe thead th {\n",
       "        text-align: right;\n",
       "    }\n",
       "</style>\n",
       "<table border=\"1\" class=\"dataframe\">\n",
       "  <thead>\n",
       "    <tr style=\"text-align: right;\">\n",
       "      <th></th>\n",
       "      <th>ds</th>\n",
       "      <th>yhat</th>\n",
       "      <th>yhat_lower</th>\n",
       "      <th>yhat_upper</th>\n",
       "    </tr>\n",
       "  </thead>\n",
       "  <tbody>\n",
       "    <tr>\n",
       "      <th>1495</th>\n",
       "      <td>2021-02-01 00:56:00</td>\n",
       "      <td>-0.004980</td>\n",
       "      <td>-0.006959</td>\n",
       "      <td>-0.002946</td>\n",
       "    </tr>\n",
       "    <tr>\n",
       "      <th>1496</th>\n",
       "      <td>2021-02-01 00:57:00</td>\n",
       "      <td>-0.004991</td>\n",
       "      <td>-0.007057</td>\n",
       "      <td>-0.002948</td>\n",
       "    </tr>\n",
       "    <tr>\n",
       "      <th>1497</th>\n",
       "      <td>2021-02-01 00:58:00</td>\n",
       "      <td>-0.005001</td>\n",
       "      <td>-0.007204</td>\n",
       "      <td>-0.002866</td>\n",
       "    </tr>\n",
       "    <tr>\n",
       "      <th>1498</th>\n",
       "      <td>2021-02-01 00:59:00</td>\n",
       "      <td>-0.005011</td>\n",
       "      <td>-0.007050</td>\n",
       "      <td>-0.003002</td>\n",
       "    </tr>\n",
       "    <tr>\n",
       "      <th>1499</th>\n",
       "      <td>2021-02-01 01:00:00</td>\n",
       "      <td>-0.005022</td>\n",
       "      <td>-0.007198</td>\n",
       "      <td>-0.002991</td>\n",
       "    </tr>\n",
       "  </tbody>\n",
       "</table>\n",
       "</div>"
      ],
      "text/plain": [
       "                      ds      yhat  yhat_lower  yhat_upper\n",
       "1495 2021-02-01 00:56:00 -0.004980   -0.006959   -0.002946\n",
       "1496 2021-02-01 00:57:00 -0.004991   -0.007057   -0.002948\n",
       "1497 2021-02-01 00:58:00 -0.005001   -0.007204   -0.002866\n",
       "1498 2021-02-01 00:59:00 -0.005011   -0.007050   -0.003002\n",
       "1499 2021-02-01 01:00:00 -0.005022   -0.007198   -0.002991"
      ]
     },
     "execution_count": 89,
     "metadata": {},
     "output_type": "execute_result"
    }
   ],
   "source": [
    "# 120분 테스트 데이터를 예측합니다.\n",
    "future_data = prophet.make_future_dataframe(periods=120, freq='min')\n",
    "forecast_data = prophet.predict(future_data)\n",
    "forecast_data[['ds', 'yhat', 'yhat_lower', 'yhat_upper']].tail(5)"
   ]
  },
  {
   "cell_type": "code",
   "execution_count": 90,
   "id": "appointed-chance",
   "metadata": {},
   "outputs": [
    {
     "data": {
      "image/png": "[encoded data removed]",
      "text/plain": [
       "<Figure size 720x432 with 1 Axes>"
      ]
     },
     "metadata": {},
     "output_type": "display_data"
    }
   ],
   "source": [
    "# 만들어진 데이터를 확인합니다.\n",
    "fig1 = prophet.plot(forecast_data)"
   ]
  },
  {
   "cell_type": "code",
   "execution_count": 91,
   "id": "known-architect",
   "metadata": {},
   "outputs": [
    {
     "data": {
      "image/png": "[encoded data removed]",
      "text/plain": [
       "<Figure size 648x216 with 1 Axes>"
      ]
     },
     "metadata": {},
     "output_type": "display_data"
    }
   ],
   "source": [
    "# 데이터의 추세를 확인합니다.\n",
    "fig2 = prophet.plot_components(forecast_data)"
   ]
  },
  {
   "cell_type": "code",
   "execution_count": 96,
   "id": "medieval-karma",
   "metadata": {
    "scrolled": true
   },
   "outputs": [
    {
     "data": {
      "image/png": "[encoded data removed]",
      "text/plain": [
       "<Figure size 432x288 with 1 Axes>"
      ]
     },
     "metadata": {
      "needs_background": "light"
     },
     "output_type": "display_data"
    }
   ],
   "source": [
    "pred_y = forecast_data.yhat.values[-120:]\n",
    "pred_y_lower = forecast_data.yhat_lower.values[-120:]\n",
    "pred_y_upper = forecast_data.yhat_upper.values[-120:]\n",
    "\n",
    "plt.plot(x_series, label = 'input_series')\n",
    "plt.plot(np.arange(len(x_series), len(x_series)+len(y_series)),\n",
    "         y_series, label = 'output_series')\n",
    "\n",
    "plt.plot(np.arange(1380, 1380+120), pred_y, label = 'prediction')\n",
    "plt.plot(np.arange(1380, 1380+120), pred_y_lower, label = 'prediction_lower')\n",
    "plt.plot(np.arange(1380, 1380+120), pred_y_upper, label = 'prediction_upper')\n",
    "plt.legend()\n",
    "plt.show()"
   ]
  },
  {
   "cell_type": "markdown",
   "id": "boring-final",
   "metadata": {},
   "source": [
    "macd 지표로 봤을때, 좀더 흐름을 볼 수 있게되었음을 알 수 있다. "
   ]
  },
  {
   "cell_type": "code",
   "execution_count": null,
   "id": "architectural-analyst",
   "metadata": {},
   "outputs": [],
   "source": [
    "x_series = train_x_array[idx,:,1]\n",
    "y_series = train_y_array[idx,:,1]\n",
    "\n",
    "x_df = pd.DataFrame()\n",
    "x_df['ds'] = [start_dt + datetime.timedelta(minutes = time_min) for time_min in np.arange(1, x_series.shape[0]+1).tolist()]\n",
    "x_df['y'] = x_series.tolist()\n",
    "\n",
    "x_df.head()"
   ]
  },
  {
   "cell_type": "markdown",
   "id": "traditional-large",
   "metadata": {},
   "source": [
    "## 2) validation set 훈련하기\n",
    "### <1> validation 데이터 생성하기"
   ]
  },
  {
   "cell_type": "code",
   "execution_count": 98,
   "id": "developing-small",
   "metadata": {},
   "outputs": [],
   "source": [
    "# train 데이터 상단의 300개 샘플로 validation set를 구성하여 학습 및 추론\n",
    "valid_x_macd_df = train_x_df[train_x_macd_df.sample_id < 300]\n",
    "valid_y_macd_df = train_y_df[train_y_macd_df.sample_id < 300]\n",
    "\n",
    "valid_x_array = df2d_to_array3d(valid_x_macd_df)\n",
    "valid_y_array = df2d_to_array3d(valid_y_macd_df)\n",
    "valid_pred_array = np.zeros([300, 120])"
   ]
  },
  {
   "cell_type": "markdown",
   "id": "simple-farmer",
   "metadata": {},
   "source": [
    "### <2> 학습 및 추론하기"
   ]
  },
  {
   "cell_type": "code",
   "execution_count": 99,
   "id": "falling-puzzle",
   "metadata": {},
   "outputs": [
    {
     "name": "stderr",
     "output_type": "stream",
     "text": [
      "100%|██████████| 300/300 [12:28<00:00,  2.49s/it]\n"
     ]
    }
   ],
   "source": [
    "for idx in tqdm(range(valid_x_array.shape[0])):\n",
    "    try:\n",
    "        x_series = valid_x_array[idx,:,1]\n",
    "\n",
    "        x_df = pd.DataFrame()\n",
    "        x_df['ds'] = [start_dt + datetime.timedelta(minutes = time_min) for time_min in np.arange(1, x_series.shape[0]+1).tolist()]\n",
    "        x_df['y'] = x_series.tolist()\n",
    "\n",
    "        prophet = Prophet(seasonality_mode='multiplicative', \n",
    "                  yearly_seasonality=False,\n",
    "                  weekly_seasonality=False, daily_seasonality=False)\n",
    "        prophet.fit(x_df)\n",
    "\n",
    "        # 120분 테스트 데이터를 예측합니다.\n",
    "        future_data = prophet.make_future_dataframe(periods=120, freq='min')\n",
    "        forecast_data = prophet.predict(future_data)\n",
    "\n",
    "        pred_y = forecast_data.yhat.values[-120:]\n",
    "        pred_y_lower = forecast_data.yhat_lower.values[-120:]\n",
    "        pred_y_upper = forecast_data.yhat_upper.values[-120:]\n",
    "\n",
    "        valid_pred_array[idx,:] = pred_y\n",
    "    except:\n",
    "        print(idx, \" 샘플은 수렴하지 않습니다.\")\n",
    "        pass"
   ]
  },
  {
   "cell_type": "markdown",
   "id": "bridal-button",
   "metadata": {},
   "source": [
    "### <3> valid_pred_array 로부터 buy_quantity, sell_time 구하기"
   ]
  },
  {
   "cell_type": "code",
   "execution_count": 100,
   "id": "historical-newsletter",
   "metadata": {},
   "outputs": [],
   "source": [
    "def array_to_submission(x_array, pred_array):\n",
    "    # 입력 x_arrry와 출력 pred_arry를 통해서 \n",
    "    # buy_quantitiy와 sell_time을 결정\n",
    "    submission = pd.DataFrame(np.zeros([pred_array.shape[0],2], np.int64),\n",
    "                columns = ['buy_quantity', 'sell_time'])\n",
    "    submission = submission.reset_index()\n",
    "    submission.loc[:, 'buy_quantity'] = 1\n",
    "    \n",
    "    buy_price = []\n",
    "    for idx, sell_time in enumerate(np.argmax(pred_array, axis = 1)):\n",
    "        buy_price.append(pred_array[idx, sell_time])\n",
    "    buy_price = np.array(buy_price)\n",
    "    # 105% 이상 상승한하고 예측한 sample에 대해서만 100% 매수\n",
    "    submission.loc[:, 'buy_quantity'] = (buy_price > 1.05) * 1\n",
    "    # 모델이 예측값 중 최대 값에 해당하는 시간에 매도\n",
    "    submission['sell_time'] = np.argmax(pred_array, axis = 1)\n",
    "    submission.columns = ['sample_id','buy_quantity', 'sell_time']\n",
    "    return submission"
   ]
  },
  {
   "cell_type": "code",
   "execution_count": 101,
   "id": "logical-marker",
   "metadata": {},
   "outputs": [],
   "source": [
    "valid_submission = array_to_submission(valid_x_array, valid_pred_array)"
   ]
  },
  {
   "cell_type": "code",
   "execution_count": 102,
   "id": "successful-vision",
   "metadata": {},
   "outputs": [
    {
     "data": {
      "text/html": [
       "<div>\n",
       "<style scoped>\n",
       "    .dataframe tbody tr th:only-of-type {\n",
       "        vertical-align: middle;\n",
       "    }\n",
       "\n",
       "    .dataframe tbody tr th {\n",
       "        vertical-align: top;\n",
       "    }\n",
       "\n",
       "    .dataframe thead th {\n",
       "        text-align: right;\n",
       "    }\n",
       "</style>\n",
       "<table border=\"1\" class=\"dataframe\">\n",
       "  <thead>\n",
       "    <tr style=\"text-align: right;\">\n",
       "      <th></th>\n",
       "      <th>sample_id</th>\n",
       "      <th>buy_quantity</th>\n",
       "      <th>sell_time</th>\n",
       "    </tr>\n",
       "  </thead>\n",
       "  <tbody>\n",
       "    <tr>\n",
       "      <th>0</th>\n",
       "      <td>0</td>\n",
       "      <td>0</td>\n",
       "      <td>119</td>\n",
       "    </tr>\n",
       "    <tr>\n",
       "      <th>1</th>\n",
       "      <td>1</td>\n",
       "      <td>0</td>\n",
       "      <td>0</td>\n",
       "    </tr>\n",
       "    <tr>\n",
       "      <th>2</th>\n",
       "      <td>2</td>\n",
       "      <td>0</td>\n",
       "      <td>0</td>\n",
       "    </tr>\n",
       "    <tr>\n",
       "      <th>3</th>\n",
       "      <td>3</td>\n",
       "      <td>0</td>\n",
       "      <td>119</td>\n",
       "    </tr>\n",
       "    <tr>\n",
       "      <th>4</th>\n",
       "      <td>4</td>\n",
       "      <td>0</td>\n",
       "      <td>0</td>\n",
       "    </tr>\n",
       "    <tr>\n",
       "      <th>...</th>\n",
       "      <td>...</td>\n",
       "      <td>...</td>\n",
       "      <td>...</td>\n",
       "    </tr>\n",
       "    <tr>\n",
       "      <th>295</th>\n",
       "      <td>295</td>\n",
       "      <td>0</td>\n",
       "      <td>119</td>\n",
       "    </tr>\n",
       "    <tr>\n",
       "      <th>296</th>\n",
       "      <td>296</td>\n",
       "      <td>0</td>\n",
       "      <td>0</td>\n",
       "    </tr>\n",
       "    <tr>\n",
       "      <th>297</th>\n",
       "      <td>297</td>\n",
       "      <td>0</td>\n",
       "      <td>0</td>\n",
       "    </tr>\n",
       "    <tr>\n",
       "      <th>298</th>\n",
       "      <td>298</td>\n",
       "      <td>0</td>\n",
       "      <td>0</td>\n",
       "    </tr>\n",
       "    <tr>\n",
       "      <th>299</th>\n",
       "      <td>299</td>\n",
       "      <td>0</td>\n",
       "      <td>119</td>\n",
       "    </tr>\n",
       "  </tbody>\n",
       "</table>\n",
       "<p>300 rows × 3 columns</p>\n",
       "</div>"
      ],
      "text/plain": [
       "     sample_id  buy_quantity  sell_time\n",
       "0            0             0        119\n",
       "1            1             0          0\n",
       "2            2             0          0\n",
       "3            3             0        119\n",
       "4            4             0          0\n",
       "..         ...           ...        ...\n",
       "295        295             0        119\n",
       "296        296             0          0\n",
       "297        297             0          0\n",
       "298        298             0          0\n",
       "299        299             0        119\n",
       "\n",
       "[300 rows x 3 columns]"
      ]
     },
     "execution_count": 102,
     "metadata": {},
     "output_type": "execute_result"
    }
   ],
   "source": [
    "valid_submission"
   ]
  },
  {
   "cell_type": "code",
   "execution_count": 103,
   "id": "brutal-playback",
   "metadata": {},
   "outputs": [
    {
     "data": {
      "text/plain": [
       "0    297\n",
       "1      3\n",
       "Name: buy_quantity, dtype: int64"
      ]
     },
     "execution_count": 103,
     "metadata": {},
     "output_type": "execute_result"
    }
   ],
   "source": [
    "# 전체 300가지 sample에 대해\n",
    "# case에서 105% 이상 상승하는 값 세기 \n",
    "valid_submission.buy_quantity.value_counts()"
   ]
  },
  {
   "cell_type": "markdown",
   "id": "closing-dependence",
   "metadata": {},
   "source": [
    "### <4> 투자 후 금액 계산하기"
   ]
  },
  {
   "cell_type": "code",
   "execution_count": 104,
   "id": "married-cartoon",
   "metadata": {},
   "outputs": [],
   "source": [
    "def df2d_to_answer(df_2d):\n",
    "    # valid_y_df로부터\n",
    "    # open 가격 정보가 포함된\n",
    "    # [샘플 수, 120분] 크기의 \n",
    "    # 2차원 array를 반환하는 함수\n",
    "    feature_size = df_2d.iloc[:,2:].shape[1]\n",
    "    time_size = len(df_2d.time.value_counts())\n",
    "    sample_size = len(df_2d.sample_id.value_counts())\n",
    "    sample_index = df_2d.sample_id.value_counts().index\n",
    "    array_2d = df_2d.open.values.reshape([sample_size, time_size])\n",
    "    sample_index = list(sample_index)\n",
    "    return array_2d, sample_index\n",
    "\n",
    "\n",
    "def COIN(y_df, submission, df2d_to_answer = df2d_to_answer):\n",
    "    # 2차원 데이터프레임에서 open 시점 데이터만 추출하여 array로 복원\n",
    "    # sample_id정보를 index에 저장\n",
    "    y_array, index = df2d_to_answer(y_df)\n",
    "    \n",
    "    # index 기준으로 submission을 다시 선택\n",
    "    submission = submission.set_index(submission.columns[0])\n",
    "    submission = submission.iloc[index, :]    \n",
    "    \n",
    "    # 초기 투자 비용은 10000 달러\n",
    "    total_momey      = 10000 # dolors\n",
    "    total_momey_list = []\n",
    "    \n",
    "    # 가장 처음 sample_id값\n",
    "    start_index = submission.index[0]\n",
    "    for row_idx in submission.index:\n",
    "        sell_time  = submission.loc[row_idx, 'sell_time']\n",
    "        buy_price  = y_array[row_idx - start_index, 0]\n",
    "        sell_price = y_array[row_idx - start_index, sell_time]\n",
    "        buy_quantity = submission.loc[row_idx, 'buy_quantity'] * total_momey\n",
    "        residual = total_momey - buy_quantity\n",
    "        ratio = sell_price / buy_price\n",
    "        total_momey = buy_quantity * ratio * 0.9995 * 0.9995 + residual        \n",
    "        total_momey_list.append(total_momey)\n",
    "        \n",
    "    return total_momey, total_momey_list"
   ]
  },
  {
   "cell_type": "code",
   "execution_count": 106,
   "id": "breeding-defensive",
   "metadata": {},
   "outputs": [],
   "source": [
    "total_momey, total_momey_list = COIN(valid_y_macd_df,\n",
    "                                     valid_submission)"
   ]
  },
  {
   "cell_type": "code",
   "execution_count": 107,
   "id": "flush-incidence",
   "metadata": {},
   "outputs": [
    {
     "name": "stdout",
     "output_type": "stream",
     "text": [
      "10476.210928695973\n"
     ]
    }
   ],
   "source": [
    "# 투자 후 금액\n",
    "print(total_momey)"
   ]
  },
  {
   "cell_type": "code",
   "execution_count": 108,
   "id": "norwegian-madagascar",
   "metadata": {},
   "outputs": [
    {
     "data": {
      "image/png": "[encoded data removed]",
      "text/plain": [
       "<Figure size 432x288 with 1 Axes>"
      ]
     },
     "metadata": {
      "needs_background": "light"
     },
     "output_type": "display_data"
    }
   ],
   "source": [
    "# 투자 히스토리\n",
    "plt.plot(total_momey_list)\n",
    "plt.title(\"history\")\n",
    "plt.show()"
   ]
  },
  {
   "cell_type": "markdown",
   "id": "moving-clothing",
   "metadata": {},
   "source": [
    "## test 데이터 학습하고 추론하기"
   ]
  },
  {
   "cell_type": "code",
   "execution_count": null,
   "id": "burning-joshua",
   "metadata": {},
   "outputs": [
    {
     "name": "stderr",
     "output_type": "stream",
     "text": [
      " 42%|████▏     | 223/529 [09:19<12:49,  2.51s/it]"
     ]
    },
    {
     "name": "stdout",
     "output_type": "stream",
     "text": [
      "222  샘플은 수렴하지 않습니다.\n"
     ]
    },
    {
     "name": "stderr",
     "output_type": "stream",
     "text": [
      " 43%|████▎     | 226/529 [09:26<12:36,  2.50s/it]"
     ]
    }
   ],
   "source": [
    "test_pred_array = np.zeros([test_x_array.shape[0],\n",
    "                           120])\n",
    "for idx in tqdm(range(test_x_array.shape[0])):\n",
    "    try:\n",
    "        x_series = test_x_array[idx,:,1]\n",
    "\n",
    "        x_df = pd.DataFrame()\n",
    "        x_df['ds'] = [start_dt + datetime.timedelta(minutes = time_min) for time_min in np.arange(1, x_series.shape[0]+1).tolist()]\n",
    "        x_df['y'] = x_series.tolist()\n",
    "\n",
    "        prophet = Prophet(seasonality_mode='multiplicative', \n",
    "                  yearly_seasonality=False,\n",
    "                  weekly_seasonality=False, daily_seasonality=False)\n",
    "        prophet.fit(x_df)\n",
    "\n",
    "        # 120분 테스트 데이터를 예측합니다.\n",
    "        future_data = prophet.make_future_dataframe(periods=120, freq='min')\n",
    "        forecast_data = prophet.predict(future_data)\n",
    "\n",
    "        pred_y = forecast_data.yhat.values[-120:]\n",
    "        pred_y_lower = forecast_data.yhat_lower.values[-120:]\n",
    "        pred_y_upper = forecast_data.yhat_upper.values[-120:]\n",
    "\n",
    "        test_pred_array[idx,:] = pred_y\n",
    "    except:\n",
    "        print(idx, \" 샘플은 수렴하지 않습니다.\")\n",
    "        pass"
   ]
  },
  {
   "cell_type": "markdown",
   "id": "middle-coaching",
   "metadata": {},
   "source": [
    "## 추론한 test_pred_array를 바탕으로 submission df 생성하기"
   ]
  },
  {
   "cell_type": "code",
   "execution_count": null,
   "id": "suitable-transition",
   "metadata": {},
   "outputs": [],
   "source": [
    "test_submission = array_to_submission(test_x_array, test_pred_array)"
   ]
  },
  {
   "cell_type": "code",
   "execution_count": null,
   "id": "literary-document",
   "metadata": {},
   "outputs": [],
   "source": [
    "test_submission"
   ]
  },
  {
   "cell_type": "code",
   "execution_count": null,
   "id": "existing-indian",
   "metadata": {},
   "outputs": [],
   "source": [
    "# 전체 300가지 sample에 대해\n",
    "# case에서 105% 이상 상승하는 값 세기 \n",
    "test_submission.buy_quantity.value_counts()"
   ]
  },
  {
   "cell_type": "code",
   "execution_count": null,
   "id": "constitutional-alloy",
   "metadata": {},
   "outputs": [],
   "source": [
    "total_momey, total_momey_list = COIN(valid_y_macd_df,\n",
    "                                     test_submission)"
   ]
  },
  {
   "cell_type": "code",
   "execution_count": null,
   "id": "invisible-process",
   "metadata": {},
   "outputs": [],
   "source": [
    "submission.to_csv(data_path+\"/MACD_frophet_baseline_submission_proh.csv\", index = False)"
   ]
  }
 ],
 "metadata": {
  "kernelspec": {
   "display_name": "moduway",
   "language": "python",
   "name": "moduway"
  },
  "language_info": {
   "codemirror_mode": {
    "name": "ipython",
    "version": 3
   },
   "file_extension": ".py",
   "mimetype": "text/x-python",
   "name": "python",
   "nbconvert_exporter": "python",
   "pygments_lexer": "ipython3",
   "version": "3.9.1"
  },
  "toc": {
   "base_numbering": 1,
   "nav_menu": {},
   "number_sections": true,
   "sideBar": true,
   "skip_h1_title": false,
   "title_cell": "Table of Contents",
   "title_sidebar": "Contents",
   "toc_cell": false,
   "toc_position": {},
   "toc_section_display": true,
   "toc_window_display": false
  },
  "varInspector": {
   "cols": {
    "lenName": 16,
    "lenType": 16,
    "lenVar": 40
   },
   "kernels_config": {
    "python": {
     "delete_cmd_postfix": "",
     "delete_cmd_prefix": "del ",
     "library": "var_list.py",
     "varRefreshCmd": "print(var_dic_list())"
    },
    "r": {
     "delete_cmd_postfix": ") ",
     "delete_cmd_prefix": "rm(",
     "library": "var_list.r",
     "varRefreshCmd": "cat(var_dic_list()) "
    }
   },
   "types_to_exclude": [
    "module",
    "function",
    "builtin_function_or_method",
    "instance",
    "_Feature"
   ],
   "window_display": false
  }
 },
 "nbformat": 4,
 "nbformat_minor": 5
}
