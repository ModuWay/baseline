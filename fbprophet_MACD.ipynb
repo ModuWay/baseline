{
 "cells": [
  {
   "cell_type": "markdown",
   "metadata": {
    "id": "NGHEwc8Ipc8q"
   },
   "source": [
    "# fbprophet 모델을 활용한 인공지능 비트 트레이더 경진대회 베이스라인 코드"
   ]
  },
  {
   "cell_type": "code",
   "execution_count": 1,
   "metadata": {
    "ExecuteTime": {
     "end_time": "2021-03-21T16:42:30.153836Z",
     "start_time": "2021-03-21T16:42:30.148529Z"
    },
    "colab": {
     "base_uri": "https://localhost:8080/"
    },
    "id": "x4DCCatIpfx5",
    "outputId": "fc6c0c31-9bdc-4638-9055-a074b0be6c56"
   },
   "outputs": [],
   "source": [
    "# from google.colab import drive\n",
    "# drive.mount('/content/drive')"
   ]
  },
  {
   "cell_type": "code",
   "execution_count": 2,
   "metadata": {
    "ExecuteTime": {
     "end_time": "2021-03-21T16:42:30.291306Z",
     "start_time": "2021-03-21T16:42:30.289542Z"
    },
    "colab": {
     "base_uri": "https://localhost:8080/"
    },
    "id": "z2fmFoSAr3Z4",
    "outputId": "7bc11f75-827a-4804-cc49-4d7b2743a7f6"
   },
   "outputs": [],
   "source": [
    "# !pip install statsmodels==0.11.1\n",
    "# !pip install fbprophet"
   ]
  },
  {
   "cell_type": "markdown",
   "metadata": {
    "id": "DWFN7rLkpc8z"
   },
   "source": [
    "# 1. Library Import"
   ]
  },
  {
   "cell_type": "code",
   "execution_count": 3,
   "metadata": {
    "ExecuteTime": {
     "end_time": "2021-03-21T16:42:31.443388Z",
     "start_time": "2021-03-21T16:42:30.580693Z"
    },
    "id": "yyFoOWXPpc8z"
   },
   "outputs": [],
   "source": [
    "import numpy as np\n",
    "import pandas as pd\n",
    "import gc\n",
    "import math\n",
    "import os.path\n",
    "import time\n",
    "import matplotlib.pyplot as plt\n",
    "from datetime import timedelta, datetime\n",
    "from dateutil import parser\n",
    "from tqdm import tqdm\n",
    "import copy\n",
    "from statsmodels.tsa.arima.model import ARIMA\n",
    "from statsmodels.graphics.tsaplots import plot_acf, plot_pacf\n",
    "from fbprophet import Prophet\n",
    "import warnings\n",
    "import datetime\n",
    "from plotly import tools \n",
    "import plotly.offline as offline \n",
    "import plotly.graph_objs as go \n",
    "warnings.filterwarnings(\"ignore\")"
   ]
  },
  {
   "cell_type": "markdown",
   "metadata": {
    "id": "DbSjRtv9pc80"
   },
   "source": [
    "# 2. 데이터 불러오기"
   ]
  },
  {
   "cell_type": "markdown",
   "metadata": {
    "id": "r1Gj0sBXpc81"
   },
   "source": [
    "## 1) read_csv"
   ]
  },
  {
   "cell_type": "code",
   "execution_count": 4,
   "metadata": {
    "ExecuteTime": {
     "end_time": "2021-03-21T16:42:44.445754Z",
     "start_time": "2021-03-21T16:42:31.460292Z"
    },
    "id": "zD66e_8opc81"
   },
   "outputs": [],
   "source": [
    "data_path = os.getenv('HOME') + '/ModuWay/data'\n",
    "train_x_df = pd.read_csv(data_path  + \"/train_x_df.csv\")\n",
    "train_y_df = pd.read_csv(data_path  + \"/train_y_df.csv\")\n",
    "test_x_df = pd.read_csv(data_path  + \"/test_x_df.csv\")"
   ]
  },
  {
   "cell_type": "markdown",
   "metadata": {},
   "source": [
    "* sample_id : 개별 샘플의 인덱스\n",
    "* time : x_df는 0분 ~ 1379분, y_df는 0분 ~ 119분의 값을 갖습니다. 동일한 샘플 내 시간 정보\n",
    "* coin_index : 10가지 종류의 코인에 대한 비식별화 인덱스 (0 ~9)\n",
    "* open : open price\n",
    "* high : high price\n",
    "* low : low price\n",
    "* close : close price\n",
    "* volume : 거래량\n",
    "* quote_av : quote asset volume\n",
    "* trades : 거래 건 수\n",
    "* tb_base_av : taker buy base asset volume\n",
    "* tb_quote_av : taker buy quote asset volume"
   ]
  },
  {
   "cell_type": "code",
   "execution_count": 36,
   "metadata": {
    "ExecuteTime": {
     "end_time": "2021-03-21T17:54:24.046237Z",
     "start_time": "2021-03-21T17:54:24.041003Z"
    }
   },
   "outputs": [],
   "source": [
    "def get_macd(df, short=12, long=26, t=9): \n",
    "    \n",
    "    # 입력받은 값이 dataframe이라는 것을 정의해줌 \n",
    "    df = pd.DataFrame(df)\n",
    "    \n",
    "    # MACD 관련 수식 \n",
    "    ma_12 = df.close.ewm(span=12).mean() # 단기(12) EMA(지수이동평균) \n",
    "    ma_26 = df.close.ewm(span=26).mean() # 장기(26) EMA \n",
    "    macd = ma_12 - ma_26 # MACD \n",
    "    macds = macd.ewm(span=9).mean() # Signal \n",
    "    macdo = macd - macds # Oscillator \n",
    "    \n",
    "    df = df.assign(macd=macd, macds=macds, macdo=macdo).dropna() \n",
    "    \n",
    "    return df"
   ]
  },
  {
   "cell_type": "code",
   "execution_count": 5,
   "metadata": {
    "ExecuteTime": {
     "end_time": "2021-03-21T16:42:44.562566Z",
     "start_time": "2021-03-21T16:42:44.547846Z"
    }
   },
   "outputs": [
    {
     "data": {
      "text/html": [
       "<div>\n",
       "<style scoped>\n",
       "    .dataframe tbody tr th:only-of-type {\n",
       "        vertical-align: middle;\n",
       "    }\n",
       "\n",
       "    .dataframe tbody tr th {\n",
       "        vertical-align: top;\n",
       "    }\n",
       "\n",
       "    .dataframe thead th {\n",
       "        text-align: right;\n",
       "    }\n",
       "</style>\n",
       "<table border=\"1\" class=\"dataframe\">\n",
       "  <thead>\n",
       "    <tr style=\"text-align: right;\">\n",
       "      <th></th>\n",
       "      <th>sample_id</th>\n",
       "      <th>time</th>\n",
       "      <th>coin_index</th>\n",
       "      <th>open</th>\n",
       "      <th>high</th>\n",
       "      <th>low</th>\n",
       "      <th>close</th>\n",
       "      <th>volume</th>\n",
       "      <th>quote_av</th>\n",
       "      <th>trades</th>\n",
       "      <th>tb_base_av</th>\n",
       "      <th>tb_quote_av</th>\n",
       "    </tr>\n",
       "  </thead>\n",
       "  <tbody>\n",
       "    <tr>\n",
       "      <th>0</th>\n",
       "      <td>0</td>\n",
       "      <td>0</td>\n",
       "      <td>7</td>\n",
       "      <td>1.010004</td>\n",
       "      <td>1.010004</td>\n",
       "      <td>1.009612</td>\n",
       "      <td>1.010004</td>\n",
       "      <td>8.382875e+05</td>\n",
       "      <td>43160.632812</td>\n",
       "      <td>451.157288</td>\n",
       "      <td>7.326834e+05</td>\n",
       "      <td>37725.183594</td>\n",
       "    </tr>\n",
       "    <tr>\n",
       "      <th>1</th>\n",
       "      <td>0</td>\n",
       "      <td>1</td>\n",
       "      <td>7</td>\n",
       "      <td>1.009808</td>\n",
       "      <td>1.009808</td>\n",
       "      <td>1.009808</td>\n",
       "      <td>1.009808</td>\n",
       "      <td>1.622420e+05</td>\n",
       "      <td>8352.220703</td>\n",
       "      <td>39.231071</td>\n",
       "      <td>0.000000e+00</td>\n",
       "      <td>0.000000</td>\n",
       "    </tr>\n",
       "    <tr>\n",
       "      <th>2</th>\n",
       "      <td>0</td>\n",
       "      <td>2</td>\n",
       "      <td>7</td>\n",
       "      <td>1.009808</td>\n",
       "      <td>1.010200</td>\n",
       "      <td>1.009808</td>\n",
       "      <td>1.010200</td>\n",
       "      <td>1.664967e+04</td>\n",
       "      <td>857.377808</td>\n",
       "      <td>58.846603</td>\n",
       "      <td>1.664967e+04</td>\n",
       "      <td>857.377808</td>\n",
       "    </tr>\n",
       "    <tr>\n",
       "      <th>3</th>\n",
       "      <td>0</td>\n",
       "      <td>3</td>\n",
       "      <td>7</td>\n",
       "      <td>1.010200</td>\n",
       "      <td>1.011181</td>\n",
       "      <td>1.010200</td>\n",
       "      <td>1.011181</td>\n",
       "      <td>2.586971e+06</td>\n",
       "      <td>133310.343750</td>\n",
       "      <td>431.541779</td>\n",
       "      <td>2.189147e+06</td>\n",
       "      <td>112811.046875</td>\n",
       "    </tr>\n",
       "    <tr>\n",
       "      <th>4</th>\n",
       "      <td>0</td>\n",
       "      <td>4</td>\n",
       "      <td>7</td>\n",
       "      <td>1.010985</td>\n",
       "      <td>1.010985</td>\n",
       "      <td>1.010200</td>\n",
       "      <td>1.010200</td>\n",
       "      <td>1.129996e+06</td>\n",
       "      <td>58216.867188</td>\n",
       "      <td>176.539810</td>\n",
       "      <td>0.000000e+00</td>\n",
       "      <td>0.000000</td>\n",
       "    </tr>\n",
       "    <tr>\n",
       "      <th>...</th>\n",
       "      <td>...</td>\n",
       "      <td>...</td>\n",
       "      <td>...</td>\n",
       "      <td>...</td>\n",
       "      <td>...</td>\n",
       "      <td>...</td>\n",
       "      <td>...</td>\n",
       "      <td>...</td>\n",
       "      <td>...</td>\n",
       "      <td>...</td>\n",
       "      <td>...</td>\n",
       "      <td>...</td>\n",
       "    </tr>\n",
       "    <tr>\n",
       "      <th>10159555</th>\n",
       "      <td>7361</td>\n",
       "      <td>1375</td>\n",
       "      <td>8</td>\n",
       "      <td>1.000668</td>\n",
       "      <td>1.001669</td>\n",
       "      <td>1.000626</td>\n",
       "      <td>1.001502</td>\n",
       "      <td>9.180907e+00</td>\n",
       "      <td>2203.059082</td>\n",
       "      <td>2.245034</td>\n",
       "      <td>6.229020e+00</td>\n",
       "      <td>1494.727417</td>\n",
       "    </tr>\n",
       "    <tr>\n",
       "      <th>10159556</th>\n",
       "      <td>7361</td>\n",
       "      <td>1376</td>\n",
       "      <td>8</td>\n",
       "      <td>1.001627</td>\n",
       "      <td>1.001920</td>\n",
       "      <td>1.000960</td>\n",
       "      <td>1.001294</td>\n",
       "      <td>7.963097e+00</td>\n",
       "      <td>1911.151611</td>\n",
       "      <td>2.211651</td>\n",
       "      <td>3.056139e+00</td>\n",
       "      <td>733.490601</td>\n",
       "    </tr>\n",
       "    <tr>\n",
       "      <th>10159557</th>\n",
       "      <td>7361</td>\n",
       "      <td>1377</td>\n",
       "      <td>8</td>\n",
       "      <td>1.001294</td>\n",
       "      <td>1.001461</td>\n",
       "      <td>1.000584</td>\n",
       "      <td>1.000668</td>\n",
       "      <td>3.849893e+00</td>\n",
       "      <td>923.610718</td>\n",
       "      <td>1.260224</td>\n",
       "      <td>2.284546e+00</td>\n",
       "      <td>548.042297</td>\n",
       "    </tr>\n",
       "    <tr>\n",
       "      <th>10159558</th>\n",
       "      <td>7361</td>\n",
       "      <td>1378</td>\n",
       "      <td>8</td>\n",
       "      <td>1.000709</td>\n",
       "      <td>1.000751</td>\n",
       "      <td>1.000042</td>\n",
       "      <td>1.000042</td>\n",
       "      <td>1.337402e+00</td>\n",
       "      <td>320.624756</td>\n",
       "      <td>0.826239</td>\n",
       "      <td>5.164965e-01</td>\n",
       "      <td>123.819839</td>\n",
       "    </tr>\n",
       "    <tr>\n",
       "      <th>10159559</th>\n",
       "      <td>7361</td>\n",
       "      <td>1379</td>\n",
       "      <td>8</td>\n",
       "      <td>1.000000</td>\n",
       "      <td>1.000918</td>\n",
       "      <td>0.999958</td>\n",
       "      <td>1.000876</td>\n",
       "      <td>1.278548e+00</td>\n",
       "      <td>306.542389</td>\n",
       "      <td>0.642631</td>\n",
       "      <td>7.320906e-01</td>\n",
       "      <td>175.527679</td>\n",
       "    </tr>\n",
       "  </tbody>\n",
       "</table>\n",
       "<p>10159560 rows × 12 columns</p>\n",
       "</div>"
      ],
      "text/plain": [
       "          sample_id  time  coin_index      open      high       low     close  \\\n",
       "0                 0     0           7  1.010004  1.010004  1.009612  1.010004   \n",
       "1                 0     1           7  1.009808  1.009808  1.009808  1.009808   \n",
       "2                 0     2           7  1.009808  1.010200  1.009808  1.010200   \n",
       "3                 0     3           7  1.010200  1.011181  1.010200  1.011181   \n",
       "4                 0     4           7  1.010985  1.010985  1.010200  1.010200   \n",
       "...             ...   ...         ...       ...       ...       ...       ...   \n",
       "10159555       7361  1375           8  1.000668  1.001669  1.000626  1.001502   \n",
       "10159556       7361  1376           8  1.001627  1.001920  1.000960  1.001294   \n",
       "10159557       7361  1377           8  1.001294  1.001461  1.000584  1.000668   \n",
       "10159558       7361  1378           8  1.000709  1.000751  1.000042  1.000042   \n",
       "10159559       7361  1379           8  1.000000  1.000918  0.999958  1.000876   \n",
       "\n",
       "                volume       quote_av      trades    tb_base_av    tb_quote_av  \n",
       "0         8.382875e+05   43160.632812  451.157288  7.326834e+05   37725.183594  \n",
       "1         1.622420e+05    8352.220703   39.231071  0.000000e+00       0.000000  \n",
       "2         1.664967e+04     857.377808   58.846603  1.664967e+04     857.377808  \n",
       "3         2.586971e+06  133310.343750  431.541779  2.189147e+06  112811.046875  \n",
       "4         1.129996e+06   58216.867188  176.539810  0.000000e+00       0.000000  \n",
       "...                ...            ...         ...           ...            ...  \n",
       "10159555  9.180907e+00    2203.059082    2.245034  6.229020e+00    1494.727417  \n",
       "10159556  7.963097e+00    1911.151611    2.211651  3.056139e+00     733.490601  \n",
       "10159557  3.849893e+00     923.610718    1.260224  2.284546e+00     548.042297  \n",
       "10159558  1.337402e+00     320.624756    0.826239  5.164965e-01     123.819839  \n",
       "10159559  1.278548e+00     306.542389    0.642631  7.320906e-01     175.527679  \n",
       "\n",
       "[10159560 rows x 12 columns]"
      ]
     },
     "execution_count": 5,
     "metadata": {},
     "output_type": "execute_result"
    }
   ],
   "source": [
    "train_x_df"
   ]
  },
  {
   "cell_type": "code",
   "execution_count": 6,
   "metadata": {
    "ExecuteTime": {
     "end_time": "2021-03-21T16:44:02.292242Z",
     "start_time": "2021-03-21T16:42:44.660473Z"
    },
    "scrolled": true
   },
   "outputs": [
    {
     "data": {
      "text/html": [
       "<div>\n",
       "<style scoped>\n",
       "    .dataframe tbody tr th:only-of-type {\n",
       "        vertical-align: middle;\n",
       "    }\n",
       "\n",
       "    .dataframe tbody tr th {\n",
       "        vertical-align: top;\n",
       "    }\n",
       "\n",
       "    .dataframe thead th {\n",
       "        text-align: right;\n",
       "    }\n",
       "</style>\n",
       "<table border=\"1\" class=\"dataframe\">\n",
       "  <thead>\n",
       "    <tr style=\"text-align: right;\">\n",
       "      <th></th>\n",
       "      <th></th>\n",
       "      <th>close</th>\n",
       "    </tr>\n",
       "    <tr>\n",
       "      <th>sample_id</th>\n",
       "      <th></th>\n",
       "      <th></th>\n",
       "    </tr>\n",
       "  </thead>\n",
       "  <tbody>\n",
       "    <tr>\n",
       "      <th rowspan=\"5\" valign=\"top\">0</th>\n",
       "      <th>0</th>\n",
       "      <td>1.010004</td>\n",
       "    </tr>\n",
       "    <tr>\n",
       "      <th>1</th>\n",
       "      <td>1.009906</td>\n",
       "    </tr>\n",
       "    <tr>\n",
       "      <th>2</th>\n",
       "      <td>1.010004</td>\n",
       "    </tr>\n",
       "    <tr>\n",
       "      <th>3</th>\n",
       "      <td>1.010298</td>\n",
       "    </tr>\n",
       "    <tr>\n",
       "      <th>4</th>\n",
       "      <td>1.010279</td>\n",
       "    </tr>\n",
       "    <tr>\n",
       "      <th>...</th>\n",
       "      <th>...</th>\n",
       "      <td>...</td>\n",
       "    </tr>\n",
       "    <tr>\n",
       "      <th rowspan=\"5\" valign=\"top\">7361</th>\n",
       "      <th>10159555</th>\n",
       "      <td>0.999350</td>\n",
       "    </tr>\n",
       "    <tr>\n",
       "      <th>10159556</th>\n",
       "      <td>0.999815</td>\n",
       "    </tr>\n",
       "    <tr>\n",
       "      <th>10159557</th>\n",
       "      <td>1.000101</td>\n",
       "    </tr>\n",
       "    <tr>\n",
       "      <th>10159558</th>\n",
       "      <td>1.000364</td>\n",
       "    </tr>\n",
       "    <tr>\n",
       "      <th>10159559</th>\n",
       "      <td>1.000656</td>\n",
       "    </tr>\n",
       "  </tbody>\n",
       "</table>\n",
       "<p>10159560 rows × 1 columns</p>\n",
       "</div>"
      ],
      "text/plain": [
       "                       close\n",
       "sample_id                   \n",
       "0         0         1.010004\n",
       "          1         1.009906\n",
       "          2         1.010004\n",
       "          3         1.010298\n",
       "          4         1.010279\n",
       "...                      ...\n",
       "7361      10159555  0.999350\n",
       "          10159556  0.999815\n",
       "          10159557  1.000101\n",
       "          10159558  1.000364\n",
       "          10159559  1.000656\n",
       "\n",
       "[10159560 rows x 1 columns]"
      ]
     },
     "execution_count": 6,
     "metadata": {},
     "output_type": "execute_result"
    }
   ],
   "source": [
    "grouped = pd.DataFrame(train_x_df.groupby(train_x_df['sample_id'])['close'].rolling(window = 7, min_periods=1).mean())\n",
    "grouped"
   ]
  },
  {
   "cell_type": "code",
   "execution_count": 9,
   "metadata": {
    "ExecuteTime": {
     "end_time": "2021-03-21T16:45:19.585543Z",
     "start_time": "2021-03-21T16:45:19.543323Z"
    }
   },
   "outputs": [],
   "source": [
    "train_x_df.loc[:,'sma7'] = grouped['close'].values"
   ]
  },
  {
   "cell_type": "code",
   "execution_count": 11,
   "metadata": {
    "ExecuteTime": {
     "end_time": "2021-03-21T16:48:13.836495Z",
     "start_time": "2021-03-21T16:46:51.611017Z"
    }
   },
   "outputs": [
    {
     "data": {
      "text/html": [
       "<div>\n",
       "<style scoped>\n",
       "    .dataframe tbody tr th:only-of-type {\n",
       "        vertical-align: middle;\n",
       "    }\n",
       "\n",
       "    .dataframe tbody tr th {\n",
       "        vertical-align: top;\n",
       "    }\n",
       "\n",
       "    .dataframe thead th {\n",
       "        text-align: right;\n",
       "    }\n",
       "</style>\n",
       "<table border=\"1\" class=\"dataframe\">\n",
       "  <thead>\n",
       "    <tr style=\"text-align: right;\">\n",
       "      <th></th>\n",
       "      <th></th>\n",
       "      <th>close</th>\n",
       "    </tr>\n",
       "    <tr>\n",
       "      <th>sample_id</th>\n",
       "      <th></th>\n",
       "      <th></th>\n",
       "    </tr>\n",
       "  </thead>\n",
       "  <tbody>\n",
       "    <tr>\n",
       "      <th rowspan=\"5\" valign=\"top\">0</th>\n",
       "      <th>0</th>\n",
       "      <td>1.010004</td>\n",
       "    </tr>\n",
       "    <tr>\n",
       "      <th>1</th>\n",
       "      <td>1.009906</td>\n",
       "    </tr>\n",
       "    <tr>\n",
       "      <th>2</th>\n",
       "      <td>1.010004</td>\n",
       "    </tr>\n",
       "    <tr>\n",
       "      <th>3</th>\n",
       "      <td>1.010298</td>\n",
       "    </tr>\n",
       "    <tr>\n",
       "      <th>4</th>\n",
       "      <td>1.010279</td>\n",
       "    </tr>\n",
       "    <tr>\n",
       "      <th>...</th>\n",
       "      <th>...</th>\n",
       "      <td>...</td>\n",
       "    </tr>\n",
       "    <tr>\n",
       "      <th rowspan=\"5\" valign=\"top\">7361</th>\n",
       "      <th>10159555</th>\n",
       "      <td>0.998212</td>\n",
       "    </tr>\n",
       "    <tr>\n",
       "      <th>10159556</th>\n",
       "      <td>0.998289</td>\n",
       "    </tr>\n",
       "    <tr>\n",
       "      <th>10159557</th>\n",
       "      <td>0.998314</td>\n",
       "    </tr>\n",
       "    <tr>\n",
       "      <th>10159558</th>\n",
       "      <td>0.998307</td>\n",
       "    </tr>\n",
       "    <tr>\n",
       "      <th>10159559</th>\n",
       "      <td>0.998346</td>\n",
       "    </tr>\n",
       "  </tbody>\n",
       "</table>\n",
       "<p>10159560 rows × 1 columns</p>\n",
       "</div>"
      ],
      "text/plain": [
       "                       close\n",
       "sample_id                   \n",
       "0         0         1.010004\n",
       "          1         1.009906\n",
       "          2         1.010004\n",
       "          3         1.010298\n",
       "          4         1.010279\n",
       "...                      ...\n",
       "7361      10159555  0.998212\n",
       "          10159556  0.998289\n",
       "          10159557  0.998314\n",
       "          10159558  0.998307\n",
       "          10159559  0.998346\n",
       "\n",
       "[10159560 rows x 1 columns]"
      ]
     },
     "execution_count": 11,
     "metadata": {},
     "output_type": "execute_result"
    }
   ],
   "source": [
    "grouped = pd.DataFrame(train_x_df.groupby(train_x_df['sample_id'])['close'].rolling(window = 25, min_periods=1).mean())\n",
    "grouped"
   ]
  },
  {
   "cell_type": "code",
   "execution_count": 12,
   "metadata": {
    "ExecuteTime": {
     "end_time": "2021-03-21T16:48:15.020413Z",
     "start_time": "2021-03-21T16:48:14.115259Z"
    }
   },
   "outputs": [],
   "source": [
    "train_x_df.loc[:,'sma25'] = grouped['close'].values"
   ]
  },
  {
   "cell_type": "code",
   "execution_count": 39,
   "metadata": {
    "ExecuteTime": {
     "end_time": "2021-03-21T17:56:22.754247Z",
     "start_time": "2021-03-21T17:56:20.516207Z"
    }
   },
   "outputs": [
    {
     "data": {
      "text/plain": [
       "10159560"
      ]
     },
     "execution_count": 39,
     "metadata": {},
     "output_type": "execute_result"
    }
   ],
   "source": [
    "tmp = get_macd(train_x_df['close'])\n",
    "\n",
    "tmp.head()\n",
    "\n",
    "len(tmp)"
   ]
  },
  {
   "cell_type": "code",
   "execution_count": 35,
   "metadata": {
    "ExecuteTime": {
     "end_time": "2021-03-21T17:46:33.892716Z",
     "start_time": "2021-03-21T17:46:33.884894Z"
    }
   },
   "outputs": [
    {
     "ename": "AttributeError",
     "evalue": "'SeriesGroupBy' object has no attribute 'get_macd'",
     "output_type": "error",
     "traceback": [
      "\u001b[0;31m---------------------------------------------------------------------------\u001b[0m",
      "\u001b[0;31mAttributeError\u001b[0m                            Traceback (most recent call last)",
      "\u001b[0;32m<ipython-input-35-1df4383b792e>\u001b[0m in \u001b[0;36m<module>\u001b[0;34m\u001b[0m\n\u001b[0;32m----> 1\u001b[0;31m \u001b[0mgrouped\u001b[0m \u001b[0;34m=\u001b[0m \u001b[0mpd\u001b[0m\u001b[0;34m.\u001b[0m\u001b[0mDataFrame\u001b[0m\u001b[0;34m(\u001b[0m\u001b[0mtrain_x_df\u001b[0m\u001b[0;34m.\u001b[0m\u001b[0mgroupby\u001b[0m\u001b[0;34m(\u001b[0m\u001b[0mtrain_x_df\u001b[0m\u001b[0;34m[\u001b[0m\u001b[0;34m'sample_id'\u001b[0m\u001b[0;34m]\u001b[0m\u001b[0;34m)\u001b[0m\u001b[0;34m[\u001b[0m\u001b[0;34m'close'\u001b[0m\u001b[0;34m]\u001b[0m\u001b[0;34m.\u001b[0m\u001b[0mget_macd\u001b[0m\u001b[0;34m(\u001b[0m\u001b[0;34m)\u001b[0m\u001b[0;34m)\u001b[0m\u001b[0;34m\u001b[0m\u001b[0;34m\u001b[0m\u001b[0m\n\u001b[0m\u001b[1;32m      2\u001b[0m \u001b[0mgrouped\u001b[0m\u001b[0;34m\u001b[0m\u001b[0;34m\u001b[0m\u001b[0m\n",
      "\u001b[0;32m~/anaconda3/envs/aiffel/lib/python3.7/site-packages/pandas/core/groupby/groupby.py\u001b[0m in \u001b[0;36m__getattr__\u001b[0;34m(self, attr)\u001b[0m\n\u001b[1;32m    702\u001b[0m \u001b[0;34m\u001b[0m\u001b[0m\n\u001b[1;32m    703\u001b[0m         raise AttributeError(\n\u001b[0;32m--> 704\u001b[0;31m             \u001b[0;34mf\"'{type(self).__name__}' object has no attribute '{attr}'\"\u001b[0m\u001b[0;34m\u001b[0m\u001b[0;34m\u001b[0m\u001b[0m\n\u001b[0m\u001b[1;32m    705\u001b[0m         )\n\u001b[1;32m    706\u001b[0m \u001b[0;34m\u001b[0m\u001b[0m\n",
      "\u001b[0;31mAttributeError\u001b[0m: 'SeriesGroupBy' object has no attribute 'get_macd'"
     ]
    }
   ],
   "source": [
    "grouped = pd.DataFrame(train_x_df.groupby(train_x_df['sample_id'])get_macd(train_x_df['close']))\n",
    "grouped"
   ]
  },
  {
   "cell_type": "code",
   "execution_count": null,
   "metadata": {},
   "outputs": [],
   "source": []
  },
  {
   "cell_type": "code",
   "execution_count": null,
   "metadata": {},
   "outputs": [],
   "source": []
  },
  {
   "cell_type": "code",
   "execution_count": null,
   "metadata": {},
   "outputs": [],
   "source": []
  },
  {
   "cell_type": "code",
   "execution_count": null,
   "metadata": {},
   "outputs": [],
   "source": []
  },
  {
   "cell_type": "code",
   "execution_count": null,
   "metadata": {
    "ExecuteTime": {
     "end_time": "2021-03-20T09:25:01.676411Z",
     "start_time": "2021-03-20T09:23:14.890Z"
    }
   },
   "outputs": [],
   "source": [
    "train_x_df"
   ]
  },
  {
   "cell_type": "code",
   "execution_count": null,
   "metadata": {
    "ExecuteTime": {
     "end_time": "2021-03-20T09:13:20.404744Z",
     "start_time": "2021-03-20T09:13:20.402000Z"
    }
   },
   "outputs": [],
   "source": [
    "grouped.reset_index(inplace=True)"
   ]
  },
  {
   "cell_type": "code",
   "execution_count": null,
   "metadata": {
    "ExecuteTime": {
     "end_time": "2021-03-20T09:15:21.048075Z",
     "start_time": "2021-03-20T09:15:21.025256Z"
    },
    "scrolled": true
   },
   "outputs": [],
   "source": [
    "grouped.head(1781)"
   ]
  },
  {
   "cell_type": "code",
   "execution_count": null,
   "metadata": {
    "ExecuteTime": {
     "end_time": "2021-03-20T09:15:08.378345Z",
     "start_time": "2021-03-20T09:15:08.373831Z"
    }
   },
   "outputs": [],
   "source": [
    "grouped['close'].head(1781)"
   ]
  },
  {
   "cell_type": "code",
   "execution_count": null,
   "metadata": {
    "ExecuteTime": {
     "end_time": "2021-03-20T08:44:10.299194Z",
     "start_time": "2021-03-20T08:44:10.189952Z"
    }
   },
   "outputs": [],
   "source": [
    "train_x_df = get_macd(train_x_df) \n",
    "\n",
    "# 데이터 확인 \n",
    "train_x_df"
   ]
  },
  {
   "cell_type": "code",
   "execution_count": null,
   "metadata": {
    "ExecuteTime": {
     "end_time": "2021-03-20T08:44:10.301605Z",
     "start_time": "2021-03-20T08:43:58.804Z"
    }
   },
   "outputs": [],
   "source": [
    "train_y_df"
   ]
  },
  {
   "cell_type": "code",
   "execution_count": null,
   "metadata": {
    "ExecuteTime": {
     "end_time": "2021-03-20T08:56:40.976257Z",
     "start_time": "2021-03-20T08:47:58.841862Z"
    }
   },
   "outputs": [],
   "source": [
    "test_x_df['7_SMA'] = test_x_df['close'].rolling(window = 7, min_periods=1).mean()"
   ]
  },
  {
   "cell_type": "code",
   "execution_count": null,
   "metadata": {
    "ExecuteTime": {
     "end_time": "2021-03-20T08:56:40.979888Z",
     "start_time": "2021-03-20T08:48:01.504Z"
    }
   },
   "outputs": [],
   "source": [
    "test_x_df"
   ]
  },
  {
   "cell_type": "code",
   "execution_count": null,
   "metadata": {
    "ExecuteTime": {
     "end_time": "2021-03-20T06:07:02.544182Z",
     "start_time": "2021-03-20T06:07:02.224955Z"
    }
   },
   "outputs": [],
   "source": [
    "# create 7 mins simple moving average column\n",
    "train_y_df['7_SMA'] = train_y_df['close'].rolling(window = 7, min_periods=1).mean()\n",
    "# create 25 mins simple moving average column\n",
    "train_y_df['25_SMA'] = train_y_df['close'].rolling(window = 25,  min_periods=1).mean()\n",
    "\n",
    "train_y_df = get_macd(train_y_df) \n",
    "\n",
    "# 데이터 확인 \n",
    "train_y_df"
   ]
  },
  {
   "cell_type": "code",
   "execution_count": null,
   "metadata": {
    "ExecuteTime": {
     "end_time": "2021-03-20T06:07:02.582981Z",
     "start_time": "2021-03-20T06:07:02.568728Z"
    }
   },
   "outputs": [],
   "source": [
    "test_x_df"
   ]
  },
  {
   "cell_type": "code",
   "execution_count": null,
   "metadata": {
    "ExecuteTime": {
     "end_time": "2021-03-20T06:07:02.866041Z",
     "start_time": "2021-03-20T06:07:02.607078Z"
    }
   },
   "outputs": [],
   "source": [
    "# create 7 mins simple moving average column\n",
    "test_x_df['7_SMA'] = test_x_df['close'].rolling(window = 7, min_periods=1).mean()\n",
    "# create 25 mins simple moving average column\n",
    "test_x_df['25_SMA'] = test_x_df['close'].rolling(window = 25,  min_periods=1).mean()\n",
    "\n",
    "test_x_df = get_macd(test_x_df) \n",
    "\n",
    "# 데이터 확인 \n",
    "test_x_df"
   ]
  },
  {
   "cell_type": "markdown",
   "metadata": {
    "id": "G9AMliBFpc81"
   },
   "source": [
    "## 2) numpy arrary로 변환하기"
   ]
  },
  {
   "cell_type": "code",
   "execution_count": null,
   "metadata": {
    "ExecuteTime": {
     "end_time": "2021-03-20T06:07:02.896708Z",
     "start_time": "2021-03-20T06:07:02.893512Z"
    },
    "id": "37kkNub5pc82"
   },
   "outputs": [],
   "source": [
    "def df2d_to_array3d(df_2d):\n",
    "    # 입력 받은 2차원 데이터 프레임을 3차원 numpy array로 변경하는 함수\n",
    "    feature_size = df_2d.iloc[:,2:].shape[1]\n",
    "    time_size = len(df_2d.time.value_counts())\n",
    "    sample_size = len(df_2d.sample_id.value_counts())\n",
    "    sample_index = df_2d.sample_id.value_counts().index\n",
    "    array_3d = df_2d.iloc[:,2:].values.reshape([sample_size, time_size, feature_size])\n",
    "    return array_3d"
   ]
  },
  {
   "cell_type": "code",
   "execution_count": null,
   "metadata": {
    "ExecuteTime": {
     "end_time": "2021-03-20T06:24:13.785179Z",
     "start_time": "2021-03-20T06:24:12.357184Z"
    },
    "id": "yqy6-8Kbpc82"
   },
   "outputs": [],
   "source": [
    "train_x_array = df2d_to_array3d(train_x_df)\n",
    "train_y_array = df2d_to_array3d(train_y_df)\n",
    "test_x_array = df2d_to_array3d(test_x_df)"
   ]
  },
  {
   "cell_type": "code",
   "execution_count": null,
   "metadata": {},
   "outputs": [],
   "source": [
    "sma7 = []\n",
    "\n",
    "for i in train_x_array[:, 2]:\n",
    "    sma7 = train_x_array[:, train_x_array[:, 2] <= i][:, 6].rolling(window = 7, min_periods=1).mean()\n",
    "    sma7.append(sma7)"
   ]
  },
  {
   "cell_type": "code",
   "execution_count": null,
   "metadata": {
    "ExecuteTime": {
     "end_time": "2021-03-20T06:07:04.088015Z",
     "start_time": "2021-03-20T06:07:04.085707Z"
    },
    "colab": {
     "base_uri": "https://localhost:8080/"
    },
    "id": "iQwrvA8rpc83",
    "outputId": "254e49da-96ec-4f6d-bb8b-b548d49f9b7a"
   },
   "outputs": [],
   "source": [
    "print(f'''\n",
    "train_x_array {train_x_array.shape}\n",
    "train_y_array {train_y_array.shape}\n",
    "test_x_array {test_x_array.shape}\n",
    "''')"
   ]
  },
  {
   "cell_type": "code",
   "execution_count": null,
   "metadata": {
    "ExecuteTime": {
     "end_time": "2021-03-20T06:07:04.123302Z",
     "start_time": "2021-03-20T06:07:04.120196Z"
    }
   },
   "outputs": [],
   "source": [
    "train_x_array[10, :]"
   ]
  },
  {
   "cell_type": "markdown",
   "metadata": {
    "id": "k5q2658lpc84"
   },
   "source": [
    "## 3) 샘플 확인하기"
   ]
  },
  {
   "cell_type": "markdown",
   "metadata": {},
   "source": [
    "## MACD 시각화 "
   ]
  },
  {
   "cell_type": "code",
   "execution_count": null,
   "metadata": {},
   "outputs": [],
   "source": [
    "import matplotlib.pyplot as plt\n",
    "%matplotlib inline\n",
    "import matplotlib.ticker as ticker\n",
    "import numpy as np"
   ]
  },
  {
   "cell_type": "code",
   "execution_count": null,
   "metadata": {},
   "outputs": [],
   "source": [
    "idx = 1000\n",
    "index = train_x_df[train_x_df['sample_id']==idx].time.tolist()\n",
    "type(index), len(index)"
   ]
  },
  {
   "cell_type": "code",
   "execution_count": null,
   "metadata": {},
   "outputs": [],
   "source": [
    "# loc 쓰기 귀찮아서 데이터 프레임으로.. 그냥 .. 때려..넣기? => 나중에 수정\n",
    "sample_x_df = pd.DataFrame()\n",
    "sample_x_df = train_x_df[['sample_id','7_SMA', '25_SMA','macd','macdo','macds']]\n",
    "sample_x_df.head()"
   ]
  },
  {
   "cell_type": "code",
   "execution_count": null,
   "metadata": {},
   "outputs": [],
   "source": [
    "sma7_lst = sample_x_df['7_SMA'].loc[sample_x_df['sample_id']==idx].tolist()\n",
    "sma25_lst = sample_x_df['25_SMA'].loc[sample_x_df['sample_id']==idx].tolist()"
   ]
  },
  {
   "cell_type": "code",
   "execution_count": null,
   "metadata": {},
   "outputs": [],
   "source": [
    "print(len(sma25_lst) == len(sma7_lst)) # 차원 일치 여부 확인 \n",
    "print(type(index) == type(sma7_lst)) # 형 일치 여부 확인 "
   ]
  },
  {
   "cell_type": "code",
   "execution_count": null,
   "metadata": {},
   "outputs": [],
   "source": [
    "index[0:2], sma7_lst[0:2] # 값 확인"
   ]
  },
  {
   "cell_type": "code",
   "execution_count": null,
   "metadata": {
    "scrolled": true
   },
   "outputs": [],
   "source": [
    "# Main chart - SMA_7 and SMA_25\n",
    "fig, ax = plt.subplots(figsize=(12,5))\n",
    "\n",
    "ax.set_title('SMA_7 v.s. SMA_25', fontsize=20)\n",
    "\n",
    "ax.plot(index, sma7_lst, 'b', lw=1, label='SMA_7')\n",
    "ax.plot(index, sma25_lst, 'r', lw=1, label='SMA_25')\n",
    "ax.legend(loc='best')\n",
    "\n",
    "fig.tight_layout()"
   ]
  },
  {
   "cell_type": "code",
   "execution_count": null,
   "metadata": {},
   "outputs": [],
   "source": [
    "macd_lst = sample_x_df['macd'].loc[sample_x_df['sample_id']==idx].tolist()\n",
    "macds_lst = sample_x_df['macds'].loc[sample_x_df['sample_id']==idx].tolist()"
   ]
  },
  {
   "cell_type": "code",
   "execution_count": null,
   "metadata": {},
   "outputs": [],
   "source": [
    "# index chart - MACD and MACDs\n",
    "fig, ax = plt.subplots(figsize=(12,5))\n",
    "\n",
    "ax.set_title('MACD v.s. MACD Sinal', fontsize=20)\n",
    "\n",
    "ax.plot(index, macd_lst, 'b', lw=1, label='macd')\n",
    "ax.plot(index, macds_lst, 'r', lw=1, label='macds')\n",
    "ax.legend(loc='best')\n",
    "\n",
    "fig.tight_layout()"
   ]
  },
  {
   "cell_type": "code",
   "execution_count": null,
   "metadata": {},
   "outputs": [],
   "source": [
    "macdo_lst = sample_x_df['macdo'].loc[sample_x_df['sample_id']==idx].tolist()"
   ]
  },
  {
   "cell_type": "code",
   "execution_count": null,
   "metadata": {
    "scrolled": true
   },
   "outputs": [],
   "source": [
    "# index chart - MACDo\n",
    "fig, ax = plt.subplots(figsize=(12,5))\n",
    "\n",
    "ax.set_title('MACD Oscilator', fontsize=20)\n",
    "\n",
    "ax.bar(index, [0 if i > 0 else i for i in macdo_lst], lw=1, label='macdo(+)')\n",
    "ax.bar(index, [0 if i < 0 else i for i in macdo_lst], lw=1, label='macdo(-)')\n",
    "ax.legend(loc='best')\n",
    "\n",
    "fig.tight_layout()"
   ]
  },
  {
   "cell_type": "code",
   "execution_count": null,
   "metadata": {
    "ExecuteTime": {
     "end_time": "2021-03-20T06:23:38.685711Z",
     "start_time": "2021-03-20T06:23:38.395726Z"
    }
   },
   "outputs": [],
   "source": [
    "## MACD 시각화 \n",
    "\n",
    "import matplotlib.pyplot as plt\n",
    "%matplotlib inline\n",
    "import matplotlib.ticker as ticker\n",
    "import numpy as np\n",
    "\n",
    "idx = 1000\n",
    "index = train_x_df[train_x_df['sample_id']==idx].time.tolist()\n",
    "type(index), len(index)\n",
    "\n",
    "# loc 쓰기 귀찮아서 데이터 프레임으로.. 그냥 .. 때려..넣기? => 나중에 수정\n",
    "sample_x_df = pd.DataFrame()\n",
    "sample_x_df = train_x_df[['sample_id','7_SMA', '25_SMA','macd','macdo','macds']]\n",
    "sample_x_df.head()\n",
    "\n",
    "sma7_lst = sample_x_df['7_SMA'].loc[sample_x_df['sample_id']==idx].tolist()\n",
    "sma25_lst = sample_x_df['25_SMA'].loc[sample_x_df['sample_id']==idx].tolist()\n",
    "\n",
    "print(len(sma25_lst) == len(sma7_lst)) # 차원 일치 여부 확인 \n",
    "print(type(index) == type(sma7_lst)) # 형 일치 여부 확인 \n",
    "\n",
    "index[0:2], sma7_lst[0:2] # 값 확인\n",
    "\n",
    "# Main chart - SMA_7 and SMA_25\n",
    "fig, ax = plt.subplots(figsize=(12,5))\n",
    "\n",
    "ax.set_title('SMA_7 v.s. SMA_25', fontsize=20)\n",
    "\n",
    "ax.plot(index, sma7_lst, 'b', lw=1, label='SMA_7')\n",
    "ax.plot(index, sma25_lst, 'r', lw=1, label='SMA_25')\n",
    "ax.legend(loc='best')\n",
    "\n",
    "fig.tight_layout()\n",
    "\n",
    "macd_lst = sample_x_df['macd'].loc[sample_x_df['sample_id']==idx].tolist()\n",
    "macds_lst = sample_x_df['macds'].loc[sample_x_df['sample_id']==idx].tolist()\n",
    "\n",
    "# index chart - MACD and MACDs\n",
    "fig, ax = plt.subplots(figsize=(12,5))\n",
    "\n",
    "ax.set_title('MACD v.s. MACD Sinal', fontsize=20)\n",
    "\n",
    "ax.plot(index, macd_lst, 'b', lw=1, label='macd')\n",
    "ax.plot(index, macds_lst, 'r', lw=1, label='macds')\n",
    "ax.legend(loc='best')\n",
    "\n",
    "fig.tight_layout()\n",
    "\n",
    "macdo_lst = sample_x_df['macdo'].loc[sample_x_df['sample_id']==idx].tolist()\n",
    "\n",
    "# index chart - MACDo\n",
    "fig, ax = plt.subplots(figsize=(12,5))\n",
    "\n",
    "ax.set_title('MACD Oscilator', fontsize=20)\n",
    "\n",
    "ax.bar(index, [0 if i > 0 else i for i in macdo_lst], lw=1, label='macdo(+)')\n",
    "ax.bar(index, [0 if i < 0 else i for i in macdo_lst], lw=1, label='macdo(-)')\n",
    "ax.legend(loc='best')\n",
    "\n",
    "fig.tight_layout()"
   ]
  },
  {
   "cell_type": "code",
   "execution_count": null,
   "metadata": {
    "ExecuteTime": {
     "end_time": "2021-03-20T08:13:08.095937Z",
     "start_time": "2021-03-20T08:13:08.089403Z"
    },
    "id": "8i3KkEeepc84"
   },
   "outputs": [],
   "source": [
    "def plot_series(x_series, y_series):\n",
    "    #입력 series와 출력 series를 연속적으로 연결하여 시각적으로 보여주는 코드 입니다.\n",
    "    plt.plot(x_series, label = 'input_series')\n",
    "    plt.plot(np.arange(len(x_series), len(x_series)+len(y_series)),\n",
    "             y_series, label = 'output_series')\n",
    "    plt.axhline(1, c = 'red')\n",
    "    plt.legend()"
   ]
  },
  {
   "cell_type": "code",
   "execution_count": null,
   "metadata": {
    "ExecuteTime": {
     "end_time": "2021-03-20T08:13:09.721709Z",
     "start_time": "2021-03-20T08:13:09.538814Z"
    },
    "colab": {
     "base_uri": "https://localhost:8080/",
     "height": 212
    },
    "id": "PquVAYyppc85",
    "outputId": "74850b0a-c2f3-4fa9-f590-f9c88f838889"
   },
   "outputs": [],
   "source": [
    "# sample_id 1012에 해당하는 sample의 분단위 시가 변동 정보 시각화\n",
    "idx = 1012\n",
    "plot_series(train_x_array[idx,:,1], train_y_array[idx,:,1]) # sample_id, time, 나머지 컬럼 정보들\n",
    "plt.show()"
   ]
  },
  {
   "cell_type": "markdown",
   "metadata": {
    "id": "bFIBsI92pc85"
   },
   "source": [
    "# 3. 모델 훈련하기"
   ]
  },
  {
   "cell_type": "markdown",
   "metadata": {
    "id": "9o7iUwSSpc85"
   },
   "source": [
    "## 1) train 샘플 훈련하기"
   ]
  },
  {
   "cell_type": "code",
   "execution_count": null,
   "metadata": {
    "ExecuteTime": {
     "end_time": "2021-03-20T04:43:41.446887Z",
     "start_time": "2021-03-20T04:43:17.868Z"
    },
    "id": "1PCfRyT-O57L"
   },
   "outputs": [],
   "source": [
    "start_time = '2021-01-31 00:00:00'\n",
    "start_dt = datetime.datetime.strptime(start_time, '%Y-%m-%d %H:%M:%S')"
   ]
  },
  {
   "cell_type": "code",
   "execution_count": null,
   "metadata": {
    "ExecuteTime": {
     "end_time": "2021-03-20T04:43:41.449485Z",
     "start_time": "2021-03-20T04:43:17.870Z"
    },
    "id": "JHEvIk9KM1fO"
   },
   "outputs": [],
   "source": [
    "idx = 1121\n",
    "# train data 중 sample_id 1121에 해당하는 x_series로 arima 모델을 학습한 후\n",
    "# y_sereis를 추론\n",
    "x_series = train_x_array[idx,:,1]\n",
    "y_series = train_y_array[idx,:,1]"
   ]
  },
  {
   "cell_type": "code",
   "execution_count": null,
   "metadata": {
    "ExecuteTime": {
     "end_time": "2021-03-20T04:43:41.452165Z",
     "start_time": "2021-03-20T04:43:17.871Z"
    },
    "id": "_wkNvaRAM3zu"
   },
   "outputs": [],
   "source": [
    "x_df = pd.DataFrame()\n",
    "x_df['ds'] = [start_dt + datetime.timedelta(minutes = time_min) for time_min in np.arange(1, x_series.shape[0]+1).tolist()]\n",
    "x_df['y'] = x_series.tolist()"
   ]
  },
  {
   "cell_type": "code",
   "execution_count": null,
   "metadata": {
    "ExecuteTime": {
     "end_time": "2021-03-20T04:43:41.454711Z",
     "start_time": "2021-03-20T04:43:17.873Z"
    },
    "colab": {
     "base_uri": "https://localhost:8080/",
     "height": 204
    },
    "id": "cZOSbwIEN-8s",
    "outputId": "373d37e4-3813-4814-bf18-eaa23b63d917"
   },
   "outputs": [],
   "source": [
    "x_df.head()"
   ]
  },
  {
   "cell_type": "code",
   "execution_count": null,
   "metadata": {
    "ExecuteTime": {
     "end_time": "2021-03-20T04:43:41.457406Z",
     "start_time": "2021-03-20T04:43:17.874Z"
    },
    "colab": {
     "base_uri": "https://localhost:8080/"
    },
    "id": "tTWbr3B6OHKd",
    "outputId": "101df720-dd0e-42db-93f3-2d068c6639ec"
   },
   "outputs": [],
   "source": [
    "prophet = Prophet(seasonality_mode='multiplicative', \n",
    "                  yearly_seasonality=False,\n",
    "                  weekly_seasonality=False, daily_seasonality=False)\n",
    "prophet.fit(x_df)"
   ]
  },
  {
   "cell_type": "code",
   "execution_count": null,
   "metadata": {
    "ExecuteTime": {
     "end_time": "2021-03-20T04:43:41.460436Z",
     "start_time": "2021-03-20T04:43:17.875Z"
    },
    "colab": {
     "base_uri": "https://localhost:8080/",
     "height": 394
    },
    "id": "6ntZW1-mQAa4",
    "outputId": "114f1da5-7eb5-4afb-969b-9edbf02500f9"
   },
   "outputs": [],
   "source": [
    "# 120분 테스트 데이터를 예측합니다.\n",
    "future_data = prophet.make_future_dataframe(periods=120, freq='min')\n",
    "forecast_data = prophet.predict(future_data)\n",
    "forecast_data[['ds', 'yhat', 'yhat_lower', 'yhat_upper']].tail(5)"
   ]
  },
  {
   "cell_type": "code",
   "execution_count": null,
   "metadata": {
    "ExecuteTime": {
     "end_time": "2021-03-20T04:43:41.464323Z",
     "start_time": "2021-03-20T04:43:17.877Z"
    },
    "colab": {
     "base_uri": "https://localhost:8080/",
     "height": 194
    },
    "id": "sD_coq5wQoTp",
    "outputId": "1cff4e53-90fb-4616-c2a0-0a3844b246f0"
   },
   "outputs": [],
   "source": [
    "# 만들어진 데이터를 확인합니다.\n",
    "fig1 = prophet.plot(forecast_data)"
   ]
  },
  {
   "cell_type": "code",
   "execution_count": null,
   "metadata": {
    "ExecuteTime": {
     "end_time": "2021-03-20T04:43:41.468049Z",
     "start_time": "2021-03-20T04:43:17.878Z"
    },
    "colab": {
     "base_uri": "https://localhost:8080/",
     "height": 113
    },
    "id": "W801QKVoRIZZ",
    "outputId": "868739ff-41f6-4cd8-9f6b-5d8e54bda244"
   },
   "outputs": [],
   "source": [
    "# 데이터의 추세를 확인합니다.\n",
    "fig2 = prophet.plot_components(forecast_data)"
   ]
  },
  {
   "cell_type": "code",
   "execution_count": null,
   "metadata": {
    "ExecuteTime": {
     "end_time": "2021-03-20T04:43:41.472426Z",
     "start_time": "2021-03-20T04:43:17.879Z"
    },
    "colab": {
     "base_uri": "https://localhost:8080/",
     "height": 212
    },
    "id": "6bh85RPjRicv",
    "outputId": "d45673da-2939-46f7-9633-6485f5bdb636"
   },
   "outputs": [],
   "source": [
    "pred_y = forecast_data.yhat.values[-120:]\n",
    "pred_y_lower = forecast_data.yhat_lower.values[-120:]\n",
    "pred_y_upper = forecast_data.yhat_upper.values[-120:]\n",
    "\n",
    "plot_series(x_series, y_series)\n",
    "plt.plot(np.arange(1380, 1380+120), pred_y, label = 'prediction')\n",
    "plt.plot(np.arange(1380, 1380+120), pred_y_lower, label = 'prediction_lower')\n",
    "plt.plot(np.arange(1380, 1380+120), pred_y_upper, label = 'prediction_upper')\n",
    "plt.legend()\n",
    "plt.show()"
   ]
  },
  {
   "cell_type": "markdown",
   "metadata": {
    "id": "YtuukNJWpc86"
   },
   "source": [
    "## 2) validation set 훈련하기"
   ]
  },
  {
   "cell_type": "markdown",
   "metadata": {
    "id": "F2BdgnN6pc86"
   },
   "source": [
    "### <1> validation 데이터 생성하기"
   ]
  },
  {
   "cell_type": "code",
   "execution_count": null,
   "metadata": {
    "ExecuteTime": {
     "end_time": "2021-03-20T04:43:41.476841Z",
     "start_time": "2021-03-20T04:43:17.881Z"
    },
    "id": "ZCiQicATpc87"
   },
   "outputs": [],
   "source": [
    "# train 데이터 상단의 300개 샘플로 validation set를 구성하여 학습 및 추론\n",
    "valid_x_df = train_x_df[train_x_df.sample_id < 300]\n",
    "valid_y_df = train_y_df[train_y_df.sample_id < 300]\n",
    "\n",
    "valid_x_array = df2d_to_array3d(valid_x_df)\n",
    "valid_y_array = df2d_to_array3d(valid_y_df)\n",
    "valid_pred_array = np.zeros([300, 120])"
   ]
  },
  {
   "cell_type": "markdown",
   "metadata": {
    "id": "qSa6gsKvpc87"
   },
   "source": [
    "### <2> 학습 및 추론하기"
   ]
  },
  {
   "cell_type": "code",
   "execution_count": null,
   "metadata": {
    "ExecuteTime": {
     "end_time": "2021-03-20T04:43:41.481022Z",
     "start_time": "2021-03-20T04:43:17.883Z"
    },
    "colab": {
     "base_uri": "https://localhost:8080/"
    },
    "id": "fPBiAu0_pc87",
    "outputId": "5d921f99-cb48-451b-9a05-2543d06c1717"
   },
   "outputs": [],
   "source": [
    "\n",
    "for idx in tqdm(range(valid_x_array.shape[0])):\n",
    "    try:\n",
    "        x_series = valid_x_array[idx,:,1]\n",
    "\n",
    "        x_df = pd.DataFrame()\n",
    "        x_df['ds'] = [start_dt + datetime.timedelta(minutes = time_min) for time_min in np.arange(1, x_series.shape[0]+1).tolist()]\n",
    "        x_df['y'] = x_series.tolist()\n",
    "\n",
    "        prophet = Prophet(seasonality_mode='multiplicative', \n",
    "                  yearly_seasonality=False,\n",
    "                  weekly_seasonality=False, daily_seasonality=False)\n",
    "        prophet.fit(x_df)\n",
    "\n",
    "        # 120분 테스트 데이터를 예측합니다.\n",
    "        future_data = prophet.make_future_dataframe(periods=120, freq='min')\n",
    "        forecast_data = prophet.predict(future_data)\n",
    "\n",
    "        pred_y = forecast_data.yhat.values[-120:]\n",
    "        pred_y_lower = forecast_data.yhat_lower.values[-120:]\n",
    "        pred_y_upper = forecast_data.yhat_upper.values[-120:]\n",
    "\n",
    "        valid_pred_array[idx,:] = pred_y\n",
    "    except:\n",
    "        print(idx, \" 샘플은 수렴하지 않습니다.\")\n",
    "        pass"
   ]
  },
  {
   "cell_type": "markdown",
   "metadata": {
    "id": "4JG8kRkOpc88"
   },
   "source": [
    "### <3> valid_pred_array 로부터 buy_quantity, sell_time 구하기"
   ]
  },
  {
   "cell_type": "code",
   "execution_count": null,
   "metadata": {
    "ExecuteTime": {
     "end_time": "2021-03-20T04:43:41.485602Z",
     "start_time": "2021-03-20T04:43:17.884Z"
    },
    "id": "j6KqLIzKpc88"
   },
   "outputs": [],
   "source": [
    "def array_to_submission(x_array, pred_array):\n",
    "    # 입력 x_arrry와 출력 pred_arry를 통해서 \n",
    "    # buy_quantitiy와 sell_time을 결정\n",
    "    submission = pd.DataFrame(np.zeros([pred_array.shape[0],2], np.int64),\n",
    "                columns = ['buy_quantity', 'sell_time'])\n",
    "    submission = submission.reset_index()\n",
    "    submission.loc[:, 'buy_quantity'] = 0.1\n",
    "    \n",
    "    buy_price = []\n",
    "    for idx, sell_time in enumerate(np.argmax(pred_array, axis = 1)):\n",
    "        buy_price.append(pred_array[idx, sell_time])\n",
    "    buy_price = np.array(buy_price)\n",
    "    # 115% 이상 상승한하고 예측한 sample에 대해서만 100% 매수\n",
    "    submission.loc[:, 'buy_quantity'] = (buy_price > 1.15) * 1\n",
    "    # 모델이 예측값 중 최대 값에 해당하는 시간에 매도\n",
    "    submission['sell_time'] = np.argmax(pred_array, axis = 1)\n",
    "    submission.columns = ['sample_id','buy_quantity', 'sell_time']\n",
    "    return submission"
   ]
  },
  {
   "cell_type": "code",
   "execution_count": null,
   "metadata": {
    "ExecuteTime": {
     "end_time": "2021-03-20T04:43:41.489649Z",
     "start_time": "2021-03-20T04:43:17.885Z"
    },
    "id": "eglMXdGzpc88"
   },
   "outputs": [],
   "source": [
    "valid_submission = array_to_submission(valid_x_array, valid_pred_array)"
   ]
  },
  {
   "cell_type": "code",
   "execution_count": null,
   "metadata": {
    "ExecuteTime": {
     "end_time": "2021-03-20T04:43:41.494291Z",
     "start_time": "2021-03-20T04:43:17.888Z"
    },
    "id": "gkAoT7N-pc89"
   },
   "outputs": [],
   "source": [
    "valid_submission"
   ]
  },
  {
   "cell_type": "code",
   "execution_count": null,
   "metadata": {
    "ExecuteTime": {
     "end_time": "2021-03-20T04:43:41.498542Z",
     "start_time": "2021-03-20T04:43:17.889Z"
    },
    "colab": {
     "base_uri": "https://localhost:8080/"
    },
    "id": "LhFcUSVapc89",
    "outputId": "2e620f1c-f2cb-4658-cf2f-3831aeb6a2ad"
   },
   "outputs": [],
   "source": [
    "# 전체 300가지 sample에 대해\n",
    "# 5가지 case에서 115% 이상 상승한다고 추론함.\n",
    "valid_submission.buy_quantity.value_counts()"
   ]
  },
  {
   "cell_type": "markdown",
   "metadata": {
    "id": "SgR-gqhmpc89"
   },
   "source": [
    "### <4> 투자 후 금액 계산하기"
   ]
  },
  {
   "cell_type": "code",
   "execution_count": null,
   "metadata": {
    "ExecuteTime": {
     "end_time": "2021-03-20T04:43:41.502848Z",
     "start_time": "2021-03-20T04:43:17.891Z"
    },
    "id": "Z7033aeGpc8-"
   },
   "outputs": [],
   "source": [
    "def df2d_to_answer(df_2d):\n",
    "    # valid_y_df로부터\n",
    "    # open 가격 정보가 포함된\n",
    "    # [샘플 수, 120분] 크기의 \n",
    "    # 2차원 array를 반환하는 함수\n",
    "    feature_size = df_2d.iloc[:,2:].shape[1]\n",
    "    time_size = len(df_2d.time.value_counts())\n",
    "    sample_size = len(df_2d.sample_id.value_counts())\n",
    "    sample_index = df_2d.sample_id.value_counts().index\n",
    "    array_2d = df_2d.open.values.reshape([sample_size, time_size])\n",
    "    sample_index = list(sample_index)\n",
    "    return array_2d, sample_index\n",
    "\n",
    "\n",
    "def COIN(y_df, submission, df2d_to_answer = df2d_to_answer):\n",
    "    # 2차원 데이터프레임에서 open 시점 데이터만 추출하여 array로 복원\n",
    "    # sample_id정보를 index에 저장\n",
    "    y_array, index = df2d_to_answer(y_df)\n",
    "    \n",
    "    # index 기준으로 submission을 다시 선택\n",
    "    submission = submission.set_index(submission.columns[0])\n",
    "    submission = submission.iloc[index, :]    \n",
    "    \n",
    "    # 초기 투자 비용은 10000 달러\n",
    "    total_momey      = 10000 # dolors\n",
    "    total_momey_list = []\n",
    "    \n",
    "    # 가장 처음 sample_id값\n",
    "    start_index = submission.index[0]\n",
    "    for row_idx in submission.index:\n",
    "        sell_time  = submission.loc[row_idx, 'sell_time']\n",
    "        buy_price  = y_array[row_idx - start_index, 0]\n",
    "        sell_price = y_array[row_idx - start_index, sell_time]\n",
    "        buy_quantity = submission.loc[row_idx, 'buy_quantity'] * total_momey\n",
    "        residual = total_momey - buy_quantity\n",
    "        ratio = sell_price / buy_price\n",
    "        total_momey = buy_quantity * ratio * 0.9995 * 0.9995 + residual        \n",
    "        total_momey_list.append(total_momey)\n",
    "        \n",
    "    return total_momey, total_momey_list"
   ]
  },
  {
   "cell_type": "code",
   "execution_count": null,
   "metadata": {
    "ExecuteTime": {
     "end_time": "2021-03-20T04:43:41.507361Z",
     "start_time": "2021-03-20T04:43:17.892Z"
    },
    "id": "aRmXcrh5pc8-"
   },
   "outputs": [],
   "source": [
    "total_momey, total_momey_list = COIN(valid_y_df,\n",
    "                                     valid_submission)"
   ]
  },
  {
   "cell_type": "code",
   "execution_count": null,
   "metadata": {
    "ExecuteTime": {
     "end_time": "2021-03-20T04:43:41.511196Z",
     "start_time": "2021-03-20T04:43:17.893Z"
    },
    "colab": {
     "base_uri": "https://localhost:8080/"
    },
    "id": "0afyWYRWpc8-",
    "outputId": "8f026a85-5954-422f-d088-9d3847ca29f5"
   },
   "outputs": [],
   "source": [
    "# 투자 후 금액\n",
    "print(total_momey)"
   ]
  },
  {
   "cell_type": "code",
   "execution_count": null,
   "metadata": {
    "ExecuteTime": {
     "end_time": "2021-03-20T04:43:41.514559Z",
     "start_time": "2021-03-20T04:43:17.894Z"
    },
    "id": "AMov4MX3pc8_"
   },
   "outputs": [],
   "source": [
    "# 투자 히스토리\n",
    "plt.plot(total_momey_list)\n",
    "plt.title(\"history\")\n",
    "plt.show()"
   ]
  },
  {
   "cell_type": "markdown",
   "metadata": {
    "id": "dmeXYUE1pc8_"
   },
   "source": [
    "# 4. test 데이터 학습하고 추론하기"
   ]
  },
  {
   "cell_type": "code",
   "execution_count": null,
   "metadata": {
    "ExecuteTime": {
     "end_time": "2021-03-20T04:43:41.517037Z",
     "start_time": "2021-03-20T04:43:17.896Z"
    },
    "colab": {
     "base_uri": "https://localhost:8080/"
    },
    "id": "4QVrQn_opc8_",
    "outputId": "b0b80dad-e516-43d9-d2ab-4f5de2320604"
   },
   "outputs": [],
   "source": [
    "test_pred_array = np.zeros([test_x_array.shape[0],\n",
    "                           120])\n",
    "for idx in tqdm(range(test_x_array.shape[0])):\n",
    "    try:\n",
    "        x_series = test_x_array[idx,:,1]\n",
    "\n",
    "        x_df = pd.DataFrame()\n",
    "        x_df['ds'] = [start_dt + datetime.timedelta(minutes = time_min) for time_min in np.arange(1, x_series.shape[0]+1).tolist()]\n",
    "        x_df['y'] = x_series.tolist()\n",
    "\n",
    "        prophet = Prophet(seasonality_mode='multiplicative', \n",
    "                  yearly_seasonality=False,\n",
    "                  weekly_seasonality=False, daily_seasonality=False)\n",
    "        prophet.fit(x_df)\n",
    "\n",
    "        # 120분 테스트 데이터를 예측합니다.\n",
    "        future_data = prophet.make_future_dataframe(periods=120, freq='min')\n",
    "        forecast_data = prophet.predict(future_data)\n",
    "\n",
    "        pred_y = forecast_data.yhat.values[-120:]\n",
    "        pred_y_lower = forecast_data.yhat_lower.values[-120:]\n",
    "        pred_y_upper = forecast_data.yhat_upper.values[-120:]\n",
    "\n",
    "        test_pred_array[idx,:] = pred_y\n",
    "    except:\n",
    "        print(idx, \" 샘플은 수렴하지 않습니다.\")\n",
    "        pass"
   ]
  },
  {
   "cell_type": "markdown",
   "metadata": {
    "id": "p14PbsG2pc9A"
   },
   "source": [
    "## 추론한 test_pred_array를 바탕으로 submission df 생성하기"
   ]
  },
  {
   "cell_type": "code",
   "execution_count": null,
   "metadata": {
    "ExecuteTime": {
     "end_time": "2021-03-20T04:43:41.520519Z",
     "start_time": "2021-03-20T04:43:17.898Z"
    },
    "id": "Xq8zvVmRpc9B"
   },
   "outputs": [],
   "source": [
    "submission = array_to_submission(test_x_array, test_pred_array)"
   ]
  },
  {
   "cell_type": "code",
   "execution_count": null,
   "metadata": {
    "ExecuteTime": {
     "end_time": "2021-03-20T04:43:41.523616Z",
     "start_time": "2021-03-20T04:43:17.899Z"
    },
    "id": "iIVecsHSpc9B"
   },
   "outputs": [],
   "source": [
    "submission.to_csv(data_path+\"/baseline_submission_proh.csv\", index = False)"
   ]
  },
  {
   "cell_type": "code",
   "execution_count": null,
   "metadata": {
    "id": "x-VHVwrkv68C"
   },
   "outputs": [],
   "source": []
  }
 ],
 "metadata": {
  "colab": {
   "collapsed_sections": [],
   "name": "인공지능_비트 트레이더 경진대회 fbprophet 베이스라인.ipynb",
   "provenance": []
  },
  "kernelspec": {
   "display_name": "Python 3",
   "language": "python",
   "name": "python3"
  },
  "language_info": {
   "codemirror_mode": {
    "name": "ipython",
    "version": 3
   },
   "file_extension": ".py",
   "mimetype": "text/x-python",
   "name": "python",
   "nbconvert_exporter": "python",
   "pygments_lexer": "ipython3",
   "version": "3.7.9"
  },
  "toc": {
   "base_numbering": 1,
   "nav_menu": {},
   "number_sections": true,
   "sideBar": true,
   "skip_h1_title": false,
   "title_cell": "Table of Contents",
   "title_sidebar": "Contents",
   "toc_cell": false,
   "toc_position": {},
   "toc_section_display": true,
   "toc_window_display": false
  },
  "varInspector": {
   "cols": {
    "lenName": 16,
    "lenType": 16,
    "lenVar": 40
   },
   "kernels_config": {
    "python": {
     "delete_cmd_postfix": "",
     "delete_cmd_prefix": "del ",
     "library": "var_list.py",
     "varRefreshCmd": "print(var_dic_list())"
    },
    "r": {
     "delete_cmd_postfix": ") ",
     "delete_cmd_prefix": "rm(",
     "library": "var_list.r",
     "varRefreshCmd": "cat(var_dic_list()) "
    }
   },
   "types_to_exclude": [
    "module",
    "function",
    "builtin_function_or_method",
    "instance",
    "_Feature"
   ],
   "window_display": false
  }
 },
 "nbformat": 4,
 "nbformat_minor": 1
}
