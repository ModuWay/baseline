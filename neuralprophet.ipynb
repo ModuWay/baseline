{
 "cells": [
  {
   "cell_type": "markdown",
   "metadata": {
    "id": "DWFN7rLkpc8z"
   },
   "source": [
    "# 1. Library Import"
   ]
  },
  {
   "cell_type": "code",
   "execution_count": null,
   "metadata": {
    "id": "yyFoOWXPpc8z"
   },
   "outputs": [],
   "source": [
    "import numpy as np\n",
    "import pandas as pd\n",
    "import gc\n",
    "import math\n",
    "import os.path\n",
    "import time\n",
    "import matplotlib.pyplot as plt\n",
    "from datetime import timedelta, datetime\n",
    "from dateutil import parser\n",
    "from tqdm import tqdm\n",
    "import copy\n",
    "from statsmodels.tsa.arima.model import ARIMA\n",
    "from statsmodels.graphics.tsaplots import plot_acf, plot_pacf\n",
    "from fbprophet import Prophet\n",
    "\n",
    "from neuralprophet import NeuralProphet\n",
    "from neuralprophet import set_random_seed \n",
    "\n",
    "import warnings\n",
    "import datetime\n",
    "import random\n",
    "import tensorflow as tf\n",
    "warnings.filterwarnings(\"ignore\")"
   ]
  },
  {
   "cell_type": "code",
   "execution_count": null,
   "metadata": {},
   "outputs": [],
   "source": [
    "# random seed\n",
    "def set_seeds(seed):\n",
    "    os.environ['PYTHONHASHSEED'] = str(seed)\n",
    "    os.environ['TF_DETERMINISTIC_OPS'] = '1'\n",
    "    random.seed(seed)\n",
    "    tf.random.set_seed(seed)\n",
    "    np.random.seed(seed)\n",
    "    set_random_seed(seed)\n",
    "    \n",
    "SEED = 3143\n",
    "set_seeds(SEED)"
   ]
  },
  {
   "cell_type": "markdown",
   "metadata": {
    "id": "DbSjRtv9pc80"
   },
   "source": [
    "# 2. 데이터 불러오기"
   ]
  },
  {
   "cell_type": "markdown",
   "metadata": {
    "id": "r1Gj0sBXpc81"
   },
   "source": [
    "## 1) read_csv"
   ]
  },
  {
   "cell_type": "code",
   "execution_count": null,
   "metadata": {
    "id": "zD66e_8opc81"
   },
   "outputs": [],
   "source": [
    "data_path = os.getenv('HOME')+ '/Projects/daconTrader/dataset'\n",
    "train_x_df = pd.read_csv(data_path  + \"/train_x_df.csv\")\n",
    "train_y_df = pd.read_csv(data_path  + \"/train_y_df.csv\")\n",
    "test_x_df = pd.read_csv(data_path  + \"/test_x_df.csv\")"
   ]
  },
  {
   "cell_type": "code",
   "execution_count": null,
   "metadata": {
    "scrolled": true
   },
   "outputs": [],
   "source": [
    "train_x_df.head()"
   ]
  },
  {
   "cell_type": "code",
   "execution_count": null,
   "metadata": {},
   "outputs": [],
   "source": [
    "train_y_df.head()"
   ]
  },
  {
   "cell_type": "code",
   "execution_count": null,
   "metadata": {
    "scrolled": false
   },
   "outputs": [],
   "source": [
    "test_x_df.head()"
   ]
  },
  {
   "cell_type": "markdown",
   "metadata": {
    "id": "G9AMliBFpc81"
   },
   "source": [
    "## 2) numpy arrary로 변환하기"
   ]
  },
  {
   "cell_type": "code",
   "execution_count": null,
   "metadata": {},
   "outputs": [],
   "source": [
    "def df2d_to_array3d(df_2d):\n",
    "    # 입력 받은 2차원 데이터 프레임을 3차원 numpy array로 변경하는 함수\n",
    "    feature_size = df_2d.iloc[:,2:].shape[1]\n",
    "    time_size = len(df_2d.time.value_counts())\n",
    "    sample_size = len(df_2d.sample_id.value_counts())\n",
    "    print(feature_size, time_size, sample_size)\n",
    "    print(sample_index)\n",
    "    sample_index = df_2d.sample_id.value_counts().index\n",
    "    array_3d = df_2d.iloc[:,2:].values.reshape([sample_size, time_size, feature_size])\n",
    "    return array_3d"
   ]
  },
  {
   "cell_type": "code",
   "execution_count": null,
   "metadata": {},
   "outputs": [],
   "source": [
    "print(train_x_df.shape)\n",
    "print(train_x_df.iloc[:, 2:].shape[1])\n",
    "print(train_x_df.sample_id.value_counts().index)\n",
    "train_x_df"
   ]
  },
  {
   "cell_type": "code",
   "execution_count": null,
   "metadata": {
    "id": "37kkNub5pc82"
   },
   "outputs": [],
   "source": [
    "def df2d_to_array3d(df_2d):\n",
    "    # 입력 받은 2차원 데이터 프레임을 3차원 numpy array로 변경하는 함수\n",
    "    feature_size = df_2d.iloc[:,2:].shape[1]\n",
    "    time_size = len(df_2d.time.value_counts())\n",
    "    sample_size = len(df_2d.sample_id.value_counts())\n",
    "    sample_index = df_2d.sample_id.value_counts().index\n",
    "    array_3d = df_2d.iloc[:,2:].values.reshape([sample_size, time_size, feature_size])\n",
    "    return array_3d"
   ]
  },
  {
   "cell_type": "code",
   "execution_count": null,
   "metadata": {
    "id": "yqy6-8Kbpc82"
   },
   "outputs": [],
   "source": [
    "train_x_array = df2d_to_array3d(train_x_df)\n",
    "train_y_array = df2d_to_array3d(train_y_df)\n",
    "test_x_array = df2d_to_array3d(test_x_df)"
   ]
  },
  {
   "cell_type": "code",
   "execution_count": null,
   "metadata": {
    "colab": {
     "base_uri": "https://localhost:8080/"
    },
    "id": "iQwrvA8rpc83",
    "outputId": "254e49da-96ec-4f6d-bb8b-b548d49f9b7a"
   },
   "outputs": [],
   "source": [
    "print(f'''\n",
    "train_x_array {train_x_array.shape}\n",
    "train_y_array {train_y_array.shape}\n",
    "test_x_array {test_x_array.shape}\n",
    "''')"
   ]
  },
  {
   "cell_type": "code",
   "execution_count": null,
   "metadata": {},
   "outputs": [],
   "source": [
    "train_x_df[train_x_df['sample_id']==9]"
   ]
  },
  {
   "cell_type": "code",
   "execution_count": null,
   "metadata": {
    "scrolled": true
   },
   "outputs": [],
   "source": [
    "train_x_df[train_x_df['sample_id']==9].time.nunique()"
   ]
  },
  {
   "cell_type": "code",
   "execution_count": null,
   "metadata": {
    "scrolled": true
   },
   "outputs": [],
   "source": [
    "train_x_df['sample_id'].nunique()"
   ]
  },
  {
   "cell_type": "code",
   "execution_count": null,
   "metadata": {},
   "outputs": [],
   "source": [
    "train_x_array[9,:,2]"
   ]
  },
  {
   "cell_type": "markdown",
   "metadata": {
    "id": "k5q2658lpc84"
   },
   "source": [
    "## 3) 샘플 확인하기"
   ]
  },
  {
   "cell_type": "code",
   "execution_count": null,
   "metadata": {
    "id": "8i3KkEeepc84"
   },
   "outputs": [],
   "source": [
    "def plot_series(x_series, y_series):\n",
    "    #입력 series와 출력 series를 연속적으로 연결하여 시각적으로 보여주는 코드 입니다.\n",
    "    plt.plot(x_series, label = 'input_series')\n",
    "    plt.plot(np.arange(len(x_series), len(x_series)+len(y_series)),\n",
    "             y_series, label = 'output_series')\n",
    "    plt.axhline(1, c = 'red')\n",
    "    plt.legend()"
   ]
  },
  {
   "cell_type": "code",
   "execution_count": null,
   "metadata": {
    "colab": {
     "base_uri": "https://localhost:8080/",
     "height": 212
    },
    "id": "PquVAYyppc85",
    "outputId": "74850b0a-c2f3-4fa9-f590-f9c88f838889"
   },
   "outputs": [],
   "source": [
    "# sample_id 1012에 해당하는 sample의 분단위 시가 변동 정보 시각화\n",
    "idx = 1012\n",
    "plot_series(train_x_array[idx,:,1], train_y_array[idx,:,1]) #종가\n",
    "plt.show()"
   ]
  },
  {
   "cell_type": "code",
   "execution_count": null,
   "metadata": {},
   "outputs": [],
   "source": [
    "# sample_id 1012에 해당하는 sample의 분단위 시가 변동 정보 시각화\n",
    "idx = 1021\n",
    "plot_series(train_x_array[idx,:,1], train_y_array[idx,:,1]) # 1-4, open, high, low, close\n",
    "plt.show()"
   ]
  },
  {
   "cell_type": "markdown",
   "metadata": {
    "id": "bFIBsI92pc85"
   },
   "source": [
    "# 3. 모델 훈련하기"
   ]
  },
  {
   "cell_type": "markdown",
   "metadata": {
    "id": "9o7iUwSSpc85"
   },
   "source": [
    "## 1) train 샘플 훈련하기 호가인하기"
   ]
  },
  {
   "cell_type": "code",
   "execution_count": 25,
   "metadata": {
    "id": "1PCfRyT-O57L"
   },
   "outputs": [],
   "source": [
    "start_time = '2021-01-31 00:00:00'\n",
    "start_dt = datetime.datetime.strptime(start_time, '%Y-%m-%d %H:%M:%S')"
   ]
  },
  {
   "cell_type": "code",
   "execution_count": 26,
   "metadata": {
    "id": "JHEvIk9KM1fO"
   },
   "outputs": [],
   "source": [
    "idx = 1004\n",
    "# train data 중 sample_id 1121에 해당하는 x_series로 arima 모델을 학습한 후\n",
    "# y_sereis를 추론\n",
    "x_series = train_x_array[idx,:,1]\n",
    "y_series = train_y_array[idx,:,1]"
   ]
  },
  {
   "cell_type": "code",
   "execution_count": 27,
   "metadata": {
    "id": "_wkNvaRAM3zu"
   },
   "outputs": [],
   "source": [
    "x_df = pd.DataFrame()\n",
    "x_df['ds'] = [start_dt + datetime.timedelta(minutes = time_min) for time_min in np.arange(1, x_series.shape[0]+1).tolist()]\n",
    "x_df['y'] = x_series.tolist()"
   ]
  },
  {
   "cell_type": "code",
   "execution_count": 28,
   "metadata": {},
   "outputs": [],
   "source": [
    "# n_forecasts=120, n_lags=100, \n",
    "#                 n_changepoints = n_changepoints,\n",
    "#                 yearly_seasonality=False,\n",
    "#                 weekly_seasonality=False, daily_seasonality=False,\n",
    "#                 batch_size=batch_size, learning_rate=learning_rate,\n",
    "#                 num_hidden_layers=num_hidden_layers, d_hidden=d_hidden,\n",
    "#                 changepoints_range=changepoints_range,"
   ]
  },
  {
   "cell_type": "code",
   "execution_count": 29,
   "metadata": {},
   "outputs": [],
   "source": [
    "# def scheduler(epoch, lr):  \n",
    "#     if epoch < 10:\n",
    "#         return lr\n",
    "#     else:\n",
    "#         return lr * tf.math.exp(-0.1)\n",
    "\n",
    "\n",
    "# callback = tf.keras.callbacks.LearningRateScheduler(scheduler)"
   ]
  },
  {
   "cell_type": "code",
   "execution_count": 30,
   "metadata": {},
   "outputs": [],
   "source": [
    "# nprophet = NeuralProphet(n_changepoints=20,\n",
    "\n",
    "# trend_reg=0.05,\n",
    "\n",
    "# yearly_seasonality=False,\n",
    "\n",
    "# weekly_seasonality=False,\n",
    "\n",
    "# daily_seasonality=False)"
   ]
  },
  {
   "cell_type": "code",
   "execution_count": 31,
   "metadata": {},
   "outputs": [],
   "source": [
    "# nprophet = NeuralProphet(yearly_seasonality=False,  growth=\"off\",\n",
    "#                 weekly_seasonality=False, daily_seasonality=False,\n",
    "#                 batch_size=batch_size, learning_rate=learning_rate,\n",
    "#                 num_hidden_layers=num_hidden_layers, d_hidden=d_hidden,\n",
    "#                 changepoints_range=changepoints_range, n_forecasts=n_forecasts,\n",
    "#                 ar_sparsity=0.01, n_changepoints=n_changepoints\n",
    "#             )"
   ]
  },
  {
   "cell_type": "code",
   "execution_count": 32,
   "metadata": {},
   "outputs": [],
   "source": [
    "# 파라미터 조정\n",
    "\n",
    "# # prophet\n",
    "# scale = 0.01\n",
    "# width = 0.95\n",
    "# point_range = 1\n",
    "\n",
    "## neural prophet\n",
    "epochs = 20\n",
    "batch_size = 16\n",
    "learning_rate = 0.001\n",
    "\n",
    "# AR net \n",
    "n_forecasts = 120 # 예측 기간의 크기  # future_periods랑 같아야한다. \n",
    "n_lags = 5  # >error : lambda delay가 없다 \n",
    "num_hidden_layers = 64 # AR-net compelxity 조절 \n",
    "ar_sparsity = 0.5  # 0-1, 0에 가까울수록 sparse함 \n",
    "\n",
    "d_hidden = 64 \n",
    "trend_smoothness = 1 \n",
    "n_changepoints = 20   # 변화점(changepoint)의 갯수 설정 \n",
    "changepoints_range = 1.0 # 변화점을 전체 데이터셋에서 몇 퍼센트 감지할지\n",
    "trend_reg = 0.1 "
   ]
  },
  {
   "cell_type": "code",
   "execution_count": 33,
   "metadata": {
    "colab": {
     "base_uri": "https://localhost:8080/"
    },
    "id": "tTWbr3B6OHKd",
    "outputId": "101df720-dd0e-42db-93f3-2d068c6639ec"
   },
   "outputs": [
    {
     "data": {
      "image/png": "[encoded data removed]",
      "text/plain": [
       "<Figure size 864x576 with 2 Axes>"
      ]
     },
     "metadata": {
      "needs_background": "light"
     },
     "output_type": "display_data"
    },
    {
     "name": "stderr",
     "output_type": "stream",
     "text": [
      "Epoch[20/20]: 100%|██████████| 20/20 [00:02<00:00,  7.71it/s, SmoothL1Loss=0.0648, MAE=0.0274, RegLoss=0.00064, MAE_val=0.0346, SmoothL1Loss_val=0.0982]\n"
     ]
    },
    {
     "data": {
      "text/plain": [
       "<neuralprophet.forecaster.NeuralProphet at 0x7f3f5531c210>"
      ]
     },
     "execution_count": 33,
     "metadata": {},
     "output_type": "execute_result"
    }
   ],
   "source": [
    "# nprophet = NeuralProphet(yearly_seasonality=False, \n",
    "#                 weekly_seasonality=False, daily_seasonality=False,\n",
    "#                 batch_size=batch_size, learning_rate=learning_rate,\n",
    "#                 num_hidden_layers=num_hidden_layers, d_hidden=d_hidden,\n",
    "#                 changepoints_range=changepoints_range, n_forecasts=n_forecasts,\n",
    "#                 ar_sparsity=0.01, n_changepoints=n_changepoints\n",
    "#             )\n",
    "\n",
    "# AR net \n",
    "nprophet = NeuralProphet(\n",
    "    n_forecasts=n_forecasts,\n",
    "    batch_size=batch_size, learning_rate=learning_rate,\n",
    "    yearly_seasonality=False,\n",
    "    weekly_seasonality=False,\n",
    "    daily_seasonality=False,\n",
    "    n_changepoints=n_changepoints, trend_reg=trend_reg\n",
    ")\n",
    "\n",
    "nprophet.fit(x_df, plot_live_loss=True, epochs=epochs, freq='min', validate_each_epoch=True, valid_p=0.1)\n",
    "\n",
    "\n",
    "nprophet.highlight_nth_step_ahead_of_each_forecast(step_number=nprophet.n_forecasts)"
   ]
  },
  {
   "cell_type": "code",
   "execution_count": 34,
   "metadata": {
    "colab": {
     "base_uri": "https://localhost:8080/",
     "height": 204
    },
    "id": "cZOSbwIEN-8s",
    "outputId": "373d37e4-3813-4814-bf18-eaa23b63d917",
    "scrolled": true
   },
   "outputs": [
    {
     "data": {
      "text/html": [
       "<div>\n",
       "<style scoped>\n",
       "    .dataframe tbody tr th:only-of-type {\n",
       "        vertical-align: middle;\n",
       "    }\n",
       "\n",
       "    .dataframe tbody tr th {\n",
       "        vertical-align: top;\n",
       "    }\n",
       "\n",
       "    .dataframe thead th {\n",
       "        text-align: right;\n",
       "    }\n",
       "</style>\n",
       "<table border=\"1\" class=\"dataframe\">\n",
       "  <thead>\n",
       "    <tr style=\"text-align: right;\">\n",
       "      <th></th>\n",
       "      <th>ds</th>\n",
       "      <th>y</th>\n",
       "    </tr>\n",
       "  </thead>\n",
       "  <tbody>\n",
       "    <tr>\n",
       "      <th>0</th>\n",
       "      <td>2021-01-31 00:01:00</td>\n",
       "      <td>0.945916</td>\n",
       "    </tr>\n",
       "    <tr>\n",
       "      <th>1</th>\n",
       "      <td>2021-01-31 00:02:00</td>\n",
       "      <td>0.946467</td>\n",
       "    </tr>\n",
       "    <tr>\n",
       "      <th>2</th>\n",
       "      <td>2021-01-31 00:03:00</td>\n",
       "      <td>0.946880</td>\n",
       "    </tr>\n",
       "    <tr>\n",
       "      <th>3</th>\n",
       "      <td>2021-01-31 00:04:00</td>\n",
       "      <td>0.947774</td>\n",
       "    </tr>\n",
       "    <tr>\n",
       "      <th>4</th>\n",
       "      <td>2021-01-31 00:05:00</td>\n",
       "      <td>0.947912</td>\n",
       "    </tr>\n",
       "  </tbody>\n",
       "</table>\n",
       "</div>"
      ],
      "text/plain": [
       "                   ds         y\n",
       "0 2021-01-31 00:01:00  0.945916\n",
       "1 2021-01-31 00:02:00  0.946467\n",
       "2 2021-01-31 00:03:00  0.946880\n",
       "3 2021-01-31 00:04:00  0.947774\n",
       "4 2021-01-31 00:05:00  0.947912"
      ]
     },
     "execution_count": 34,
     "metadata": {},
     "output_type": "execute_result"
    }
   ],
   "source": [
    "x_df.head()"
   ]
  },
  {
   "cell_type": "code",
   "execution_count": 35,
   "metadata": {
    "colab": {
     "base_uri": "https://localhost:8080/",
     "height": 394
    },
    "id": "6ntZW1-mQAa4",
    "outputId": "114f1da5-7eb5-4afb-969b-9edbf02500f9"
   },
   "outputs": [
    {
     "data": {
      "text/html": [
       "<div>\n",
       "<style scoped>\n",
       "    .dataframe tbody tr th:only-of-type {\n",
       "        vertical-align: middle;\n",
       "    }\n",
       "\n",
       "    .dataframe tbody tr th {\n",
       "        vertical-align: top;\n",
       "    }\n",
       "\n",
       "    .dataframe thead th {\n",
       "        text-align: right;\n",
       "    }\n",
       "</style>\n",
       "<table border=\"1\" class=\"dataframe\">\n",
       "  <thead>\n",
       "    <tr style=\"text-align: right;\">\n",
       "      <th></th>\n",
       "      <th>ds</th>\n",
       "      <th>y</th>\n",
       "      <th>yhat1</th>\n",
       "      <th>residual1</th>\n",
       "      <th>trend</th>\n",
       "    </tr>\n",
       "  </thead>\n",
       "  <tbody>\n",
       "    <tr>\n",
       "      <th>0</th>\n",
       "      <td>2021-01-31 00:01:00</td>\n",
       "      <td>0.945916</td>\n",
       "      <td>0.904028</td>\n",
       "      <td>-0.041889</td>\n",
       "      <td>0.904028</td>\n",
       "    </tr>\n",
       "    <tr>\n",
       "      <th>1</th>\n",
       "      <td>2021-01-31 00:02:00</td>\n",
       "      <td>0.946467</td>\n",
       "      <td>0.904032</td>\n",
       "      <td>-0.042435</td>\n",
       "      <td>0.904032</td>\n",
       "    </tr>\n",
       "    <tr>\n",
       "      <th>2</th>\n",
       "      <td>2021-01-31 00:03:00</td>\n",
       "      <td>0.946880</td>\n",
       "      <td>0.904036</td>\n",
       "      <td>-0.042844</td>\n",
       "      <td>0.904036</td>\n",
       "    </tr>\n",
       "    <tr>\n",
       "      <th>3</th>\n",
       "      <td>2021-01-31 00:04:00</td>\n",
       "      <td>0.947774</td>\n",
       "      <td>0.904040</td>\n",
       "      <td>-0.043735</td>\n",
       "      <td>0.904040</td>\n",
       "    </tr>\n",
       "    <tr>\n",
       "      <th>4</th>\n",
       "      <td>2021-01-31 00:05:00</td>\n",
       "      <td>0.947912</td>\n",
       "      <td>0.904043</td>\n",
       "      <td>-0.043868</td>\n",
       "      <td>0.904043</td>\n",
       "    </tr>\n",
       "  </tbody>\n",
       "</table>\n",
       "</div>"
      ],
      "text/plain": [
       "                   ds         y     yhat1  residual1     trend\n",
       "0 2021-01-31 00:01:00  0.945916  0.904028  -0.041889  0.904028\n",
       "1 2021-01-31 00:02:00  0.946467  0.904032  -0.042435  0.904032\n",
       "2 2021-01-31 00:03:00  0.946880  0.904036  -0.042844  0.904036\n",
       "3 2021-01-31 00:04:00  0.947774  0.904040  -0.043735  0.904040\n",
       "4 2021-01-31 00:05:00  0.947912  0.904043  -0.043868  0.904043"
      ]
     },
     "execution_count": 35,
     "metadata": {},
     "output_type": "execute_result"
    }
   ],
   "source": [
    "# 120분 테스트 데이터를 예측합니다.\n",
    "future_data = nprophet.make_future_dataframe(x_df, periods=120, n_historic_predictions=len(x_df))\n",
    "forecast_data = nprophet.predict(future_data)\n",
    "forecast_data[['ds', 'y', 'yhat1', 'trend']].tail(5)\n",
    "forecast_data.head()"
   ]
  },
  {
   "cell_type": "code",
   "execution_count": 36,
   "metadata": {
    "colab": {
     "base_uri": "https://localhost:8080/",
     "height": 194
    },
    "id": "sD_coq5wQoTp",
    "outputId": "1cff4e53-90fb-4616-c2a0-0a3844b246f0"
   },
   "outputs": [
    {
     "data": {
      "image/png": "[encoded data removed]",
      "text/plain": [
       "<Figure size 720x432 with 1 Axes>"
      ]
     },
     "metadata": {},
     "output_type": "display_data"
    }
   ],
   "source": [
    "# 만들어진 데이터를 확인합니다.\n",
    "fig1 = nprophet.plot(forecast_data)"
   ]
  },
  {
   "cell_type": "code",
   "execution_count": 37,
   "metadata": {
    "colab": {
     "base_uri": "https://localhost:8080/",
     "height": 113
    },
    "id": "W801QKVoRIZZ",
    "outputId": "868739ff-41f6-4cd8-9f6b-5d8e54bda244"
   },
   "outputs": [
    {
     "data": {
      "image/png": "[encoded data removed]",
      "text/plain": [
       "<Figure size 720x216 with 1 Axes>"
      ]
     },
     "metadata": {},
     "output_type": "display_data"
    }
   ],
   "source": [
    "# 데이터의 추세를 확인합니다.\n",
    "fig2 = nprophet.plot_components(forecast_data)"
   ]
  },
  {
   "cell_type": "code",
   "execution_count": 38,
   "metadata": {
    "colab": {
     "base_uri": "https://localhost:8080/",
     "height": 212
    },
    "id": "6bh85RPjRicv",
    "outputId": "d45673da-2939-46f7-9633-6485f5bdb636"
   },
   "outputs": [
    {
     "data": {
      "image/png": "[encoded data removed]",
      "text/plain": [
       "<Figure size 432x288 with 1 Axes>"
      ]
     },
     "metadata": {
      "needs_background": "light"
     },
     "output_type": "display_data"
    },
    {
     "data": {
      "text/plain": [
       "array([1.05610788, 1.05623019, 1.05635262, 1.05647492, 1.05659723,\n",
       "       1.05671954, 1.05684185, 1.05696428, 1.05708659, 1.0572089 ,\n",
       "       1.05733132, 1.05745363, 1.05757594, 1.05769825, 1.05782056,\n",
       "       1.05794299, 1.0580653 , 1.0581876 , 1.05830991, 1.05843234,\n",
       "       1.05855465, 1.05867696, 1.05879927, 1.05892169, 1.059044  ,\n",
       "       1.05916631, 1.05928862, 1.05941105, 1.05953336, 1.05965567,\n",
       "       1.05977798, 1.05990028, 1.06002271, 1.06014502, 1.06026733,\n",
       "       1.06038976, 1.06051207, 1.06063437, 1.06075668, 1.06087899,\n",
       "       1.06100142, 1.06112373, 1.06124604, 1.06136835, 1.06149077,\n",
       "       1.06161308, 1.06173539, 1.0618577 , 1.06198013, 1.06210244,\n",
       "       1.06222475, 1.06234705, 1.06246948, 1.06259179, 1.0627141 ,\n",
       "       1.06283641, 1.06295872, 1.06308115, 1.06320345, 1.06332576,\n",
       "       1.06344819, 1.0635705 , 1.06369281, 1.06381512, 1.06393754,\n",
       "       1.06405985, 1.06418216, 1.06430447, 1.06442678, 1.06454921,\n",
       "       1.06467152, 1.06479383, 1.06491613, 1.06503856, 1.06516087,\n",
       "       1.06528318, 1.06540549, 1.06552792, 1.06565022, 1.06577253,\n",
       "       1.06589484, 1.06601715, 1.06613958, 1.06626189, 1.0663842 ,\n",
       "       1.06650662, 1.06662893, 1.06675124, 1.06687355, 1.06699598,\n",
       "       1.06711829, 1.0672406 , 1.0673629 , 1.06748533, 1.06760764,\n",
       "       1.06772995, 1.06785226, 1.06797457, 1.068097  , 1.0682193 ,\n",
       "       1.06834161, 1.06846404, 1.06858635, 1.06870866, 1.06883097,\n",
       "       1.06895328, 1.06907558, 1.06919801, 1.06932032, 1.06944263,\n",
       "       1.06956506, 1.06968737, 1.06980968, 1.06993198, 1.07005429,\n",
       "       1.07017672, 1.07029903, 1.07042134, 1.07054377, 1.07066607])"
      ]
     },
     "execution_count": 38,
     "metadata": {},
     "output_type": "execute_result"
    }
   ],
   "source": [
    "y = forecast_data.y.values[-120:]\n",
    "pred_y = forecast_data.yhat1.values[-120:]\n",
    "trend = forecast_data.trend.values[-120:]\n",
    "residual = forecast_data.residual1.values[-120:]\n",
    "\n",
    "plot_series(x_series, y_series)\n",
    "plt.plot(np.arange(1380, 1380+120), y, label = 'y')\n",
    "plt.plot(np.arange(1380, 1380+120), pred_y, label = 'prediction')\n",
    "plt.plot(np.arange(1380, 1380+120), trend, label = 'trend')\n",
    "plt.plot(np.arange(1380, 1380+120), residual, label = 'residual')\n",
    "plt.legend()\n",
    "plt.show()\n",
    "\n",
    "pred_y"
   ]
  },
  {
   "cell_type": "markdown",
   "metadata": {
    "id": "YtuukNJWpc86"
   },
   "source": [
    "## 2) validation set 훈련하기\n",
    "### <1> validation 데이터 생성하기"
   ]
  },
  {
   "cell_type": "code",
   "execution_count": 39,
   "metadata": {
    "id": "ZCiQicATpc87"
   },
   "outputs": [],
   "source": [
    "# train 데이터 상단의 300개 샘플로 validation set를 구성하여 학습 및 추론\n",
    "valid_x_df = train_x_df[train_x_df.sample_id < 300]\n",
    "valid_y_df = train_y_df[train_y_df.sample_id < 300]\n",
    "\n",
    "valid_x_array = df2d_to_array3d(valid_x_df)\n",
    "valid_y_array = df2d_to_array3d(valid_y_df)\n",
    "valid_pred_array = np.zeros([300, 120])"
   ]
  },
  {
   "cell_type": "code",
   "execution_count": 40,
   "metadata": {},
   "outputs": [
    {
     "data": {
      "text/plain": [
       "(300, 1380, 10)"
      ]
     },
     "execution_count": 40,
     "metadata": {},
     "output_type": "execute_result"
    }
   ],
   "source": [
    "valid_x_array.shape"
   ]
  },
  {
   "cell_type": "markdown",
   "metadata": {
    "id": "qSa6gsKvpc87"
   },
   "source": [
    "### <2> 학습 및 추론하기"
   ]
  },
  {
   "cell_type": "code",
   "execution_count": 69,
   "metadata": {
    "colab": {
     "base_uri": "https://localhost:8080/"
    },
    "id": "fPBiAu0_pc87",
    "outputId": "5d921f99-cb48-451b-9a05-2543d06c1717",
    "scrolled": true
   },
   "outputs": [
    {
     "data": {
      "image/png": "[encoded data removed]",
      "text/plain": [
       "<Figure size 864x576 with 2 Axes>"
      ]
     },
     "metadata": {
      "needs_background": "light"
     },
     "output_type": "display_data"
    },
    {
     "name": "stderr",
     "output_type": "stream",
     "text": [
      "\n",
      "Epoch[20/20]: 100%|██████████| 20/20 [00:02<00:00,  7.99it/s, SmoothL1Loss=0.591, MAE=0.0925, RegLoss=0.000526, MAE_val=0.0795, SmoothL1Loss_val=0.357]\u001b[A\n",
      "100%|██████████| 300/300 [12:39<00:00,  2.53s/it]"
     ]
    },
    {
     "name": "stdout",
     "output_type": "stream",
     "text": [
      "299  샘플은 수렴하지 않습니다.\n"
     ]
    },
    {
     "name": "stderr",
     "output_type": "stream",
     "text": [
      "\n"
     ]
    }
   ],
   "source": [
    "for idx in tqdm(range(valid_x_array.shape[0])):\n",
    "    try:\n",
    "        x_series = valid_x_array[idx,:,1]\n",
    "\n",
    "        x_df = pd.DataFrame()\n",
    "        x_df['ds'] = [start_dt + datetime.timedelta(minutes = time_min) for time_min in np.arange(1, x_series.shape[0]+1).tolist()]\n",
    "        x_df['y'] = x_series.tolist()\n",
    "\n",
    "#         nprophet = NeuralProphet(yearly_seasonality=False,  growth=\"off\",\n",
    "#                 weekly_seasonality=False, daily_seasonality=False,\n",
    "#                 batch_size=batch_size, learning_rate=learning_rate,\n",
    "#                 num_hidden_layers=num_hidden_layers, d_hidden=d_hidden,\n",
    "#                 changepoints_range=changepoints_range, n_forecasts=n_forecasts\n",
    "#             )\n",
    "\n",
    "        nprophet = NeuralProphet(seasonality_mode='multiplicative',\n",
    "                n_forecasts=n_forecasts,\n",
    "                batch_size=batch_size, learning_rate=learning_rate,\n",
    "                yearly_seasonality=False,\n",
    "                weekly_seasonality=False,\n",
    "                daily_seasonality=False,\n",
    "                n_changepoints=n_changepoints, trend_reg=trend_reg\n",
    "            )\n",
    "\n",
    "        nprophet.fit(x_df, plot_live_loss=True, epochs=epochs, freq='min', validate_each_epoch=True, \n",
    "                            valid_p=0.1)\n",
    "\n",
    "\n",
    "        nprophet.highlight_nth_step_ahead_of_each_forecast(step_number=nprophet.n_forecasts)\n",
    "        # 120분 테스트 데이터를 예측합니다.\n",
    "        future_data = nprophet.make_future_dataframe(periods=120, freq='min')\n",
    "        forecast_data = nprophet.predict(future_data)\n",
    "\n",
    "        pred_y = forecast_data.yhat1.values[-120:]\n",
    "        trend = forecast_data.trend.values[-120:]\n",
    "        residual = forecast_data.residual1.values[-120:]\n",
    "\n",
    "        valid_pred_array[idx,:] = pred_y\n",
    "    except:\n",
    "        print(idx, \" 샘플은 수렴하지 않습니다.\")\n",
    "        pass"
   ]
  },
  {
   "cell_type": "code",
   "execution_count": 70,
   "metadata": {
    "scrolled": true
   },
   "outputs": [
    {
     "name": "stdout",
     "output_type": "stream",
     "text": [
      "300\n",
      "(300, 120)\n"
     ]
    }
   ],
   "source": [
    "print(len(valid_pred_array))\n",
    "print(valid_pred_array.shape)"
   ]
  },
  {
   "cell_type": "code",
   "execution_count": 71,
   "metadata": {
    "scrolled": false
   },
   "outputs": [
    {
     "data": {
      "text/plain": [
       "[<matplotlib.lines.Line2D at 0x7f3f5539fd90>]"
      ]
     },
     "execution_count": 71,
     "metadata": {},
     "output_type": "execute_result"
    },
    {
     "data": {
      "image/png": "[encoded data removed]",
      "text/plain": [
       "<Figure size 432x288 with 1 Axes>"
      ]
     },
     "metadata": {
      "needs_background": "light"
     },
     "output_type": "display_data"
    }
   ],
   "source": [
    "# plot_series(x_series[0], pred_y[0])\n",
    "plt.plot(valid_pred_array[1])"
   ]
  },
  {
   "cell_type": "markdown",
   "metadata": {
    "id": "4JG8kRkOpc88"
   },
   "source": [
    "### <3> valid_pred_array 로부터 buy_quantity, sell_time 구하기"
   ]
  },
  {
   "cell_type": "code",
   "execution_count": 72,
   "metadata": {
    "id": "j6KqLIzKpc88"
   },
   "outputs": [],
   "source": [
    "def array_to_submission(x_array, pred_array):\n",
    "    # 입력 x_arrry와 출력 pred_arry를 통해서 \n",
    "    # buy_quantitiy와 sell_time을 결정\n",
    "    submission = pd.DataFrame(np.zeros([pred_array.shape[0],2], np.int64),\n",
    "                columns = ['buy_quantity', 'sell_time'])\n",
    "    submission = submission.reset_index()\n",
    "    submission.loc[:, 'buy_quantity'] = 0.1\n",
    "    \n",
    "    buy_price = []\n",
    "    sell = []\n",
    "    for idx, sell_time in enumerate(np.argmax(pred_array, axis = 1)):\n",
    "        buy_price.append(pred_array[idx, sell_time])\n",
    "        \n",
    "    buy_price = np.array(buy_price)\n",
    "    # 115% 이상 상승한하고 예측한 sample에 대해서만 100% 매수\n",
    "    submission.loc[:, 'buy_quantity'] = (buy_price > 1.05) * 1\n",
    "    # 모델이 예측값 중 최대 값에 해당하는 시간에 매도\n",
    "    submission['sell_time'] = np.argmax(pred_array, axis = 1)\n",
    "    submission.columns = ['sample_id','buy_quantity', 'sell_time']\n",
    "    return submission"
   ]
  },
  {
   "cell_type": "code",
   "execution_count": 73,
   "metadata": {
    "id": "eglMXdGzpc88"
   },
   "outputs": [],
   "source": [
    "valid_submission = array_to_submission(valid_x_array, valid_pred_array)"
   ]
  },
  {
   "cell_type": "code",
   "execution_count": 74,
   "metadata": {},
   "outputs": [
    {
     "data": {
      "text/html": [
       "<div>\n",
       "<style scoped>\n",
       "    .dataframe tbody tr th:only-of-type {\n",
       "        vertical-align: middle;\n",
       "    }\n",
       "\n",
       "    .dataframe tbody tr th {\n",
       "        vertical-align: top;\n",
       "    }\n",
       "\n",
       "    .dataframe thead th {\n",
       "        text-align: right;\n",
       "    }\n",
       "</style>\n",
       "<table border=\"1\" class=\"dataframe\">\n",
       "  <thead>\n",
       "    <tr style=\"text-align: right;\">\n",
       "      <th></th>\n",
       "      <th>sample_id</th>\n",
       "      <th>buy_quantity</th>\n",
       "      <th>sell_time</th>\n",
       "    </tr>\n",
       "  </thead>\n",
       "  <tbody>\n",
       "    <tr>\n",
       "      <th>0</th>\n",
       "      <td>0</td>\n",
       "      <td>0</td>\n",
       "      <td>0</td>\n",
       "    </tr>\n",
       "    <tr>\n",
       "      <th>1</th>\n",
       "      <td>1</td>\n",
       "      <td>0</td>\n",
       "      <td>0</td>\n",
       "    </tr>\n",
       "    <tr>\n",
       "      <th>2</th>\n",
       "      <td>2</td>\n",
       "      <td>0</td>\n",
       "      <td>0</td>\n",
       "    </tr>\n",
       "    <tr>\n",
       "      <th>3</th>\n",
       "      <td>3</td>\n",
       "      <td>0</td>\n",
       "      <td>0</td>\n",
       "    </tr>\n",
       "    <tr>\n",
       "      <th>4</th>\n",
       "      <td>4</td>\n",
       "      <td>0</td>\n",
       "      <td>0</td>\n",
       "    </tr>\n",
       "  </tbody>\n",
       "</table>\n",
       "</div>"
      ],
      "text/plain": [
       "   sample_id  buy_quantity  sell_time\n",
       "0          0             0          0\n",
       "1          1             0          0\n",
       "2          2             0          0\n",
       "3          3             0          0\n",
       "4          4             0          0"
      ]
     },
     "execution_count": 74,
     "metadata": {},
     "output_type": "execute_result"
    }
   ],
   "source": [
    "valid_submission.head()"
   ]
  },
  {
   "cell_type": "code",
   "execution_count": 75,
   "metadata": {
    "id": "gkAoT7N-pc89"
   },
   "outputs": [
    {
     "data": {
      "text/plain": [
       "Series([], Name: sell_time, dtype: int64)"
      ]
     },
     "execution_count": 75,
     "metadata": {},
     "output_type": "execute_result"
    }
   ],
   "source": [
    "valid_submission[valid_submission['sell_time']!=0]['sell_time']"
   ]
  },
  {
   "cell_type": "code",
   "execution_count": 76,
   "metadata": {
    "colab": {
     "base_uri": "https://localhost:8080/"
    },
    "id": "LhFcUSVapc89",
    "outputId": "2e620f1c-f2cb-4658-cf2f-3831aeb6a2ad"
   },
   "outputs": [
    {
     "data": {
      "text/plain": [
       "0    300\n",
       "Name: buy_quantity, dtype: int64"
      ]
     },
     "execution_count": 76,
     "metadata": {},
     "output_type": "execute_result"
    }
   ],
   "source": [
    "# 전체 300가지 sample에 대해\n",
    "# 5가지 case에서 115% 이상 상승한다고 추론함.\n",
    "valid_submission.buy_quantity.value_counts()"
   ]
  },
  {
   "cell_type": "markdown",
   "metadata": {
    "id": "SgR-gqhmpc89"
   },
   "source": [
    "### <4> 투자 후 금액 계산하기"
   ]
  },
  {
   "cell_type": "code",
   "execution_count": 77,
   "metadata": {
    "id": "Z7033aeGpc8-"
   },
   "outputs": [],
   "source": [
    "def df2d_to_answer(df_2d):\n",
    "    # valid_y_df로부터\n",
    "    # open 가격 정보가 포함된\n",
    "    # [샘플 수, 120분] 크기의 \n",
    "    # 2차원 array를 반환하는 함수\n",
    "    feature_size = df_2d.iloc[:,2:].shape[1]\n",
    "    time_size = len(df_2d.time.value_counts())\n",
    "    sample_size = len(df_2d.sample_id.value_counts())\n",
    "    sample_index = df_2d.sample_id.value_counts().index\n",
    "    array_2d = df_2d.open.values.reshape([sample_size, time_size])\n",
    "    sample_index = list(sample_index)\n",
    "    return array_2d, sample_index\n",
    "\n",
    "\n",
    "def COIN(y_df, submission, df2d_to_answer = df2d_to_answer):\n",
    "    # 2차원 데이터프레임에서 open 시점 데이터만 추출하여 array로 복원\n",
    "    # sample_id정보를 index에 저장\n",
    "    y_array, index = df2d_to_answer(y_df)\n",
    "    \n",
    "    # index 기준으로 submission을 다시 선택\n",
    "    submission = submission.set_index(submission.columns[0])\n",
    "    submission = submission.iloc[index, :]    \n",
    "    \n",
    "    # 초기 투자 비용은 10000 달러\n",
    "    total_momey      = 10000 # dolors\n",
    "    total_momey_list = []\n",
    "    \n",
    "    # 가장 처음 sample_id값\n",
    "    start_index = submission.index[0]\n",
    "    for row_idx in submission.index:\n",
    "        sell_time  = submission.loc[row_idx, 'sell_time']\n",
    "        buy_price  = y_array[row_idx - start_index, 0]\n",
    "        sell_price = y_array[row_idx - start_index, sell_time]\n",
    "        buy_quantity = submission.loc[row_idx, 'buy_quantity'] * total_momey\n",
    "        residual = total_momey - buy_quantity\n",
    "        ratio = sell_price / buy_price\n",
    "        total_momey = buy_quantity * ratio * 0.9995 * 0.9995 + residual        \n",
    "        total_momey_list.append(total_momey)\n",
    "        \n",
    "    return total_momey, total_momey_list"
   ]
  },
  {
   "cell_type": "code",
   "execution_count": 78,
   "metadata": {
    "id": "aRmXcrh5pc8-"
   },
   "outputs": [],
   "source": [
    "total_momey, total_momey_list = COIN(valid_y_df,\n",
    "                                     valid_submission)"
   ]
  },
  {
   "cell_type": "code",
   "execution_count": 79,
   "metadata": {
    "colab": {
     "base_uri": "https://localhost:8080/"
    },
    "id": "0afyWYRWpc8-",
    "outputId": "8f026a85-5954-422f-d088-9d3847ca29f5"
   },
   "outputs": [
    {
     "name": "stdout",
     "output_type": "stream",
     "text": [
      "10000.0\n"
     ]
    }
   ],
   "source": [
    "# 투자 후 금액\n",
    "print(total_momey)"
   ]
  },
  {
   "cell_type": "code",
   "execution_count": 80,
   "metadata": {
    "id": "AMov4MX3pc8_"
   },
   "outputs": [
    {
     "data": {
      "image/png": "[encoded data removed]",
      "text/plain": [
       "<Figure size 432x288 with 1 Axes>"
      ]
     },
     "metadata": {
      "needs_background": "light"
     },
     "output_type": "display_data"
    }
   ],
   "source": [
    "# 투자 히스토리\n",
    "plt.plot(total_momey_list)\n",
    "plt.title(\"history\")\n",
    "plt.show()"
   ]
  },
  {
   "cell_type": "markdown",
   "metadata": {
    "id": "dmeXYUE1pc8_"
   },
   "source": [
    "# 4. test 데이터 학습하고 추론하기"
   ]
  },
  {
   "cell_type": "code",
   "execution_count": null,
   "metadata": {
    "colab": {
     "base_uri": "https://localhost:8080/"
    },
    "id": "4QVrQn_opc8_",
    "outputId": "b0b80dad-e516-43d9-d2ab-4f5de2320604",
    "scrolled": true
   },
   "outputs": [
    {
     "data": {
      "image/png": "[encoded data removed]",
      "text/plain": [
       "<Figure size 864x576 with 2 Axes>"
      ]
     },
     "metadata": {
      "needs_background": "light"
     },
     "output_type": "display_data"
    },
    {
     "name": "stderr",
     "output_type": "stream",
     "text": [
      "\n",
      "Epoch[1/20]:   5%|▌         | 1/20 [13:25<4:15:04, 805.49s/it, SmoothL1Loss=0.256, MAE=0.0547, SmoothL1Loss-1=0.256, MAE-1=0.0547, RegLoss=0.00138, MAE-1_val=0.0474, MAE_val=0.0474, SmoothL1Loss-1_val=0.129, SmoothL1Loss_val=0.129]\u001b[A\n",
      "Epoch[2/20]:   5%|▌         | 1/20 [26:51<4:15:04, 805.49s/it, SmoothL1Loss=0.256, MAE=0.0547, SmoothL1Loss-1=0.256, MAE-1=0.0547, RegLoss=0.00138, MAE-1_val=0.0474, MAE_val=0.0474, SmoothL1Loss-1_val=0.129, SmoothL1Loss_val=0.129]\u001b[A\n",
      "Epoch[2/20]:   5%|▌         | 1/20 [26:51<4:15:04, 805.49s/it, SmoothL1Loss=0.253, MAE=0.0548, SmoothL1Loss-1=0.253, MAE-1=0.0548, RegLoss=0.00138, MAE-1_val=0.0491, MAE_val=0.0491, SmoothL1Loss-1_val=0.138, SmoothL1Loss_val=0.138]\u001b[A\n",
      "Epoch[2/20]:  10%|█         | 2/20 [26:51<4:01:40, 805.60s/it, SmoothL1Loss=0.253, MAE=0.0548, SmoothL1Loss-1=0.253, MAE-1=0.0548, RegLoss=0.00138, MAE-1_val=0.0491, MAE_val=0.0491, SmoothL1Loss-1_val=0.138, SmoothL1Loss_val=0.138]\u001b[A"
     ]
    }
   ],
   "source": [
    "test_pred_array = np.zeros([test_x_array.shape[0],\n",
    "                           120])\n",
    "\n",
    "def scheduler(epoch, lr):\n",
    "    if epoch < 10:\n",
    "        return lr\n",
    "    else:\n",
    "        return lr * tf.math.exp(-0.1)\n",
    "\n",
    "for idx in tqdm(range(test_x_array.shape[0])):\n",
    "    try:\n",
    "        x_series = test_x_array[idx,:,1]\n",
    "\n",
    "        x_df = pd.DataFrame()\n",
    "        x_df['ds'] = [start_dt + datetime.timedelta(minutes = time_min) for time_min in np.arange(1, x_series.shape[0]+1).tolist()]\n",
    "        x_df['y'] = x_series.tolist()\n",
    "\n",
    "#         nprophet = NeuralProphet(yearly_seasonality=False,  growth=\"off\",\n",
    "#                 weekly_seasonality=False, daily_seasonality=False,\n",
    "#                 batch_size=batch_size, learning_rate=learning_rate,\n",
    "#                 num_hidden_layers=num_hidden_layers, d_hidden=d_hidden,\n",
    "#                 changepoints_range=changepoints_range, n_forecasts=n_forecasts\n",
    "#             )\n",
    "\n",
    "        nprophet.fit(x_df, plot_live_loss=True, epochs=epochs, freq='min', validate_each_epoch=True, \n",
    "                            valid_p=0.1,)\n",
    "\n",
    "\n",
    "        nprophet.highlight_nth_step_ahead_of_each_forecast(step_number=nprophet.n_forecasts)\n",
    "\n",
    "        # 120분 테스트 데이터를 예측합니다.\n",
    "        future_data = nprophet.make_future_dataframe(periods=120, freq='min')\n",
    "        forecast_data = nprophet.predict(future_data)\n",
    "\n",
    "        pred_y = forecast_data.yhat.values[-120:]\n",
    "        pred_y_lower = forecast_data.yhat_lower.values[-120:]\n",
    "        pred_y_upper = forecast_data.yhat_upper.values[-120:]\n",
    "\n",
    "        test_pred_array[idx,:] = pred_y\n",
    "    except:\n",
    "        print(idx, \" 샘플은 수렴하지 않습니다.\")\n",
    "        pass"
   ]
  },
  {
   "cell_type": "code",
   "execution_count": null,
   "metadata": {},
   "outputs": [],
   "source": [
    "x_df"
   ]
  },
  {
   "cell_type": "code",
   "execution_count": null,
   "metadata": {},
   "outputs": [],
   "source": [
    "fig_comp = nprophet.plot_components(forecast_data)"
   ]
  },
  {
   "cell_type": "code",
   "execution_count": null,
   "metadata": {},
   "outputs": [],
   "source": [
    "from fbprophet.plot import add_changepoints_to_plot\n",
    "\n",
    "fig = nprophet.plot(forecast_data)"
   ]
  },
  {
   "cell_type": "markdown",
   "metadata": {
    "id": "p14PbsG2pc9A"
   },
   "source": [
    "## 추론한 test_pred_array를 바탕으로 submission df 생성하기"
   ]
  },
  {
   "cell_type": "code",
   "execution_count": null,
   "metadata": {
    "id": "Xq8zvVmRpc9B"
   },
   "outputs": [],
   "source": [
    "submission = array_to_submission(test_x_array, test_pred_array)"
   ]
  },
  {
   "cell_type": "code",
   "execution_count": null,
   "metadata": {
    "id": "iIVecsHSpc9B"
   },
   "outputs": [],
   "source": [
    "import time\n",
    "\n",
    "submission.to_csv(data_path+\"/nproh_{}.csv\".format(time.strftime('%H%M%S')), index = False)"
   ]
  },
  {
   "cell_type": "code",
   "execution_count": null,
   "metadata": {},
   "outputs": [],
   "source": [
    "# submission.to_csv(data_path+\"/proh_scale={}_width={}_range={}_{}.csv\".format(scale, width, point_range, time.strftime('%H%M%S')), index = False)"
   ]
  },
  {
   "cell_type": "code",
   "execution_count": null,
   "metadata": {},
   "outputs": [],
   "source": [
    "submission[submission['sell_time']!=0]['sell_time']"
   ]
  },
  {
   "cell_type": "code",
   "execution_count": null,
   "metadata": {
    "scrolled": false
   },
   "outputs": [],
   "source": [
    "submission.buy_quantity.value_counts()"
   ]
  },
  {
   "cell_type": "code",
   "execution_count": null,
   "metadata": {},
   "outputs": [],
   "source": [
    "submission"
   ]
  }
 ],
 "metadata": {
  "colab": {
   "collapsed_sections": [],
   "name": "인공지능_비트 트레이더 경진대회 fbprophet 베이스라인.ipynb",
   "provenance": []
  },
  "kernelspec": {
   "display_name": "Python 3",
   "language": "python",
   "name": "python3"
  },
  "language_info": {
   "codemirror_mode": {
    "name": "ipython",
    "version": 3
   },
   "file_extension": ".py",
   "mimetype": "text/x-python",
   "name": "python",
   "nbconvert_exporter": "python",
   "pygments_lexer": "ipython3",
   "version": "3.7.9"
  }
 },
 "nbformat": 4,
 "nbformat_minor": 1
}
